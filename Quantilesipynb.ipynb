{
  "nbformat": 4,
  "nbformat_minor": 0,
  "metadata": {
    "colab": {
      "provenance": []
    },
    "kernelspec": {
      "name": "ir",
      "display_name": "R"
    },
    "language_info": {
      "name": "R"
    }
  },
  "cells": [
    {
      "cell_type": "code",
      "execution_count": 1,
      "metadata": {
        "colab": {
          "base_uri": "https://localhost:8080/",
          "height": 156
        },
        "id": "CCohlXkiOWA5",
        "outputId": "b71a7165-10fe-4e09-ed0d-d9f20f86aec5"
      },
      "outputs": [
        {
          "output_type": "display_data",
          "data": {
            "text/html": [
              "<style>\n",
              ".list-inline {list-style: none; margin:0; padding: 0}\n",
              ".list-inline>li {display: inline-block}\n",
              ".list-inline>li:not(:last-child)::after {content: \"\\00b7\"; padding: 0 .5ex}\n",
              "</style>\n",
              "<ol class=list-inline><li>73</li><li>44</li><li>4</li><li>2</li><li>3</li><li>78</li><li>15</li><li>38</li><li>59</li><li>70</li><li>80</li><li>40</li><li>19</li><li>64</li><li>41</li><li>29</li><li>69</li><li>9</li><li>83</li><li>34</li><li>90</li><li>52</li><li>100</li><li>32</li><li>25</li><li>8</li><li>49</li><li>27</li><li>41</li><li>29</li><li>12</li><li>59</li><li>68</li><li>41</li><li>61</li><li>61</li><li>9</li><li>46</li><li>76</li><li>93</li><li>45</li><li>42</li><li>8</li><li>80</li><li>29</li><li>38</li><li>2</li><li>100</li><li>25</li><li>11</li><li>8</li><li>15</li><li>46</li><li>10</li><li>12</li><li>44</li><li>98</li><li>69</li><li>64</li><li>80</li><li>58</li><li>3</li><li>94</li><li>75</li><li>87</li><li>63</li><li>18</li><li>2</li><li>7</li><li>74</li><li>96</li><li>12</li><li>64</li><li>94</li><li>82</li><li>38</li><li>96</li><li>37</li><li>16</li><li>97</li><li>94</li><li>11</li><li>78</li><li>60</li><li>89</li><li>95</li><li>84</li><li>32</li><li>71</li><li>48</li><li>68</li><li>40</li><li>71</li><li>75</li><li>68</li><li>50</li><li>43</li><li>45</li><li>63</li><li>89</li><li>38</li><li>79</li><li>98</li><li>99</li><li>51</li><li>90</li><li>9</li><li>49</li><li>5</li><li>91</li><li>30</li><li>30</li><li>94</li><li>71</li><li>16</li><li>80</li><li>56</li><li>26</li><li>42</li><li>45</li><li>38</li><li>7</li><li>15</li><li>51</li><li>2</li><li>10</li><li>45</li><li>11</li><li>15</li><li>18</li><li>60</li><li>53</li><li>57</li><li>39</li><li>22</li><li>41</li><li>1</li><li>18</li><li>50</li><li>26</li><li>60</li><li>79</li><li>12</li><li>52</li><li>36</li><li>96</li><li>48</li><li>0</li><li>61</li><li>22</li><li>7</li><li>76</li><li>79</li><li>13</li><li>41</li><li>14</li><li>5</li><li>58</li><li>4</li><li>38</li><li>17</li><li>83</li><li>84</li><li>10</li><li>29</li><li>17</li><li>93</li><li>9</li><li>85</li><li>96</li><li>68</li><li>4</li><li>90</li><li>31</li><li>54</li><li>94</li><li>13</li><li>73</li><li>45</li><li>67</li><li>90</li><li>82</li><li>98</li><li>48</li><li>73</li><li>51</li><li>38</li><li>89</li><li>76</li><li>76</li><li>0</li><li>2</li><li>95</li><li>77</li><li>55</li><li>96</li><li>25</li><li>47</li><li>74</li><li>73</li><li>⋯</li><li>67</li><li>21</li><li>66</li><li>89</li><li>22</li><li>40</li><li>75</li><li>8</li><li>40</li><li>93</li><li>86</li><li>81</li><li>8</li><li>39</li><li>57</li><li>99</li><li>33</li><li>73</li><li>91</li><li>18</li><li>55</li><li>18</li><li>32</li><li>39</li><li>98</li><li>77</li><li>29</li><li>2</li><li>36</li><li>48</li><li>73</li><li>100</li><li>7</li><li>56</li><li>38</li><li>34</li><li>69</li><li>0</li><li>58</li><li>59</li><li>4</li><li>69</li><li>78</li><li>90</li><li>38</li><li>29</li><li>40</li><li>60</li><li>69</li><li>55</li><li>16</li><li>15</li><li>62</li><li>79</li><li>3</li><li>28</li><li>62</li><li>48</li><li>10</li><li>19</li><li>91</li><li>12</li><li>87</li><li>26</li><li>4</li><li>47</li><li>77</li><li>89</li><li>24</li><li>6</li><li>57</li><li>94</li><li>57</li><li>40</li><li>34</li><li>1</li><li>49</li><li>68</li><li>54</li><li>18</li><li>90</li><li>47</li><li>40</li><li>24</li><li>66</li><li>81</li><li>97</li><li>35</li><li>97</li><li>44</li><li>74</li><li>67</li><li>70</li><li>46</li><li>10</li><li>68</li><li>88</li><li>17</li><li>70</li><li>53</li><li>51</li><li>69</li><li>70</li><li>36</li><li>91</li><li>72</li><li>73</li><li>90</li><li>37</li><li>7</li><li>36</li><li>95</li><li>97</li><li>38</li><li>73</li><li>64</li><li>52</li><li>86</li><li>47</li><li>91</li><li>80</li><li>66</li><li>47</li><li>78</li><li>26</li><li>73</li><li>54</li><li>77</li><li>60</li><li>9</li><li>55</li><li>83</li><li>7</li><li>36</li><li>99</li><li>56</li><li>22</li><li>86</li><li>16</li><li>21</li><li>44</li><li>92</li><li>32</li><li>82</li><li>50</li><li>13</li><li>74</li><li>70</li><li>20</li><li>5</li><li>3</li><li>9</li><li>82</li><li>38</li><li>76</li><li>95</li><li>18</li><li>85</li><li>26</li><li>96</li><li>25</li><li>90</li><li>33</li><li>82</li><li>57</li><li>55</li><li>85</li><li>17</li><li>67</li><li>70</li><li>62</li><li>37</li><li>39</li><li>70</li><li>22</li><li>46</li><li>35</li><li>85</li><li>55</li><li>12</li><li>23</li><li>2</li><li>54</li><li>79</li><li>72</li><li>11</li><li>39</li><li>71</li><li>85</li><li>22</li><li>26</li><li>72</li><li>90</li><li>10</li><li>71</li><li>59</li><li>5</li><li>74</li><li>13</li><li>0</li></ol>\n"
            ],
            "text/markdown": "1. 73\n2. 44\n3. 4\n4. 2\n5. 3\n6. 78\n7. 15\n8. 38\n9. 59\n10. 70\n11. 80\n12. 40\n13. 19\n14. 64\n15. 41\n16. 29\n17. 69\n18. 9\n19. 83\n20. 34\n21. 90\n22. 52\n23. 100\n24. 32\n25. 25\n26. 8\n27. 49\n28. 27\n29. 41\n30. 29\n31. 12\n32. 59\n33. 68\n34. 41\n35. 61\n36. 61\n37. 9\n38. 46\n39. 76\n40. 93\n41. 45\n42. 42\n43. 8\n44. 80\n45. 29\n46. 38\n47. 2\n48. 100\n49. 25\n50. 11\n51. 8\n52. 15\n53. 46\n54. 10\n55. 12\n56. 44\n57. 98\n58. 69\n59. 64\n60. 80\n61. 58\n62. 3\n63. 94\n64. 75\n65. 87\n66. 63\n67. 18\n68. 2\n69. 7\n70. 74\n71. 96\n72. 12\n73. 64\n74. 94\n75. 82\n76. 38\n77. 96\n78. 37\n79. 16\n80. 97\n81. 94\n82. 11\n83. 78\n84. 60\n85. 89\n86. 95\n87. 84\n88. 32\n89. 71\n90. 48\n91. 68\n92. 40\n93. 71\n94. 75\n95. 68\n96. 50\n97. 43\n98. 45\n99. 63\n100. 89\n101. 38\n102. 79\n103. 98\n104. 99\n105. 51\n106. 90\n107. 9\n108. 49\n109. 5\n110. 91\n111. 30\n112. 30\n113. 94\n114. 71\n115. 16\n116. 80\n117. 56\n118. 26\n119. 42\n120. 45\n121. 38\n122. 7\n123. 15\n124. 51\n125. 2\n126. 10\n127. 45\n128. 11\n129. 15\n130. 18\n131. 60\n132. 53\n133. 57\n134. 39\n135. 22\n136. 41\n137. 1\n138. 18\n139. 50\n140. 26\n141. 60\n142. 79\n143. 12\n144. 52\n145. 36\n146. 96\n147. 48\n148. 0\n149. 61\n150. 22\n151. 7\n152. 76\n153. 79\n154. 13\n155. 41\n156. 14\n157. 5\n158. 58\n159. 4\n160. 38\n161. 17\n162. 83\n163. 84\n164. 10\n165. 29\n166. 17\n167. 93\n168. 9\n169. 85\n170. 96\n171. 68\n172. 4\n173. 90\n174. 31\n175. 54\n176. 94\n177. 13\n178. 73\n179. 45\n180. 67\n181. 90\n182. 82\n183. 98\n184. 48\n185. 73\n186. 51\n187. 38\n188. 89\n189. 76\n190. 76\n191. 0\n192. 2\n193. 95\n194. 77\n195. 55\n196. 96\n197. 25\n198. 47\n199. 74\n200. 73\n201. ⋯\n202. 67\n203. 21\n204. 66\n205. 89\n206. 22\n207. 40\n208. 75\n209. 8\n210. 40\n211. 93\n212. 86\n213. 81\n214. 8\n215. 39\n216. 57\n217. 99\n218. 33\n219. 73\n220. 91\n221. 18\n222. 55\n223. 18\n224. 32\n225. 39\n226. 98\n227. 77\n228. 29\n229. 2\n230. 36\n231. 48\n232. 73\n233. 100\n234. 7\n235. 56\n236. 38\n237. 34\n238. 69\n239. 0\n240. 58\n241. 59\n242. 4\n243. 69\n244. 78\n245. 90\n246. 38\n247. 29\n248. 40\n249. 60\n250. 69\n251. 55\n252. 16\n253. 15\n254. 62\n255. 79\n256. 3\n257. 28\n258. 62\n259. 48\n260. 10\n261. 19\n262. 91\n263. 12\n264. 87\n265. 26\n266. 4\n267. 47\n268. 77\n269. 89\n270. 24\n271. 6\n272. 57\n273. 94\n274. 57\n275. 40\n276. 34\n277. 1\n278. 49\n279. 68\n280. 54\n281. 18\n282. 90\n283. 47\n284. 40\n285. 24\n286. 66\n287. 81\n288. 97\n289. 35\n290. 97\n291. 44\n292. 74\n293. 67\n294. 70\n295. 46\n296. 10\n297. 68\n298. 88\n299. 17\n300. 70\n301. 53\n302. 51\n303. 69\n304. 70\n305. 36\n306. 91\n307. 72\n308. 73\n309. 90\n310. 37\n311. 7\n312. 36\n313. 95\n314. 97\n315. 38\n316. 73\n317. 64\n318. 52\n319. 86\n320. 47\n321. 91\n322. 80\n323. 66\n324. 47\n325. 78\n326. 26\n327. 73\n328. 54\n329. 77\n330. 60\n331. 9\n332. 55\n333. 83\n334. 7\n335. 36\n336. 99\n337. 56\n338. 22\n339. 86\n340. 16\n341. 21\n342. 44\n343. 92\n344. 32\n345. 82\n346. 50\n347. 13\n348. 74\n349. 70\n350. 20\n351. 5\n352. 3\n353. 9\n354. 82\n355. 38\n356. 76\n357. 95\n358. 18\n359. 85\n360. 26\n361. 96\n362. 25\n363. 90\n364. 33\n365. 82\n366. 57\n367. 55\n368. 85\n369. 17\n370. 67\n371. 70\n372. 62\n373. 37\n374. 39\n375. 70\n376. 22\n377. 46\n378. 35\n379. 85\n380. 55\n381. 12\n382. 23\n383. 2\n384. 54\n385. 79\n386. 72\n387. 11\n388. 39\n389. 71\n390. 85\n391. 22\n392. 26\n393. 72\n394. 90\n395. 10\n396. 71\n397. 59\n398. 5\n399. 74\n400. 13\n401. 0\n\n\n",
            "text/latex": "\\begin{enumerate*}\n\\item 73\n\\item 44\n\\item 4\n\\item 2\n\\item 3\n\\item 78\n\\item 15\n\\item 38\n\\item 59\n\\item 70\n\\item 80\n\\item 40\n\\item 19\n\\item 64\n\\item 41\n\\item 29\n\\item 69\n\\item 9\n\\item 83\n\\item 34\n\\item 90\n\\item 52\n\\item 100\n\\item 32\n\\item 25\n\\item 8\n\\item 49\n\\item 27\n\\item 41\n\\item 29\n\\item 12\n\\item 59\n\\item 68\n\\item 41\n\\item 61\n\\item 61\n\\item 9\n\\item 46\n\\item 76\n\\item 93\n\\item 45\n\\item 42\n\\item 8\n\\item 80\n\\item 29\n\\item 38\n\\item 2\n\\item 100\n\\item 25\n\\item 11\n\\item 8\n\\item 15\n\\item 46\n\\item 10\n\\item 12\n\\item 44\n\\item 98\n\\item 69\n\\item 64\n\\item 80\n\\item 58\n\\item 3\n\\item 94\n\\item 75\n\\item 87\n\\item 63\n\\item 18\n\\item 2\n\\item 7\n\\item 74\n\\item 96\n\\item 12\n\\item 64\n\\item 94\n\\item 82\n\\item 38\n\\item 96\n\\item 37\n\\item 16\n\\item 97\n\\item 94\n\\item 11\n\\item 78\n\\item 60\n\\item 89\n\\item 95\n\\item 84\n\\item 32\n\\item 71\n\\item 48\n\\item 68\n\\item 40\n\\item 71\n\\item 75\n\\item 68\n\\item 50\n\\item 43\n\\item 45\n\\item 63\n\\item 89\n\\item 38\n\\item 79\n\\item 98\n\\item 99\n\\item 51\n\\item 90\n\\item 9\n\\item 49\n\\item 5\n\\item 91\n\\item 30\n\\item 30\n\\item 94\n\\item 71\n\\item 16\n\\item 80\n\\item 56\n\\item 26\n\\item 42\n\\item 45\n\\item 38\n\\item 7\n\\item 15\n\\item 51\n\\item 2\n\\item 10\n\\item 45\n\\item 11\n\\item 15\n\\item 18\n\\item 60\n\\item 53\n\\item 57\n\\item 39\n\\item 22\n\\item 41\n\\item 1\n\\item 18\n\\item 50\n\\item 26\n\\item 60\n\\item 79\n\\item 12\n\\item 52\n\\item 36\n\\item 96\n\\item 48\n\\item 0\n\\item 61\n\\item 22\n\\item 7\n\\item 76\n\\item 79\n\\item 13\n\\item 41\n\\item 14\n\\item 5\n\\item 58\n\\item 4\n\\item 38\n\\item 17\n\\item 83\n\\item 84\n\\item 10\n\\item 29\n\\item 17\n\\item 93\n\\item 9\n\\item 85\n\\item 96\n\\item 68\n\\item 4\n\\item 90\n\\item 31\n\\item 54\n\\item 94\n\\item 13\n\\item 73\n\\item 45\n\\item 67\n\\item 90\n\\item 82\n\\item 98\n\\item 48\n\\item 73\n\\item 51\n\\item 38\n\\item 89\n\\item 76\n\\item 76\n\\item 0\n\\item 2\n\\item 95\n\\item 77\n\\item 55\n\\item 96\n\\item 25\n\\item 47\n\\item 74\n\\item 73\n\\item ⋯\n\\item 67\n\\item 21\n\\item 66\n\\item 89\n\\item 22\n\\item 40\n\\item 75\n\\item 8\n\\item 40\n\\item 93\n\\item 86\n\\item 81\n\\item 8\n\\item 39\n\\item 57\n\\item 99\n\\item 33\n\\item 73\n\\item 91\n\\item 18\n\\item 55\n\\item 18\n\\item 32\n\\item 39\n\\item 98\n\\item 77\n\\item 29\n\\item 2\n\\item 36\n\\item 48\n\\item 73\n\\item 100\n\\item 7\n\\item 56\n\\item 38\n\\item 34\n\\item 69\n\\item 0\n\\item 58\n\\item 59\n\\item 4\n\\item 69\n\\item 78\n\\item 90\n\\item 38\n\\item 29\n\\item 40\n\\item 60\n\\item 69\n\\item 55\n\\item 16\n\\item 15\n\\item 62\n\\item 79\n\\item 3\n\\item 28\n\\item 62\n\\item 48\n\\item 10\n\\item 19\n\\item 91\n\\item 12\n\\item 87\n\\item 26\n\\item 4\n\\item 47\n\\item 77\n\\item 89\n\\item 24\n\\item 6\n\\item 57\n\\item 94\n\\item 57\n\\item 40\n\\item 34\n\\item 1\n\\item 49\n\\item 68\n\\item 54\n\\item 18\n\\item 90\n\\item 47\n\\item 40\n\\item 24\n\\item 66\n\\item 81\n\\item 97\n\\item 35\n\\item 97\n\\item 44\n\\item 74\n\\item 67\n\\item 70\n\\item 46\n\\item 10\n\\item 68\n\\item 88\n\\item 17\n\\item 70\n\\item 53\n\\item 51\n\\item 69\n\\item 70\n\\item 36\n\\item 91\n\\item 72\n\\item 73\n\\item 90\n\\item 37\n\\item 7\n\\item 36\n\\item 95\n\\item 97\n\\item 38\n\\item 73\n\\item 64\n\\item 52\n\\item 86\n\\item 47\n\\item 91\n\\item 80\n\\item 66\n\\item 47\n\\item 78\n\\item 26\n\\item 73\n\\item 54\n\\item 77\n\\item 60\n\\item 9\n\\item 55\n\\item 83\n\\item 7\n\\item 36\n\\item 99\n\\item 56\n\\item 22\n\\item 86\n\\item 16\n\\item 21\n\\item 44\n\\item 92\n\\item 32\n\\item 82\n\\item 50\n\\item 13\n\\item 74\n\\item 70\n\\item 20\n\\item 5\n\\item 3\n\\item 9\n\\item 82\n\\item 38\n\\item 76\n\\item 95\n\\item 18\n\\item 85\n\\item 26\n\\item 96\n\\item 25\n\\item 90\n\\item 33\n\\item 82\n\\item 57\n\\item 55\n\\item 85\n\\item 17\n\\item 67\n\\item 70\n\\item 62\n\\item 37\n\\item 39\n\\item 70\n\\item 22\n\\item 46\n\\item 35\n\\item 85\n\\item 55\n\\item 12\n\\item 23\n\\item 2\n\\item 54\n\\item 79\n\\item 72\n\\item 11\n\\item 39\n\\item 71\n\\item 85\n\\item 22\n\\item 26\n\\item 72\n\\item 90\n\\item 10\n\\item 71\n\\item 59\n\\item 5\n\\item 74\n\\item 13\n\\item 0\n\\end{enumerate*}\n",
            "text/plain": [
              "   [1]  73  44   4   2   3  78  15  38  59  70  80  40  19  64  41  29  69   9\n",
              "  [19]  83  34  90  52 100  32  25   8  49  27  41  29  12  59  68  41  61  61\n",
              "  [37]   9  46  76  93  45  42   8  80  29  38   2 100  25  11   8  15  46  10\n",
              "  [55]  12  44  98  69  64  80  58   3  94  75  87  63  18   2   7  74  96  12\n",
              "  [73]  64  94  82  38  96  37  16  97  94  11  78  60  89  95  84  32  71  48\n",
              "  [91]  68  40  71  75  68  50  43  45  63  89  38  79  98  99  51  90   9  49\n",
              " [109]   5  91  30  30  94  71  16  80  56  26  42  45  38   7  15  51   2  10\n",
              " [127]  45  11  15  18  60  53  57  39  22  41   1  18  50  26  60  79  12  52\n",
              " [145]  36  96  48   0  61  22   7  76  79  13  41  14   5  58   4  38  17  83\n",
              " [163]  84  10  29  17  93   9  85  96  68   4  90  31  54  94  13  73  45  67\n",
              " [181]  90  82  98  48  73  51  38  89  76  76   0   2  95  77  55  96  25  47\n",
              " [199]  74  73  33  95  39  19   3 100   9  92 100  19  43  56  28  39  95  51\n",
              " [217]  20  67   6  50  17  55  88  87  15  27  10  92  83  22   9  72  69  91\n",
              " [235]  64  25  95  12  98   7   7  13  98   3  52  81  39  40  57  99  25  37\n",
              " [253]   2  80  11  86  11   1  35  83  15  77  19  19  72  51  54  30  32  18\n",
              " [271]  79  61  95  34  62  48   9  70   1  38  87  73  49   3  24  12  67  47\n",
              " [289]  22   0  66  18  69  22  56  58  88  43  88  45  97  54   7  40  24  95\n",
              " [307]  45  60  90  80  54  27  91  38   8  21  92  82  54  37   9  65  75  73\n",
              " [325]   8  57  57   4  32  17  95  22  66  44  36  91  51  24  45  83  14  59\n",
              " [343]  12  49  41  88  64  29  38  89  96  87  48  48  79  67  43   3  31  70\n",
              " [361]  41  69   6  59   4  43  69  18  84  87  63  84  40  52  73  50  28  81\n",
              " [379]  90  27   3  44  62  69  13  31  11  46  79  10  30  62  75  62  89  39\n",
              " [397]  76   8  94  86  46   2  59  73  66  76  18   4  48  18  16  47  81  15\n",
              " [415]  22  73  80  71  62  27  70  50  88  33  87  50  72  94  85  58   9  21\n",
              " [433]  69  36  23  95  96  83  36  52  47  66  95  11  43  60   9  54  35  21\n",
              " [451]  46  64  54  95  81   8  13  49  61  70  73  60  68  40  65  10  70  95\n",
              " [469]  43  21  25   6  58  35  60 100  25   8  74  71  59  43  79   2  61  46\n",
              " [487]  55  23  47  81  32  54  90  84  83  14  97   6  45  59   8  43   8  69\n",
              " [505]  36  29  99  13  17  84  23  54  76  22  99  66   5  39  85  26  71  80\n",
              " [523]  38  52  86  91  56  88  57  45  31  93  73  33  61  24  37  27  38  64\n",
              " [541]  86  15  20  21  38   0  71  92   6  99   8  49   9  91  96  13  23  29\n",
              " [559]  80  56  68  14   9  47  14  94  42  12  75  13  85  35  15  54  92  44\n",
              " [577]  12  82   7  72  58  47  49  98  23  87  65  13  43  90  38  56  62  83\n",
              " [595]  20  95  81  51  93  13  79  23  55  80  38  61  42  23  24  26  31  78\n",
              " [613]  73  99  63  59  62  92  92  83  77  13  31  73  37   1  57  76  57  20\n",
              " [631]  55  29  92  36  93  39  97  30  77   6  82   4  29  20  78  20  46  77\n",
              " [649]  85   4  64  48  15  31  68  97  13  69  45  53  98  84  75  58  22  13\n",
              " [667]  74  40  95  19  61  17  54  88  29  36  38  28  48  84  18  21  87  74\n",
              " [685]  22  14  92  76  46  15  84  81  50  29  56  72  50  49   8   5   2  70\n",
              " [703]  22  37   0   5  49   1  41  66  59  24  93  14  79  12  76  75  13  73\n",
              " [721]  61  42  42   5  61  57  70   8   9  11  13   8  45  62  79  58  82  97\n",
              " [739]  89  67  89  21   9  60  91  49   6   3  42  13  10  53  23   5  72  31\n",
              " [757]  19  96  22  42  96  22  72  63  95  30  87  22  87   2  22  64  70  19\n",
              " [775]  22  75  98  72  30  12  18  25  65  80   7  25   8  66  14  53  51  97\n",
              " [793]  78  50  61  67  77  68  99  77  67  21  66  89  22  40  75   8  40  93\n",
              " [811]  86  81   8  39  57  99  33  73  91  18  55  18  32  39  98  77  29   2\n",
              " [829]  36  48  73 100   7  56  38  34  69   0  58  59   4  69  78  90  38  29\n",
              " [847]  40  60  69  55  16  15  62  79   3  28  62  48  10  19  91  12  87  26\n",
              " [865]   4  47  77  89  24   6  57  94  57  40  34   1  49  68  54  18  90  47\n",
              " [883]  40  24  66  81  97  35  97  44  74  67  70  46  10  68  88  17  70  53\n",
              " [901]  51  69  70  36  91  72  73  90  37   7  36  95  97  38  73  64  52  86\n",
              " [919]  47  91  80  66  47  78  26  73  54  77  60   9  55  83   7  36  99  56\n",
              " [937]  22  86  16  21  44  92  32  82  50  13  74  70  20   5   3   9  82  38\n",
              " [955]  76  95  18  85  26  96  25  90  33  82  57  55  85  17  67  70  62  37\n",
              " [973]  39  70  22  46  35  85  55  12  23   2  54  79  72  11  39  71  85  22\n",
              " [991]  26  72  90  10  71  59   5  74  13   0"
            ]
          },
          "metadata": {}
        }
      ],
      "source": [
        "#Basic Application of quantile() in R\n",
        "set.seed(15051)                         # Set seed for reproducibility\n",
        "x <- round(runif(1000, 0, 100))         # Create uniformly distributed data\n",
        "x                                       # Print data to RStudio console"
      ]
    },
    {
      "cell_type": "code",
      "source": [
        "quantile(x)"
      ],
      "metadata": {
        "colab": {
          "base_uri": "https://localhost:8080/",
          "height": 34
        },
        "id": "VyD69HDmOpiG",
        "outputId": "b7ff1902-f9b1-4ece-cbbc-01de3fdc755f"
      },
      "execution_count": 2,
      "outputs": [
        {
          "output_type": "display_data",
          "data": {
            "text/html": [
              "<style>\n",
              ".dl-inline {width: auto; margin:0; padding: 0}\n",
              ".dl-inline>dt, .dl-inline>dd {float: none; width: auto; display: inline-block}\n",
              ".dl-inline>dt::after {content: \":\\0020\"; padding-right: .5ex}\n",
              ".dl-inline>dt:not(:first-of-type) {padding-left: .5ex}\n",
              "</style><dl class=dl-inline><dt>0%</dt><dd>0</dd><dt>25%</dt><dd>23</dd><dt>50%</dt><dd>50</dd><dt>75%</dt><dd>75</dd><dt>100%</dt><dd>100</dd></dl>\n"
            ],
            "text/markdown": "0%\n:   025%\n:   2350%\n:   5075%\n:   75100%\n:   100\n\n",
            "text/latex": "\\begin{description*}\n\\item[0\\textbackslash{}\\%] 0\n\\item[25\\textbackslash{}\\%] 23\n\\item[50\\textbackslash{}\\%] 50\n\\item[75\\textbackslash{}\\%] 75\n\\item[100\\textbackslash{}\\%] 100\n\\end{description*}\n",
            "text/plain": [
              "  0%  25%  50%  75% 100% \n",
              "   0   23   50   75  100 "
            ]
          },
          "metadata": {}
        }
      ]
    },
    {
      "cell_type": "code",
      "source": [
        "#quantilie(x, probs)\tIt returns quantile where x is the numeric vector whose quantiles are desired and probs is a numeric vector with probabilities in [0, 1]\n"
      ],
      "metadata": {
        "id": "CJo7tW7aM_A1"
      },
      "execution_count": null,
      "outputs": []
    },
    {
      "cell_type": "code",
      "source": [
        "#Handling NA Values with the quantile Function\n",
        "x_NA <- c(x, NA)                        # Create example data with NA\n",
        "quantile(x_NA)                          # Apply quantile function to NA vector"
      ],
      "metadata": {
        "colab": {
          "base_uri": "https://localhost:8080/",
          "height": 181
        },
        "id": "Pou_jQjZNgwH",
        "outputId": "6b19e18c-b446-4d4b-a8af-affd205d02a5"
      },
      "execution_count": 3,
      "outputs": [
        {
          "output_type": "error",
          "ename": "ERROR",
          "evalue": "ignored",
          "traceback": [
            "Error in quantile.default(x_NA): missing values and NaN's not allowed if 'na.rm' is FALSE\nTraceback:\n",
            "1. quantile(x_NA)",
            "2. quantile.default(x_NA)",
            "3. stop(\"missing values and NaN's not allowed if 'na.rm' is FALSE\")"
          ]
        }
      ]
    },
    {
      "cell_type": "code",
      "source": [
        "#Fortunately, we can easily fix this error by specifying na.rm = TRUE within the quantile command:\n",
        "\n",
        "quantile(x_NA, na.rm = TRUE)            # Use na.rm argument"
      ],
      "metadata": {
        "colab": {
          "base_uri": "https://localhost:8080/",
          "height": 34
        },
        "id": "W67n45pGNnir",
        "outputId": "751156a8-a667-4e4f-a2da-6ed5327543f2"
      },
      "execution_count": 4,
      "outputs": [
        {
          "output_type": "display_data",
          "data": {
            "text/html": [
              "<style>\n",
              ".dl-inline {width: auto; margin:0; padding: 0}\n",
              ".dl-inline>dt, .dl-inline>dd {float: none; width: auto; display: inline-block}\n",
              ".dl-inline>dt::after {content: \":\\0020\"; padding-right: .5ex}\n",
              ".dl-inline>dt:not(:first-of-type) {padding-left: .5ex}\n",
              "</style><dl class=dl-inline><dt>0%</dt><dd>0</dd><dt>25%</dt><dd>23</dd><dt>50%</dt><dd>50</dd><dt>75%</dt><dd>75</dd><dt>100%</dt><dd>100</dd></dl>\n"
            ],
            "text/markdown": "0%\n:   025%\n:   2350%\n:   5075%\n:   75100%\n:   100\n\n",
            "text/latex": "\\begin{description*}\n\\item[0\\textbackslash{}\\%] 0\n\\item[25\\textbackslash{}\\%] 23\n\\item[50\\textbackslash{}\\%] 50\n\\item[75\\textbackslash{}\\%] 75\n\\item[100\\textbackslash{}\\%] 100\n\\end{description*}\n",
            "text/plain": [
              "  0%  25%  50%  75% 100% \n",
              "   0   23   50   75  100 "
            ]
          },
          "metadata": {}
        }
      ]
    },
    {
      "cell_type": "code",
      "source": [
        "#Extract Quantile Values Only\n",
        "#As you have seen based on the previous examples, the quantile function\n",
        "#returns the cutpoints AND the corresponding values to the RStudio console.\n",
        "#In some cases, however, we might prefer to keep only the quantile values.\n",
        "\n",
        "unname(quantile(x))"
      ],
      "metadata": {
        "colab": {
          "base_uri": "https://localhost:8080/",
          "height": 34
        },
        "id": "K6voNTRyO05w",
        "outputId": "481b3a26-08de-4cde-c774-54dfe03d164e"
      },
      "execution_count": 5,
      "outputs": [
        {
          "output_type": "display_data",
          "data": {
            "text/html": [
              "<style>\n",
              ".list-inline {list-style: none; margin:0; padding: 0}\n",
              ".list-inline>li {display: inline-block}\n",
              ".list-inline>li:not(:last-child)::after {content: \"\\00b7\"; padding: 0 .5ex}\n",
              "</style>\n",
              "<ol class=list-inline><li>0</li><li>23</li><li>50</li><li>75</li><li>100</li></ol>\n"
            ],
            "text/markdown": "1. 0\n2. 23\n3. 50\n4. 75\n5. 100\n\n\n",
            "text/latex": "\\begin{enumerate*}\n\\item 0\n\\item 23\n\\item 50\n\\item 75\n\\item 100\n\\end{enumerate*}\n",
            "text/plain": [
              "[1]   0  23  50  75 100"
            ]
          },
          "metadata": {}
        }
      ]
    },
    {
      "cell_type": "code",
      "source": [
        "#Quantile by Group\n",
        "#In this example I’ll show you how to calculate the quantiles of certain subgroups\n",
        "data(iris)                              # Load Iris data\n",
        "head(iris)                              # Head of Iris data"
      ],
      "metadata": {
        "colab": {
          "base_uri": "https://localhost:8080/",
          "height": 286
        },
        "id": "jIOe3WdsO7zD",
        "outputId": "54c31736-1214-4fc9-99e1-e9f06f721261"
      },
      "execution_count": 6,
      "outputs": [
        {
          "output_type": "display_data",
          "data": {
            "text/html": [
              "<table class=\"dataframe\">\n",
              "<caption>A data.frame: 6 × 5</caption>\n",
              "<thead>\n",
              "\t<tr><th></th><th scope=col>Sepal.Length</th><th scope=col>Sepal.Width</th><th scope=col>Petal.Length</th><th scope=col>Petal.Width</th><th scope=col>Species</th></tr>\n",
              "\t<tr><th></th><th scope=col>&lt;dbl&gt;</th><th scope=col>&lt;dbl&gt;</th><th scope=col>&lt;dbl&gt;</th><th scope=col>&lt;dbl&gt;</th><th scope=col>&lt;fct&gt;</th></tr>\n",
              "</thead>\n",
              "<tbody>\n",
              "\t<tr><th scope=row>1</th><td>5.1</td><td>3.5</td><td>1.4</td><td>0.2</td><td>setosa</td></tr>\n",
              "\t<tr><th scope=row>2</th><td>4.9</td><td>3.0</td><td>1.4</td><td>0.2</td><td>setosa</td></tr>\n",
              "\t<tr><th scope=row>3</th><td>4.7</td><td>3.2</td><td>1.3</td><td>0.2</td><td>setosa</td></tr>\n",
              "\t<tr><th scope=row>4</th><td>4.6</td><td>3.1</td><td>1.5</td><td>0.2</td><td>setosa</td></tr>\n",
              "\t<tr><th scope=row>5</th><td>5.0</td><td>3.6</td><td>1.4</td><td>0.2</td><td>setosa</td></tr>\n",
              "\t<tr><th scope=row>6</th><td>5.4</td><td>3.9</td><td>1.7</td><td>0.4</td><td>setosa</td></tr>\n",
              "</tbody>\n",
              "</table>\n"
            ],
            "text/markdown": "\nA data.frame: 6 × 5\n\n| <!--/--> | Sepal.Length &lt;dbl&gt; | Sepal.Width &lt;dbl&gt; | Petal.Length &lt;dbl&gt; | Petal.Width &lt;dbl&gt; | Species &lt;fct&gt; |\n|---|---|---|---|---|---|\n| 1 | 5.1 | 3.5 | 1.4 | 0.2 | setosa |\n| 2 | 4.9 | 3.0 | 1.4 | 0.2 | setosa |\n| 3 | 4.7 | 3.2 | 1.3 | 0.2 | setosa |\n| 4 | 4.6 | 3.1 | 1.5 | 0.2 | setosa |\n| 5 | 5.0 | 3.6 | 1.4 | 0.2 | setosa |\n| 6 | 5.4 | 3.9 | 1.7 | 0.4 | setosa |\n\n",
            "text/latex": "A data.frame: 6 × 5\n\\begin{tabular}{r|lllll}\n  & Sepal.Length & Sepal.Width & Petal.Length & Petal.Width & Species\\\\\n  & <dbl> & <dbl> & <dbl> & <dbl> & <fct>\\\\\n\\hline\n\t1 & 5.1 & 3.5 & 1.4 & 0.2 & setosa\\\\\n\t2 & 4.9 & 3.0 & 1.4 & 0.2 & setosa\\\\\n\t3 & 4.7 & 3.2 & 1.3 & 0.2 & setosa\\\\\n\t4 & 4.6 & 3.1 & 1.5 & 0.2 & setosa\\\\\n\t5 & 5.0 & 3.6 & 1.4 & 0.2 & setosa\\\\\n\t6 & 5.4 & 3.9 & 1.7 & 0.4 & setosa\\\\\n\\end{tabular}\n",
            "text/plain": [
              "  Sepal.Length Sepal.Width Petal.Length Petal.Width Species\n",
              "1 5.1          3.5         1.4          0.2         setosa \n",
              "2 4.9          3.0         1.4          0.2         setosa \n",
              "3 4.7          3.2         1.3          0.2         setosa \n",
              "4 4.6          3.1         1.5          0.2         setosa \n",
              "5 5.0          3.6         1.4          0.2         setosa \n",
              "6 5.4          3.9         1.7          0.4         setosa "
            ]
          },
          "metadata": {}
        }
      ]
    },
    {
      "cell_type": "code",
      "source": [
        "#We can now produce a data matrix of quantiles of the first\n",
        "# column grouped by the Species column with the following R syntax:\n",
        "\n",
        "do.call(\"rbind\",\n",
        "        tapply(iris$Sepal.Length,       # Specify numeric column\n",
        "               iris$Species,            # Specify group variable\n",
        "               quantile))"
      ],
      "metadata": {
        "colab": {
          "base_uri": "https://localhost:8080/",
          "height": 161
        },
        "id": "CE7emmoTO-hf",
        "outputId": "53556660-3579-4cf0-abd2-68d631664cf3"
      },
      "execution_count": 7,
      "outputs": [
        {
          "output_type": "display_data",
          "data": {
            "text/html": [
              "<table class=\"dataframe\">\n",
              "<caption>A matrix: 3 × 5 of type dbl</caption>\n",
              "<thead>\n",
              "\t<tr><th></th><th scope=col>0%</th><th scope=col>25%</th><th scope=col>50%</th><th scope=col>75%</th><th scope=col>100%</th></tr>\n",
              "</thead>\n",
              "<tbody>\n",
              "\t<tr><th scope=row>setosa</th><td>4.3</td><td>4.800</td><td>5.0</td><td>5.2</td><td>5.8</td></tr>\n",
              "\t<tr><th scope=row>versicolor</th><td>4.9</td><td>5.600</td><td>5.9</td><td>6.3</td><td>7.0</td></tr>\n",
              "\t<tr><th scope=row>virginica</th><td>4.9</td><td>6.225</td><td>6.5</td><td>6.9</td><td>7.9</td></tr>\n",
              "</tbody>\n",
              "</table>\n"
            ],
            "text/markdown": "\nA matrix: 3 × 5 of type dbl\n\n| <!--/--> | 0% | 25% | 50% | 75% | 100% |\n|---|---|---|---|---|---|\n| setosa | 4.3 | 4.800 | 5.0 | 5.2 | 5.8 |\n| versicolor | 4.9 | 5.600 | 5.9 | 6.3 | 7.0 |\n| virginica | 4.9 | 6.225 | 6.5 | 6.9 | 7.9 |\n\n",
            "text/latex": "A matrix: 3 × 5 of type dbl\n\\begin{tabular}{r|lllll}\n  & 0\\% & 25\\% & 50\\% & 75\\% & 100\\%\\\\\n\\hline\n\tsetosa & 4.3 & 4.800 & 5.0 & 5.2 & 5.8\\\\\n\tversicolor & 4.9 & 5.600 & 5.9 & 6.3 & 7.0\\\\\n\tvirginica & 4.9 & 6.225 & 6.5 & 6.9 & 7.9\\\\\n\\end{tabular}\n",
            "text/plain": [
              "           0%  25%   50% 75% 100%\n",
              "setosa     4.3 4.800 5.0 5.2 5.8 \n",
              "versicolor 4.9 5.600 5.9 6.3 7.0 \n",
              "virginica  4.9 6.225 6.5 6.9 7.9 "
            ]
          },
          "metadata": {}
        }
      ]
    },
    {
      "cell_type": "markdown",
      "source": [
        "Note that it would also be possible to calculate quantiles by group based on functions of the tidyverse."
      ],
      "metadata": {
        "id": "_i1sAv4IPRtM"
      }
    },
    {
      "cell_type": "markdown",
      "source": [
        "##Quartiles, Quintiles, Deciles, Percentiles & Many More"
      ],
      "metadata": {
        "id": "FluanLk6PUMG"
      }
    },
    {
      "cell_type": "code",
      "source": [
        "#With the following R codes, we can calculate the median…\n",
        "quantile(x, probs = 0.5)                # Median"
      ],
      "metadata": {
        "colab": {
          "base_uri": "https://localhost:8080/",
          "height": 34
        },
        "id": "nJA74Z4KPOWD",
        "outputId": "2e875e5e-d19b-4e14-c818-9d5042945371"
      },
      "execution_count": 9,
      "outputs": [
        {
          "output_type": "display_data",
          "data": {
            "text/html": [
              "<strong>50%:</strong> 50"
            ],
            "text/markdown": "**50%:** 50",
            "text/latex": "\\textbf{50\\textbackslash{}\\%:} 50",
            "text/plain": [
              "50% \n",
              " 50 "
            ]
          },
          "metadata": {}
        }
      ]
    },
    {
      "cell_type": "code",
      "source": [
        "quantile(x, probs = seq(0, 1, 1/3))     # Tertiles"
      ],
      "metadata": {
        "colab": {
          "base_uri": "https://localhost:8080/",
          "height": 34
        },
        "id": "oS1UHpkqPiSs",
        "outputId": "1b8bfd39-d229-4c54-efb7-6e83ed51d218"
      },
      "execution_count": 12,
      "outputs": [
        {
          "output_type": "display_data",
          "data": {
            "text/html": [
              "<style>\n",
              ".dl-inline {width: auto; margin:0; padding: 0}\n",
              ".dl-inline>dt, .dl-inline>dd {float: none; width: auto; display: inline-block}\n",
              ".dl-inline>dt::after {content: \":\\0020\"; padding-right: .5ex}\n",
              ".dl-inline>dt:not(:first-of-type) {padding-left: .5ex}\n",
              "</style><dl class=dl-inline><dt>0%</dt><dd>0</dd><dt>33.33333%</dt><dd>34</dd><dt>66.66667%</dt><dd>68</dd><dt>100%</dt><dd>100</dd></dl>\n"
            ],
            "text/markdown": "0%\n:   033.33333%\n:   3466.66667%\n:   68100%\n:   100\n\n",
            "text/latex": "\\begin{description*}\n\\item[0\\textbackslash{}\\%] 0\n\\item[33.33333\\textbackslash{}\\%] 34\n\\item[66.66667\\textbackslash{}\\%] 68\n\\item[100\\textbackslash{}\\%] 100\n\\end{description*}\n",
            "text/plain": [
              "       0% 33.33333% 66.66667%      100% \n",
              "        0        34        68       100 "
            ]
          },
          "metadata": {}
        }
      ]
    },
    {
      "cell_type": "code",
      "source": [
        "quantile(x, probs = seq(0, 1, 1/4))     # Quartiles"
      ],
      "metadata": {
        "colab": {
          "base_uri": "https://localhost:8080/",
          "height": 34
        },
        "id": "XpX_Yc3IPZUI",
        "outputId": "b2abbb46-f7c3-4f57-b660-833b01424ba8"
      },
      "execution_count": 11,
      "outputs": [
        {
          "output_type": "display_data",
          "data": {
            "text/html": [
              "<style>\n",
              ".dl-inline {width: auto; margin:0; padding: 0}\n",
              ".dl-inline>dt, .dl-inline>dd {float: none; width: auto; display: inline-block}\n",
              ".dl-inline>dt::after {content: \":\\0020\"; padding-right: .5ex}\n",
              ".dl-inline>dt:not(:first-of-type) {padding-left: .5ex}\n",
              "</style><dl class=dl-inline><dt>0%</dt><dd>0</dd><dt>25%</dt><dd>23</dd><dt>50%</dt><dd>50</dd><dt>75%</dt><dd>75</dd><dt>100%</dt><dd>100</dd></dl>\n"
            ],
            "text/markdown": "0%\n:   025%\n:   2350%\n:   5075%\n:   75100%\n:   100\n\n",
            "text/latex": "\\begin{description*}\n\\item[0\\textbackslash{}\\%] 0\n\\item[25\\textbackslash{}\\%] 23\n\\item[50\\textbackslash{}\\%] 50\n\\item[75\\textbackslash{}\\%] 75\n\\item[100\\textbackslash{}\\%] 100\n\\end{description*}\n",
            "text/plain": [
              "  0%  25%  50%  75% 100% \n",
              "   0   23   50   75  100 "
            ]
          },
          "metadata": {}
        }
      ]
    },
    {
      "cell_type": "code",
      "source": [
        "quantile(x, probs = seq(0, 1, 1/5))     # Quintiles"
      ],
      "metadata": {
        "colab": {
          "base_uri": "https://localhost:8080/",
          "height": 34
        },
        "id": "gfrtWZB8Phy1",
        "outputId": "a1ec6868-51d9-4d5a-fa0f-4f917d36e173"
      },
      "execution_count": 13,
      "outputs": [
        {
          "output_type": "display_data",
          "data": {
            "text/html": [
              "<style>\n",
              ".dl-inline {width: auto; margin:0; padding: 0}\n",
              ".dl-inline>dt, .dl-inline>dd {float: none; width: auto; display: inline-block}\n",
              ".dl-inline>dt::after {content: \":\\0020\"; padding-right: .5ex}\n",
              ".dl-inline>dt:not(:first-of-type) {padding-left: .5ex}\n",
              "</style><dl class=dl-inline><dt>0%</dt><dd>0</dd><dt>20%</dt><dd>18</dd><dt>40%</dt><dd>40</dd><dt>60%</dt><dd>61</dd><dt>80%</dt><dd>80</dd><dt>100%</dt><dd>100</dd></dl>\n"
            ],
            "text/markdown": "0%\n:   020%\n:   1840%\n:   4060%\n:   6180%\n:   80100%\n:   100\n\n",
            "text/latex": "\\begin{description*}\n\\item[0\\textbackslash{}\\%] 0\n\\item[20\\textbackslash{}\\%] 18\n\\item[40\\textbackslash{}\\%] 40\n\\item[60\\textbackslash{}\\%] 61\n\\item[80\\textbackslash{}\\%] 80\n\\item[100\\textbackslash{}\\%] 100\n\\end{description*}\n",
            "text/plain": [
              "  0%  20%  40%  60%  80% 100% \n",
              "   0   18   40   61   80  100 "
            ]
          },
          "metadata": {}
        }
      ]
    },
    {
      "cell_type": "code",
      "source": [
        "quantile(x, probs = seq(0, 1, 1/6))     # Sextiles"
      ],
      "metadata": {
        "colab": {
          "base_uri": "https://localhost:8080/",
          "height": 34
        },
        "id": "9L4Hz4eHPlnX",
        "outputId": "d691bc6f-927d-4446-873e-1c82cb765786"
      },
      "execution_count": 14,
      "outputs": [
        {
          "output_type": "display_data",
          "data": {
            "text/html": [
              "<style>\n",
              ".dl-inline {width: auto; margin:0; padding: 0}\n",
              ".dl-inline>dt, .dl-inline>dd {float: none; width: auto; display: inline-block}\n",
              ".dl-inline>dt::after {content: \":\\0020\"; padding-right: .5ex}\n",
              ".dl-inline>dt:not(:first-of-type) {padding-left: .5ex}\n",
              "</style><dl class=dl-inline><dt>0%</dt><dd>0</dd><dt>16.66667%</dt><dd>15</dd><dt>33.33333%</dt><dd>34</dd><dt>50%</dt><dd>50</dd><dt>66.66667%</dt><dd>68</dd><dt>83.33333%</dt><dd>83</dd><dt>100%</dt><dd>100</dd></dl>\n"
            ],
            "text/markdown": "0%\n:   016.66667%\n:   1533.33333%\n:   3450%\n:   5066.66667%\n:   6883.33333%\n:   83100%\n:   100\n\n",
            "text/latex": "\\begin{description*}\n\\item[0\\textbackslash{}\\%] 0\n\\item[16.66667\\textbackslash{}\\%] 15\n\\item[33.33333\\textbackslash{}\\%] 34\n\\item[50\\textbackslash{}\\%] 50\n\\item[66.66667\\textbackslash{}\\%] 68\n\\item[83.33333\\textbackslash{}\\%] 83\n\\item[100\\textbackslash{}\\%] 100\n\\end{description*}\n",
            "text/plain": [
              "       0% 16.66667% 33.33333%       50% 66.66667% 83.33333%      100% \n",
              "        0        15        34        50        68        83       100 "
            ]
          },
          "metadata": {}
        }
      ]
    },
    {
      "cell_type": "code",
      "source": [
        "quantile(x, probs = seq(0, 1, 1/7))     # Septiles"
      ],
      "metadata": {
        "colab": {
          "base_uri": "https://localhost:8080/",
          "height": 34
        },
        "id": "yr94D52jPncm",
        "outputId": "8305f6eb-9609-44f1-dfa3-01ce3dd80aae"
      },
      "execution_count": 15,
      "outputs": [
        {
          "output_type": "display_data",
          "data": {
            "text/html": [
              "<style>\n",
              ".dl-inline {width: auto; margin:0; padding: 0}\n",
              ".dl-inline>dt, .dl-inline>dd {float: none; width: auto; display: inline-block}\n",
              ".dl-inline>dt::after {content: \":\\0020\"; padding-right: .5ex}\n",
              ".dl-inline>dt:not(:first-of-type) {padding-left: .5ex}\n",
              "</style><dl class=dl-inline><dt>0%</dt><dd>0</dd><dt>14.28571%</dt><dd>13</dd><dt>28.57143%</dt><dd>27</dd><dt>42.85714%</dt><dd>43</dd><dt>57.14286%</dt><dd>58</dd><dt>71.42857%</dt><dd>72</dd><dt>85.71429%</dt><dd>86</dd><dt>100%</dt><dd>100</dd></dl>\n"
            ],
            "text/markdown": "0%\n:   014.28571%\n:   1328.57143%\n:   2742.85714%\n:   4357.14286%\n:   5871.42857%\n:   7285.71429%\n:   86100%\n:   100\n\n",
            "text/latex": "\\begin{description*}\n\\item[0\\textbackslash{}\\%] 0\n\\item[14.28571\\textbackslash{}\\%] 13\n\\item[28.57143\\textbackslash{}\\%] 27\n\\item[42.85714\\textbackslash{}\\%] 43\n\\item[57.14286\\textbackslash{}\\%] 58\n\\item[71.42857\\textbackslash{}\\%] 72\n\\item[85.71429\\textbackslash{}\\%] 86\n\\item[100\\textbackslash{}\\%] 100\n\\end{description*}\n",
            "text/plain": [
              "       0% 14.28571% 28.57143% 42.85714% 57.14286% 71.42857% 85.71429%      100% \n",
              "        0        13        27        43        58        72        86       100 "
            ]
          },
          "metadata": {}
        }
      ]
    },
    {
      "cell_type": "code",
      "source": [
        "quantile(x, probs = seq(0, 1, 1/8))     # Octiles"
      ],
      "metadata": {
        "colab": {
          "base_uri": "https://localhost:8080/",
          "height": 34
        },
        "id": "gbSXCQDEPoyh",
        "outputId": "3d0ebf6b-640a-4140-88eb-2d0a1fe3c313"
      },
      "execution_count": 16,
      "outputs": [
        {
          "output_type": "display_data",
          "data": {
            "text/html": [
              "<style>\n",
              ".dl-inline {width: auto; margin:0; padding: 0}\n",
              ".dl-inline>dt, .dl-inline>dd {float: none; width: auto; display: inline-block}\n",
              ".dl-inline>dt::after {content: \":\\0020\"; padding-right: .5ex}\n",
              ".dl-inline>dt:not(:first-of-type) {padding-left: .5ex}\n",
              "</style><dl class=dl-inline><dt>0%</dt><dd>0</dd><dt>12.5%</dt><dd>11.875</dd><dt>25%</dt><dd>23</dd><dt>37.5%</dt><dd>38</dd><dt>50%</dt><dd>50</dd><dt>62.5%</dt><dd>63</dd><dt>75%</dt><dd>75</dd><dt>87.5%</dt><dd>88</dd><dt>100%</dt><dd>100</dd></dl>\n"
            ],
            "text/markdown": "0%\n:   012.5%\n:   11.87525%\n:   2337.5%\n:   3850%\n:   5062.5%\n:   6375%\n:   7587.5%\n:   88100%\n:   100\n\n",
            "text/latex": "\\begin{description*}\n\\item[0\\textbackslash{}\\%] 0\n\\item[12.5\\textbackslash{}\\%] 11.875\n\\item[25\\textbackslash{}\\%] 23\n\\item[37.5\\textbackslash{}\\%] 38\n\\item[50\\textbackslash{}\\%] 50\n\\item[62.5\\textbackslash{}\\%] 63\n\\item[75\\textbackslash{}\\%] 75\n\\item[87.5\\textbackslash{}\\%] 88\n\\item[100\\textbackslash{}\\%] 100\n\\end{description*}\n",
            "text/plain": [
              "     0%   12.5%     25%   37.5%     50%   62.5%     75%   87.5%    100% \n",
              "  0.000  11.875  23.000  38.000  50.000  63.000  75.000  88.000 100.000 "
            ]
          },
          "metadata": {}
        }
      ]
    },
    {
      "cell_type": "code",
      "source": [
        "quantile(x, probs = seq(0, 1, 1/10))    # Deciles"
      ],
      "metadata": {
        "colab": {
          "base_uri": "https://localhost:8080/",
          "height": 34
        },
        "id": "DeReFVYZPqJx",
        "outputId": "7f492e03-ccdf-4fdc-fcfe-02cc2e700907"
      },
      "execution_count": 17,
      "outputs": [
        {
          "output_type": "display_data",
          "data": {
            "text/html": [
              "<style>\n",
              ".dl-inline {width: auto; margin:0; padding: 0}\n",
              ".dl-inline>dt, .dl-inline>dd {float: none; width: auto; display: inline-block}\n",
              ".dl-inline>dt::after {content: \":\\0020\"; padding-right: .5ex}\n",
              ".dl-inline>dt:not(:first-of-type) {padding-left: .5ex}\n",
              "</style><dl class=dl-inline><dt>0%</dt><dd>0</dd><dt>10%</dt><dd>9</dd><dt>20%</dt><dd>18</dd><dt>30%</dt><dd>29</dd><dt>40%</dt><dd>40</dd><dt>50%</dt><dd>50</dd><dt>60%</dt><dd>61</dd><dt>70%</dt><dd>71</dd><dt>80%</dt><dd>80</dd><dt>90%</dt><dd>90</dd><dt>100%</dt><dd>100</dd></dl>\n"
            ],
            "text/markdown": "0%\n:   010%\n:   920%\n:   1830%\n:   2940%\n:   4050%\n:   5060%\n:   6170%\n:   7180%\n:   8090%\n:   90100%\n:   100\n\n",
            "text/latex": "\\begin{description*}\n\\item[0\\textbackslash{}\\%] 0\n\\item[10\\textbackslash{}\\%] 9\n\\item[20\\textbackslash{}\\%] 18\n\\item[30\\textbackslash{}\\%] 29\n\\item[40\\textbackslash{}\\%] 40\n\\item[50\\textbackslash{}\\%] 50\n\\item[60\\textbackslash{}\\%] 61\n\\item[70\\textbackslash{}\\%] 71\n\\item[80\\textbackslash{}\\%] 80\n\\item[90\\textbackslash{}\\%] 90\n\\item[100\\textbackslash{}\\%] 100\n\\end{description*}\n",
            "text/plain": [
              "  0%  10%  20%  30%  40%  50%  60%  70%  80%  90% 100% \n",
              "   0    9   18   29   40   50   61   71   80   90  100 "
            ]
          },
          "metadata": {}
        }
      ]
    },
    {
      "cell_type": "code",
      "source": [
        "quantile(x, probs = seq(0, 1, 1/12))    # Duo-deciles or dodeciles"
      ],
      "metadata": {
        "colab": {
          "base_uri": "https://localhost:8080/",
          "height": 52
        },
        "id": "1EY9kflnPr2A",
        "outputId": "b16b8264-8225-4775-8b19-e1851934438b"
      },
      "execution_count": 18,
      "outputs": [
        {
          "output_type": "display_data",
          "data": {
            "text/html": [
              "<style>\n",
              ".dl-inline {width: auto; margin:0; padding: 0}\n",
              ".dl-inline>dt, .dl-inline>dd {float: none; width: auto; display: inline-block}\n",
              ".dl-inline>dt::after {content: \":\\0020\"; padding-right: .5ex}\n",
              ".dl-inline>dt:not(:first-of-type) {padding-left: .5ex}\n",
              "</style><dl class=dl-inline><dt>0%</dt><dd>0</dd><dt>8.333333%</dt><dd>8</dd><dt>16.66667%</dt><dd>15</dd><dt>25%</dt><dd>23</dd><dt>33.33333%</dt><dd>34</dd><dt>41.66667%</dt><dd>42</dd><dt>50%</dt><dd>50</dd><dt>58.33333%</dt><dd>59</dd><dt>66.66667%</dt><dd>68</dd><dt>75%</dt><dd>75</dd><dt>83.33333%</dt><dd>83</dd><dt>91.66667%</dt><dd>92</dd><dt>100%</dt><dd>100</dd></dl>\n"
            ],
            "text/markdown": "0%\n:   08.333333%\n:   816.66667%\n:   1525%\n:   2333.33333%\n:   3441.66667%\n:   4250%\n:   5058.33333%\n:   5966.66667%\n:   6875%\n:   7583.33333%\n:   8391.66667%\n:   92100%\n:   100\n\n",
            "text/latex": "\\begin{description*}\n\\item[0\\textbackslash{}\\%] 0\n\\item[8.333333\\textbackslash{}\\%] 8\n\\item[16.66667\\textbackslash{}\\%] 15\n\\item[25\\textbackslash{}\\%] 23\n\\item[33.33333\\textbackslash{}\\%] 34\n\\item[41.66667\\textbackslash{}\\%] 42\n\\item[50\\textbackslash{}\\%] 50\n\\item[58.33333\\textbackslash{}\\%] 59\n\\item[66.66667\\textbackslash{}\\%] 68\n\\item[75\\textbackslash{}\\%] 75\n\\item[83.33333\\textbackslash{}\\%] 83\n\\item[91.66667\\textbackslash{}\\%] 92\n\\item[100\\textbackslash{}\\%] 100\n\\end{description*}\n",
            "text/plain": [
              "       0% 8.333333% 16.66667%       25% 33.33333% 41.66667%       50% 58.33333% \n",
              "        0         8        15        23        34        42        50        59 \n",
              "66.66667%       75% 83.33333% 91.66667%      100% \n",
              "       68        75        83        92       100 "
            ]
          },
          "metadata": {}
        }
      ]
    },
    {
      "cell_type": "code",
      "source": [
        "quantile(x, probs = seq(0, 1, 1/16))    # Hexadeciles"
      ],
      "metadata": {
        "colab": {
          "base_uri": "https://localhost:8080/",
          "height": 52
        },
        "id": "MtJWxUzEPtLm",
        "outputId": "d6857beb-14d3-42fc-f956-b48e9c7f75d2"
      },
      "execution_count": 19,
      "outputs": [
        {
          "output_type": "display_data",
          "data": {
            "text/html": [
              "<style>\n",
              ".dl-inline {width: auto; margin:0; padding: 0}\n",
              ".dl-inline>dt, .dl-inline>dd {float: none; width: auto; display: inline-block}\n",
              ".dl-inline>dt::after {content: \":\\0020\"; padding-right: .5ex}\n",
              ".dl-inline>dt:not(:first-of-type) {padding-left: .5ex}\n",
              "</style><dl class=dl-inline><dt>0%</dt><dd>0</dd><dt>6.25%</dt><dd>7</dd><dt>12.5%</dt><dd>11.875</dd><dt>18.75%</dt><dd>17</dd><dt>25%</dt><dd>23</dd><dt>31.25%</dt><dd>30.1875</dd><dt>37.5%</dt><dd>38</dd><dt>43.75%</dt><dd>44.0625</dd><dt>50%</dt><dd>50</dd><dt>56.25%</dt><dd>57</dd><dt>62.5%</dt><dd>63</dd><dt>68.75%</dt><dd>70</dd><dt>75%</dt><dd>75</dd><dt>81.25%</dt><dd>81</dd><dt>87.5%</dt><dd>88</dd><dt>93.75%</dt><dd>94</dd><dt>100%</dt><dd>100</dd></dl>\n"
            ],
            "text/markdown": "0%\n:   06.25%\n:   712.5%\n:   11.87518.75%\n:   1725%\n:   2331.25%\n:   30.187537.5%\n:   3843.75%\n:   44.062550%\n:   5056.25%\n:   5762.5%\n:   6368.75%\n:   7075%\n:   7581.25%\n:   8187.5%\n:   8893.75%\n:   94100%\n:   100\n\n",
            "text/latex": "\\begin{description*}\n\\item[0\\textbackslash{}\\%] 0\n\\item[6.25\\textbackslash{}\\%] 7\n\\item[12.5\\textbackslash{}\\%] 11.875\n\\item[18.75\\textbackslash{}\\%] 17\n\\item[25\\textbackslash{}\\%] 23\n\\item[31.25\\textbackslash{}\\%] 30.1875\n\\item[37.5\\textbackslash{}\\%] 38\n\\item[43.75\\textbackslash{}\\%] 44.0625\n\\item[50\\textbackslash{}\\%] 50\n\\item[56.25\\textbackslash{}\\%] 57\n\\item[62.5\\textbackslash{}\\%] 63\n\\item[68.75\\textbackslash{}\\%] 70\n\\item[75\\textbackslash{}\\%] 75\n\\item[81.25\\textbackslash{}\\%] 81\n\\item[87.5\\textbackslash{}\\%] 88\n\\item[93.75\\textbackslash{}\\%] 94\n\\item[100\\textbackslash{}\\%] 100\n\\end{description*}\n",
            "text/plain": [
              "      0%    6.25%    12.5%   18.75%      25%   31.25%    37.5%   43.75% \n",
              "  0.0000   7.0000  11.8750  17.0000  23.0000  30.1875  38.0000  44.0625 \n",
              "     50%   56.25%    62.5%   68.75%      75%   81.25%    87.5%   93.75% \n",
              " 50.0000  57.0000  63.0000  70.0000  75.0000  81.0000  88.0000  94.0000 \n",
              "    100% \n",
              "100.0000 "
            ]
          },
          "metadata": {}
        }
      ]
    },
    {
      "cell_type": "code",
      "source": [
        "quantile(x, probs = seq(0, 1, 1/20))    # Ventiles, vigintiles, or demi-deciles"
      ],
      "metadata": {
        "colab": {
          "base_uri": "https://localhost:8080/",
          "height": 52
        },
        "id": "eR4PNY-SPu_5",
        "outputId": "f22e4f06-f183-452c-ed8f-6c59857da957"
      },
      "execution_count": 20,
      "outputs": [
        {
          "output_type": "display_data",
          "data": {
            "text/html": [
              "<style>\n",
              ".dl-inline {width: auto; margin:0; padding: 0}\n",
              ".dl-inline>dt, .dl-inline>dd {float: none; width: auto; display: inline-block}\n",
              ".dl-inline>dt::after {content: \":\\0020\"; padding-right: .5ex}\n",
              ".dl-inline>dt:not(:first-of-type) {padding-left: .5ex}\n",
              "</style><dl class=dl-inline><dt>0%</dt><dd>0</dd><dt>5%</dt><dd>5</dd><dt>10%</dt><dd>9</dd><dt>15%</dt><dd>13</dd><dt>20%</dt><dd>18</dd><dt>25%</dt><dd>23</dd><dt>30%</dt><dd>29</dd><dt>35%</dt><dd>36</dd><dt>40%</dt><dd>40</dd><dt>45%</dt><dd>45.55</dd><dt>50%</dt><dd>50</dd><dt>55%</dt><dd>56</dd><dt>60%</dt><dd>61</dd><dt>65%</dt><dd>66</dd><dt>70%</dt><dd>71</dd><dt>75%</dt><dd>75</dd><dt>80%</dt><dd>80</dd><dt>85%</dt><dd>85</dd><dt>90%</dt><dd>90</dd><dt>95%</dt><dd>95</dd><dt>100%</dt><dd>100</dd></dl>\n"
            ],
            "text/markdown": "0%\n:   05%\n:   510%\n:   915%\n:   1320%\n:   1825%\n:   2330%\n:   2935%\n:   3640%\n:   4045%\n:   45.5550%\n:   5055%\n:   5660%\n:   6165%\n:   6670%\n:   7175%\n:   7580%\n:   8085%\n:   8590%\n:   9095%\n:   95100%\n:   100\n\n",
            "text/latex": "\\begin{description*}\n\\item[0\\textbackslash{}\\%] 0\n\\item[5\\textbackslash{}\\%] 5\n\\item[10\\textbackslash{}\\%] 9\n\\item[15\\textbackslash{}\\%] 13\n\\item[20\\textbackslash{}\\%] 18\n\\item[25\\textbackslash{}\\%] 23\n\\item[30\\textbackslash{}\\%] 29\n\\item[35\\textbackslash{}\\%] 36\n\\item[40\\textbackslash{}\\%] 40\n\\item[45\\textbackslash{}\\%] 45.55\n\\item[50\\textbackslash{}\\%] 50\n\\item[55\\textbackslash{}\\%] 56\n\\item[60\\textbackslash{}\\%] 61\n\\item[65\\textbackslash{}\\%] 66\n\\item[70\\textbackslash{}\\%] 71\n\\item[75\\textbackslash{}\\%] 75\n\\item[80\\textbackslash{}\\%] 80\n\\item[85\\textbackslash{}\\%] 85\n\\item[90\\textbackslash{}\\%] 90\n\\item[95\\textbackslash{}\\%] 95\n\\item[100\\textbackslash{}\\%] 100\n\\end{description*}\n",
            "text/plain": [
              "    0%     5%    10%    15%    20%    25%    30%    35%    40%    45%    50% \n",
              "  0.00   5.00   9.00  13.00  18.00  23.00  29.00  36.00  40.00  45.55  50.00 \n",
              "   55%    60%    65%    70%    75%    80%    85%    90%    95%   100% \n",
              " 56.00  61.00  66.00  71.00  75.00  80.00  85.00  90.00  95.00 100.00 "
            ]
          },
          "metadata": {}
        }
      ]
    },
    {
      "cell_type": "code",
      "source": [
        "quantile(x, probs = seq(0, 1, 1/100))   # Percentiles"
      ],
      "metadata": {
        "colab": {
          "base_uri": "https://localhost:8080/",
          "height": 138
        },
        "id": "5VKEums4Pwf3",
        "outputId": "f734d517-2a46-4c9a-9584-7ef0f3d62782"
      },
      "execution_count": 21,
      "outputs": [
        {
          "output_type": "display_data",
          "data": {
            "text/html": [
              "<style>\n",
              ".dl-inline {width: auto; margin:0; padding: 0}\n",
              ".dl-inline>dt, .dl-inline>dd {float: none; width: auto; display: inline-block}\n",
              ".dl-inline>dt::after {content: \":\\0020\"; padding-right: .5ex}\n",
              ".dl-inline>dt:not(:first-of-type) {padding-left: .5ex}\n",
              "</style><dl class=dl-inline><dt>0%</dt><dd>0</dd><dt>1%</dt><dd>1</dd><dt>2%</dt><dd>2</dd><dt>3%</dt><dd>3</dd><dt>4%</dt><dd>4</dd><dt>5%</dt><dd>5</dd><dt>6%</dt><dd>6</dd><dt>7%</dt><dd>7</dd><dt>8%</dt><dd>8</dd><dt>9%</dt><dd>8.91</dd><dt>10%</dt><dd>9</dd><dt>11%</dt><dd>10</dd><dt>12%</dt><dd>11</dd><dt>13%</dt><dd>12</dd><dt>14%</dt><dd>13</dd><dt>15%</dt><dd>13</dd><dt>16%</dt><dd>14</dd><dt>17%</dt><dd>15</dd><dt>18%</dt><dd>16</dd><dt>19%</dt><dd>18</dd><dt>20%</dt><dd>18</dd><dt>21%</dt><dd>19</dd><dt>22%</dt><dd>21</dd><dt>23%</dt><dd>22</dd><dt>24%</dt><dd>22</dd><dt>25%</dt><dd>23</dd><dt>26%</dt><dd>24</dd><dt>27%</dt><dd>25</dd><dt>28%</dt><dd>26</dd><dt>29%</dt><dd>28</dd><dt>30%</dt><dd>29</dd><dt>31%</dt><dd>30</dd><dt>32%</dt><dd>31</dd><dt>33%</dt><dd>33</dd><dt>34%</dt><dd>35</dd><dt>35%</dt><dd>36</dd><dt>36%</dt><dd>37</dd><dt>37%</dt><dd>38</dd><dt>38%</dt><dd>38</dd><dt>39%</dt><dd>39</dd><dt>40%</dt><dd>40</dd><dt>41%</dt><dd>41</dd><dt>42%</dt><dd>42</dd><dt>43%</dt><dd>43</dd><dt>44%</dt><dd>45</dd><dt>45%</dt><dd>45.55</dd><dt>46%</dt><dd>46.54</dd><dt>47%</dt><dd>47</dd><dt>48%</dt><dd>48</dd><dt>49%</dt><dd>49</dd><dt>50%</dt><dd>50</dd><dt>51%</dt><dd>51</dd><dt>52%</dt><dd>53</dd><dt>53%</dt><dd>54</dd><dt>54%</dt><dd>55</dd><dt>55%</dt><dd>56</dd><dt>56%</dt><dd>57</dd><dt>57%</dt><dd>58</dd><dt>58%</dt><dd>59</dd><dt>59%</dt><dd>60</dd><dt>60%</dt><dd>61</dd><dt>61%</dt><dd>61</dd><dt>62%</dt><dd>62</dd><dt>63%</dt><dd>64</dd><dt>64%</dt><dd>65</dd><dt>65%</dt><dd>66</dd><dt>66%</dt><dd>67.34</dd><dt>67%</dt><dd>68.33</dd><dt>68%</dt><dd>69</dd><dt>69%</dt><dd>70</dd><dt>70%</dt><dd>71</dd><dt>71%</dt><dd>72</dd><dt>72%</dt><dd>73</dd><dt>73%</dt><dd>73</dd><dt>74%</dt><dd>74</dd><dt>75%</dt><dd>75</dd><dt>76%</dt><dd>76</dd><dt>77%</dt><dd>77</dd><dt>78%</dt><dd>78</dd><dt>79%</dt><dd>79</dd><dt>80%</dt><dd>80</dd><dt>81%</dt><dd>81</dd><dt>82%</dt><dd>82</dd><dt>83%</dt><dd>83</dd><dt>84%</dt><dd>84</dd><dt>85%</dt><dd>85</dd><dt>86%</dt><dd>86.14</dd><dt>87%</dt><dd>87</dd><dt>88%</dt><dd>89</dd><dt>89%</dt><dd>90</dd><dt>90%</dt><dd>90</dd><dt>91%</dt><dd>91</dd><dt>92%</dt><dd>92</dd><dt>93%</dt><dd>94</dd><dt>94%</dt><dd>95</dd><dt>95%</dt><dd>95</dd><dt>96%</dt><dd>96</dd><dt>97%</dt><dd>97</dd><dt>98%</dt><dd>98</dd><dt>99%</dt><dd>99</dd><dt>100%</dt><dd>100</dd></dl>\n"
            ],
            "text/markdown": "0%\n:   01%\n:   12%\n:   23%\n:   34%\n:   45%\n:   56%\n:   67%\n:   78%\n:   89%\n:   8.9110%\n:   911%\n:   1012%\n:   1113%\n:   1214%\n:   1315%\n:   1316%\n:   1417%\n:   1518%\n:   1619%\n:   1820%\n:   1821%\n:   1922%\n:   2123%\n:   2224%\n:   2225%\n:   2326%\n:   2427%\n:   2528%\n:   2629%\n:   2830%\n:   2931%\n:   3032%\n:   3133%\n:   3334%\n:   3535%\n:   3636%\n:   3737%\n:   3838%\n:   3839%\n:   3940%\n:   4041%\n:   4142%\n:   4243%\n:   4344%\n:   4545%\n:   45.5546%\n:   46.5447%\n:   4748%\n:   4849%\n:   4950%\n:   5051%\n:   5152%\n:   5353%\n:   5454%\n:   5555%\n:   5656%\n:   5757%\n:   5858%\n:   5959%\n:   6060%\n:   6161%\n:   6162%\n:   6263%\n:   6464%\n:   6565%\n:   6666%\n:   67.3467%\n:   68.3368%\n:   6969%\n:   7070%\n:   7171%\n:   7272%\n:   7373%\n:   7374%\n:   7475%\n:   7576%\n:   7677%\n:   7778%\n:   7879%\n:   7980%\n:   8081%\n:   8182%\n:   8283%\n:   8384%\n:   8485%\n:   8586%\n:   86.1487%\n:   8788%\n:   8989%\n:   9090%\n:   9091%\n:   9192%\n:   9293%\n:   9494%\n:   9595%\n:   9596%\n:   9697%\n:   9798%\n:   9899%\n:   99100%\n:   100\n\n",
            "text/latex": "\\begin{description*}\n\\item[0\\textbackslash{}\\%] 0\n\\item[1\\textbackslash{}\\%] 1\n\\item[2\\textbackslash{}\\%] 2\n\\item[3\\textbackslash{}\\%] 3\n\\item[4\\textbackslash{}\\%] 4\n\\item[5\\textbackslash{}\\%] 5\n\\item[6\\textbackslash{}\\%] 6\n\\item[7\\textbackslash{}\\%] 7\n\\item[8\\textbackslash{}\\%] 8\n\\item[9\\textbackslash{}\\%] 8.91\n\\item[10\\textbackslash{}\\%] 9\n\\item[11\\textbackslash{}\\%] 10\n\\item[12\\textbackslash{}\\%] 11\n\\item[13\\textbackslash{}\\%] 12\n\\item[14\\textbackslash{}\\%] 13\n\\item[15\\textbackslash{}\\%] 13\n\\item[16\\textbackslash{}\\%] 14\n\\item[17\\textbackslash{}\\%] 15\n\\item[18\\textbackslash{}\\%] 16\n\\item[19\\textbackslash{}\\%] 18\n\\item[20\\textbackslash{}\\%] 18\n\\item[21\\textbackslash{}\\%] 19\n\\item[22\\textbackslash{}\\%] 21\n\\item[23\\textbackslash{}\\%] 22\n\\item[24\\textbackslash{}\\%] 22\n\\item[25\\textbackslash{}\\%] 23\n\\item[26\\textbackslash{}\\%] 24\n\\item[27\\textbackslash{}\\%] 25\n\\item[28\\textbackslash{}\\%] 26\n\\item[29\\textbackslash{}\\%] 28\n\\item[30\\textbackslash{}\\%] 29\n\\item[31\\textbackslash{}\\%] 30\n\\item[32\\textbackslash{}\\%] 31\n\\item[33\\textbackslash{}\\%] 33\n\\item[34\\textbackslash{}\\%] 35\n\\item[35\\textbackslash{}\\%] 36\n\\item[36\\textbackslash{}\\%] 37\n\\item[37\\textbackslash{}\\%] 38\n\\item[38\\textbackslash{}\\%] 38\n\\item[39\\textbackslash{}\\%] 39\n\\item[40\\textbackslash{}\\%] 40\n\\item[41\\textbackslash{}\\%] 41\n\\item[42\\textbackslash{}\\%] 42\n\\item[43\\textbackslash{}\\%] 43\n\\item[44\\textbackslash{}\\%] 45\n\\item[45\\textbackslash{}\\%] 45.55\n\\item[46\\textbackslash{}\\%] 46.54\n\\item[47\\textbackslash{}\\%] 47\n\\item[48\\textbackslash{}\\%] 48\n\\item[49\\textbackslash{}\\%] 49\n\\item[50\\textbackslash{}\\%] 50\n\\item[51\\textbackslash{}\\%] 51\n\\item[52\\textbackslash{}\\%] 53\n\\item[53\\textbackslash{}\\%] 54\n\\item[54\\textbackslash{}\\%] 55\n\\item[55\\textbackslash{}\\%] 56\n\\item[56\\textbackslash{}\\%] 57\n\\item[57\\textbackslash{}\\%] 58\n\\item[58\\textbackslash{}\\%] 59\n\\item[59\\textbackslash{}\\%] 60\n\\item[60\\textbackslash{}\\%] 61\n\\item[61\\textbackslash{}\\%] 61\n\\item[62\\textbackslash{}\\%] 62\n\\item[63\\textbackslash{}\\%] 64\n\\item[64\\textbackslash{}\\%] 65\n\\item[65\\textbackslash{}\\%] 66\n\\item[66\\textbackslash{}\\%] 67.34\n\\item[67\\textbackslash{}\\%] 68.33\n\\item[68\\textbackslash{}\\%] 69\n\\item[69\\textbackslash{}\\%] 70\n\\item[70\\textbackslash{}\\%] 71\n\\item[71\\textbackslash{}\\%] 72\n\\item[72\\textbackslash{}\\%] 73\n\\item[73\\textbackslash{}\\%] 73\n\\item[74\\textbackslash{}\\%] 74\n\\item[75\\textbackslash{}\\%] 75\n\\item[76\\textbackslash{}\\%] 76\n\\item[77\\textbackslash{}\\%] 77\n\\item[78\\textbackslash{}\\%] 78\n\\item[79\\textbackslash{}\\%] 79\n\\item[80\\textbackslash{}\\%] 80\n\\item[81\\textbackslash{}\\%] 81\n\\item[82\\textbackslash{}\\%] 82\n\\item[83\\textbackslash{}\\%] 83\n\\item[84\\textbackslash{}\\%] 84\n\\item[85\\textbackslash{}\\%] 85\n\\item[86\\textbackslash{}\\%] 86.14\n\\item[87\\textbackslash{}\\%] 87\n\\item[88\\textbackslash{}\\%] 89\n\\item[89\\textbackslash{}\\%] 90\n\\item[90\\textbackslash{}\\%] 90\n\\item[91\\textbackslash{}\\%] 91\n\\item[92\\textbackslash{}\\%] 92\n\\item[93\\textbackslash{}\\%] 94\n\\item[94\\textbackslash{}\\%] 95\n\\item[95\\textbackslash{}\\%] 95\n\\item[96\\textbackslash{}\\%] 96\n\\item[97\\textbackslash{}\\%] 97\n\\item[98\\textbackslash{}\\%] 98\n\\item[99\\textbackslash{}\\%] 99\n\\item[100\\textbackslash{}\\%] 100\n\\end{description*}\n",
            "text/plain": [
              "    0%     1%     2%     3%     4%     5%     6%     7%     8%     9%    10% \n",
              "  0.00   1.00   2.00   3.00   4.00   5.00   6.00   7.00   8.00   8.91   9.00 \n",
              "   11%    12%    13%    14%    15%    16%    17%    18%    19%    20%    21% \n",
              " 10.00  11.00  12.00  13.00  13.00  14.00  15.00  16.00  18.00  18.00  19.00 \n",
              "   22%    23%    24%    25%    26%    27%    28%    29%    30%    31%    32% \n",
              " 21.00  22.00  22.00  23.00  24.00  25.00  26.00  28.00  29.00  30.00  31.00 \n",
              "   33%    34%    35%    36%    37%    38%    39%    40%    41%    42%    43% \n",
              " 33.00  35.00  36.00  37.00  38.00  38.00  39.00  40.00  41.00  42.00  43.00 \n",
              "   44%    45%    46%    47%    48%    49%    50%    51%    52%    53%    54% \n",
              " 45.00  45.55  46.54  47.00  48.00  49.00  50.00  51.00  53.00  54.00  55.00 \n",
              "   55%    56%    57%    58%    59%    60%    61%    62%    63%    64%    65% \n",
              " 56.00  57.00  58.00  59.00  60.00  61.00  61.00  62.00  64.00  65.00  66.00 \n",
              "   66%    67%    68%    69%    70%    71%    72%    73%    74%    75%    76% \n",
              " 67.34  68.33  69.00  70.00  71.00  72.00  73.00  73.00  74.00  75.00  76.00 \n",
              "   77%    78%    79%    80%    81%    82%    83%    84%    85%    86%    87% \n",
              " 77.00  78.00  79.00  80.00  81.00  82.00  83.00  84.00  85.00  86.14  87.00 \n",
              "   88%    89%    90%    91%    92%    93%    94%    95%    96%    97%    98% \n",
              " 89.00  90.00  90.00  91.00  92.00  94.00  95.00  95.00  96.00  97.00  98.00 \n",
              "   99%   100% \n",
              " 99.00 100.00 "
            ]
          },
          "metadata": {}
        }
      ]
    },
    {
      "cell_type": "code",
      "source": [
        "quantile(x, probs = seq(0, 1, 1/1000))  # Permilles or milliles"
      ],
      "metadata": {
        "colab": {
          "base_uri": "https://localhost:8080/",
          "height": 555
        },
        "id": "eDp9irbnPx49",
        "outputId": "08f9b29d-7a15-4bd1-c9a9-a8a9ac57f145"
      },
      "execution_count": 22,
      "outputs": [
        {
          "output_type": "display_data",
          "data": {
            "text/html": [
              "<style>\n",
              ".dl-inline {width: auto; margin:0; padding: 0}\n",
              ".dl-inline>dt, .dl-inline>dd {float: none; width: auto; display: inline-block}\n",
              ".dl-inline>dt::after {content: \":\\0020\"; padding-right: .5ex}\n",
              ".dl-inline>dt:not(:first-of-type) {padding-left: .5ex}\n",
              "</style><dl class=dl-inline><dt>0.0%</dt><dd>0</dd><dt>0.1%</dt><dd>0</dd><dt>0.2%</dt><dd>0</dd><dt>0.3%</dt><dd>0</dd><dt>0.4%</dt><dd>0</dd><dt>0.5%</dt><dd>0</dd><dt>0.6%</dt><dd>0</dd><dt>0.7%</dt><dd>0.993</dd><dt>0.8%</dt><dd>1</dd><dt>0.9%</dt><dd>1</dd><dt>1.0%</dt><dd>1</dd><dt>1.1%</dt><dd>1</dd><dt>1.2%</dt><dd>1</dd><dt>1.3%</dt><dd>1.987</dd><dt>1.4%</dt><dd>2</dd><dt>1.5%</dt><dd>2</dd><dt>1.6%</dt><dd>2</dd><dt>1.7%</dt><dd>2</dd><dt>1.8%</dt><dd>2</dd><dt>1.9%</dt><dd>2</dd><dt>2.0%</dt><dd>2</dd><dt>2.1%</dt><dd>2</dd><dt>2.2%</dt><dd>2</dd><dt>2.3%</dt><dd>2</dd><dt>2.4%</dt><dd>2</dd><dt>2.5%</dt><dd>2.975</dd><dt>2.6%</dt><dd>3</dd><dt>2.7%</dt><dd>3</dd><dt>2.8%</dt><dd>3</dd><dt>2.9%</dt><dd>3</dd><dt>3.0%</dt><dd>3</dd><dt>3.1%</dt><dd>3</dd><dt>3.2%</dt><dd>3</dd><dt>3.3%</dt><dd>3</dd><dt>3.4%</dt><dd>3</dd><dt>3.5%</dt><dd>3.965</dd><dt>3.6%</dt><dd>4</dd><dt>3.7%</dt><dd>4</dd><dt>3.8%</dt><dd>4</dd><dt>3.9%</dt><dd>4</dd><dt>4.0%</dt><dd>4</dd><dt>4.1%</dt><dd>4</dd><dt>4.2%</dt><dd>4</dd><dt>4.3%</dt><dd>4</dd><dt>4.4%</dt><dd>4</dd><dt>4.5%</dt><dd>4.955</dd><dt>4.6%</dt><dd>5</dd><dt>4.7%</dt><dd>5</dd><dt>4.8%</dt><dd>5</dd><dt>4.9%</dt><dd>5</dd><dt>5.0%</dt><dd>5</dd><dt>5.1%</dt><dd>5</dd><dt>5.2%</dt><dd>5</dd><dt>5.3%</dt><dd>5</dd><dt>5.4%</dt><dd>5.946</dd><dt>5.5%</dt><dd>6</dd><dt>5.6%</dt><dd>6</dd><dt>5.7%</dt><dd>6</dd><dt>5.8%</dt><dd>6</dd><dt>5.9%</dt><dd>6</dd><dt>6.0%</dt><dd>6</dd><dt>6.1%</dt><dd>6</dd><dt>6.2%</dt><dd>6.938</dd><dt>6.3%</dt><dd>7</dd><dt>6.4%</dt><dd>7</dd><dt>6.5%</dt><dd>7</dd><dt>6.6%</dt><dd>7</dd><dt>6.7%</dt><dd>7</dd><dt>6.8%</dt><dd>7</dd><dt>6.9%</dt><dd>7</dd><dt>7.0%</dt><dd>7</dd><dt>7.1%</dt><dd>7</dd><dt>7.2%</dt><dd>7</dd><dt>7.3%</dt><dd>7.92699999999999</dd><dt>7.4%</dt><dd>8</dd><dt>7.5%</dt><dd>8</dd><dt>7.6%</dt><dd>8</dd><dt>7.7%</dt><dd>8</dd><dt>7.8%</dt><dd>8</dd><dt>7.9%</dt><dd>8</dd><dt>8.0%</dt><dd>8</dd><dt>8.1%</dt><dd>8</dd><dt>8.2%</dt><dd>8</dd><dt>8.3%</dt><dd>8</dd><dt>8.4%</dt><dd>8</dd><dt>8.5%</dt><dd>8</dd><dt>8.6%</dt><dd>8</dd><dt>8.7%</dt><dd>8</dd><dt>8.8%</dt><dd>8</dd><dt>8.9%</dt><dd>8</dd><dt>9.0%</dt><dd>8.91</dd><dt>9.1%</dt><dd>9</dd><dt>9.2%</dt><dd>9</dd><dt>9.3%</dt><dd>9</dd><dt>9.4%</dt><dd>9</dd><dt>9.5%</dt><dd>9</dd><dt>9.6%</dt><dd>9</dd><dt>9.7%</dt><dd>9</dd><dt>9.8%</dt><dd>9</dd><dt>9.9%</dt><dd>9</dd><dt>10.0%</dt><dd>9</dd><dt>10.1%</dt><dd>9</dd><dt>10.2%</dt><dd>9</dd><dt>10.3%</dt><dd>9</dd><dt>10.4%</dt><dd>9</dd><dt>10.5%</dt><dd>9</dd><dt>10.6%</dt><dd>9.89399999999999</dd><dt>10.7%</dt><dd>10</dd><dt>10.8%</dt><dd>10</dd><dt>10.9%</dt><dd>10</dd><dt>11.0%</dt><dd>10</dd><dt>11.1%</dt><dd>10</dd><dt>11.2%</dt><dd>10</dd><dt>11.3%</dt><dd>10</dd><dt>11.4%</dt><dd>10</dd><dt>11.5%</dt><dd>10</dd><dt>11.6%</dt><dd>10.884</dd><dt>11.7%</dt><dd>11</dd><dt>11.8%</dt><dd>11</dd><dt>11.9%</dt><dd>11</dd><dt>12.0%</dt><dd>11</dd><dt>12.1%</dt><dd>11</dd><dt>12.2%</dt><dd>11</dd><dt>12.3%</dt><dd>11</dd><dt>12.4%</dt><dd>11</dd><dt>12.5%</dt><dd>11.875</dd><dt>12.6%</dt><dd>12</dd><dt>12.7%</dt><dd>12</dd><dt>12.8%</dt><dd>12</dd><dt>12.9%</dt><dd>12</dd><dt>13.0%</dt><dd>12</dd><dt>13.1%</dt><dd>12</dd><dt>13.2%</dt><dd>12</dd><dt>13.3%</dt><dd>12</dd><dt>13.4%</dt><dd>12</dd><dt>13.5%</dt><dd>12</dd><dt>13.6%</dt><dd>12</dd><dt>13.7%</dt><dd>12</dd><dt>13.8%</dt><dd>12.862</dd><dt>13.9%</dt><dd>13</dd><dt>14.0%</dt><dd>13</dd><dt>14.1%</dt><dd>13</dd><dt>14.2%</dt><dd>13</dd><dt>14.3%</dt><dd>13</dd><dt>14.4%</dt><dd>13</dd><dt>14.5%</dt><dd>13</dd><dt>14.6%</dt><dd>13</dd><dt>14.7%</dt><dd>13</dd><dt>14.8%</dt><dd>13</dd><dt>14.9%</dt><dd>13</dd><dt>15.0%</dt><dd>13</dd><dt>15.1%</dt><dd>13</dd><dt>15.2%</dt><dd>13</dd><dt>15.3%</dt><dd>13</dd><dt>15.4%</dt><dd>13</dd><dt>15.5%</dt><dd>13</dd><dt>15.6%</dt><dd>13.844</dd><dt>15.7%</dt><dd>14</dd><dt>15.8%</dt><dd>14</dd><dt>15.9%</dt><dd>14</dd><dt>16.0%</dt><dd>14</dd><dt>16.1%</dt><dd>14</dd><dt>16.2%</dt><dd>14</dd><dt>16.3%</dt><dd>14</dd><dt>16.4%</dt><dd>14.836</dd><dt>16.5%</dt><dd>15</dd><dt>16.6%</dt><dd>15</dd><dt>16.7%</dt><dd>15</dd><dt>16.8%</dt><dd>15</dd><dt>16.9%</dt><dd>15</dd><dt>17.0%</dt><dd>15</dd><dt>17.1%</dt><dd>15</dd><dt>17.2%</dt><dd>15</dd><dt>17.3%</dt><dd>15</dd><dt>17.4%</dt><dd>15</dd><dt>17.5%</dt><dd>15</dd><dt>17.6%</dt><dd>15.824</dd><dt>17.7%</dt><dd>16</dd><dt>17.8%</dt><dd>16</dd><dt>17.9%</dt><dd>16</dd><dt>18.0%</dt><dd>16</dd><dt>18.1%</dt><dd>16.819</dd><dt>18.2%</dt><dd>17</dd><dt>18.3%</dt><dd>17</dd><dt>18.4%</dt><dd>17</dd><dt>18.5%</dt><dd>17</dd><dt>18.6%</dt><dd>17</dd><dt>18.7%</dt><dd>17</dd><dt>18.8%</dt><dd>17</dd><dt>18.9%</dt><dd>17.811</dd><dt>19.0%</dt><dd>18</dd><dt>19.1%</dt><dd>18</dd><dt>19.2%</dt><dd>18</dd><dt>19.3%</dt><dd>18</dd><dt>19.4%</dt><dd>18</dd><dt>19.5%</dt><dd>18</dd><dt>19.6%</dt><dd>18</dd><dt>19.7%</dt><dd>18</dd><dt>19.8%</dt><dd>18</dd><dt>19.9%</dt><dd>18</dd><dt>20.0%</dt><dd>⋯</dd><dt>20.1%</dt><dd>80</dd><dt>20.2%</dt><dd>80</dd><dt>20.3%</dt><dd>80</dd><dt>20.4%</dt><dd>80</dd><dt>20.5%</dt><dd>80</dd><dt>20.6%</dt><dd>80</dd><dt>20.7%</dt><dd>80.1930000000001</dd><dt>20.8%</dt><dd>81</dd><dt>20.9%</dt><dd>81</dd><dt>21.0%</dt><dd>81</dd><dt>21.1%</dt><dd>81</dd><dt>21.2%</dt><dd>81</dd><dt>21.3%</dt><dd>81</dd><dt>21.4%</dt><dd>81</dd><dt>21.5%</dt><dd>81</dd><dt>21.6%</dt><dd>81.1840000000001</dd><dt>21.7%</dt><dd>82</dd><dt>21.8%</dt><dd>82</dd><dt>21.9%</dt><dd>82</dd><dt>22.0%</dt><dd>82</dd><dt>22.1%</dt><dd>82</dd><dt>22.2%</dt><dd>82</dd><dt>22.3%</dt><dd>82</dd><dt>22.4%</dt><dd>82</dd><dt>22.5%</dt><dd>82.1750000000001</dd><dt>22.6%</dt><dd>83</dd><dt>22.7%</dt><dd>83</dd><dt>22.8%</dt><dd>83</dd><dt>22.9%</dt><dd>83</dd><dt>23.0%</dt><dd>83</dd><dt>23.1%</dt><dd>83</dd><dt>23.2%</dt><dd>83</dd><dt>23.3%</dt><dd>83</dd><dt>23.4%</dt><dd>83</dd><dt>23.5%</dt><dd>83.165</dd><dt>23.6%</dt><dd>84</dd><dt>23.7%</dt><dd>84</dd><dt>23.8%</dt><dd>84</dd><dt>23.9%</dt><dd>84</dd><dt>24.0%</dt><dd>84</dd><dt>24.1%</dt><dd>84</dd><dt>24.2%</dt><dd>84</dd><dt>24.3%</dt><dd>84</dd><dt>24.4%</dt><dd>84.1559999999999</dd><dt>24.5%</dt><dd>85</dd><dt>24.6%</dt><dd>85</dd><dt>24.7%</dt><dd>85</dd><dt>24.8%</dt><dd>85</dd><dt>24.9%</dt><dd>85</dd><dt>25.0%</dt><dd>85</dd><dt>25.1%</dt><dd>85</dd><dt>25.2%</dt><dd>85</dd><dt>25.3%</dt><dd>85.1469999999999</dd><dt>25.4%</dt><dd>86</dd><dt>25.5%</dt><dd>86</dd><dt>25.6%</dt><dd>86</dd><dt>25.7%</dt><dd>86</dd><dt>25.8%</dt><dd>86</dd><dt>25.9%</dt><dd>86</dd><dt>26.0%</dt><dd>86.14</dd><dt>26.1%</dt><dd>87</dd><dt>26.2%</dt><dd>87</dd><dt>26.3%</dt><dd>87</dd><dt>26.4%</dt><dd>87</dd><dt>26.5%</dt><dd>87</dd><dt>26.6%</dt><dd>87</dd><dt>26.7%</dt><dd>87</dd><dt>26.8%</dt><dd>87</dd><dt>26.9%</dt><dd>87</dd><dt>27.0%</dt><dd>87</dd><dt>27.1%</dt><dd>87.129</dd><dt>27.2%</dt><dd>88</dd><dt>27.3%</dt><dd>88</dd><dt>27.4%</dt><dd>88</dd><dt>27.5%</dt><dd>88</dd><dt>27.6%</dt><dd>88</dd><dt>27.7%</dt><dd>88</dd><dt>27.8%</dt><dd>88</dd><dt>27.9%</dt><dd>88.121</dd><dt>28.0%</dt><dd>89</dd><dt>28.1%</dt><dd>89</dd><dt>28.2%</dt><dd>89</dd><dt>28.3%</dt><dd>89</dd><dt>28.4%</dt><dd>89</dd><dt>28.5%</dt><dd>89</dd><dt>28.6%</dt><dd>89</dd><dt>28.7%</dt><dd>89</dd><dt>28.8%</dt><dd>89.112</dd><dt>28.9%</dt><dd>90</dd><dt>29.0%</dt><dd>90</dd><dt>29.1%</dt><dd>90</dd><dt>29.2%</dt><dd>90</dd><dt>29.3%</dt><dd>90</dd><dt>29.4%</dt><dd>90</dd><dt>29.5%</dt><dd>90</dd><dt>29.6%</dt><dd>90</dd><dt>29.7%</dt><dd>90</dd><dt>29.8%</dt><dd>90</dd><dt>29.9%</dt><dd>90</dd><dt>30.0%</dt><dd>90</dd><dt>30.1%</dt><dd>90.099</dd><dt>30.2%</dt><dd>91</dd><dt>30.3%</dt><dd>91</dd><dt>30.4%</dt><dd>91</dd><dt>30.5%</dt><dd>91</dd><dt>30.6%</dt><dd>91</dd><dt>30.7%</dt><dd>91</dd><dt>30.8%</dt><dd>91</dd><dt>30.9%</dt><dd>91</dd><dt>31.0%</dt><dd>91</dd><dt>31.1%</dt><dd>91</dd><dt>31.2%</dt><dd>91.0880000000001</dd><dt>31.3%</dt><dd>92</dd><dt>31.4%</dt><dd>92</dd><dt>31.5%</dt><dd>92</dd><dt>31.6%</dt><dd>92</dd><dt>31.7%</dt><dd>92</dd><dt>31.8%</dt><dd>92</dd><dt>31.9%</dt><dd>92</dd><dt>32.0%</dt><dd>92</dd><dt>32.1%</dt><dd>92</dd><dt>32.2%</dt><dd>92.0780000000001</dd><dt>32.3%</dt><dd>93</dd><dt>32.4%</dt><dd>93</dd><dt>32.5%</dt><dd>93</dd><dt>32.6%</dt><dd>93</dd><dt>32.7%</dt><dd>93</dd><dt>32.8%</dt><dd>93</dd><dt>32.9%</dt><dd>93.071</dd><dt>33.0%</dt><dd>94</dd><dt>33.1%</dt><dd>94</dd><dt>33.2%</dt><dd>94</dd><dt>33.3%</dt><dd>94</dd><dt>33.4%</dt><dd>94</dd><dt>33.5%</dt><dd>94</dd><dt>33.6%</dt><dd>94</dd><dt>33.7%</dt><dd>94</dd><dt>33.8%</dt><dd>94.062</dd><dt>33.9%</dt><dd>95</dd><dt>34.0%</dt><dd>95</dd><dt>34.1%</dt><dd>95</dd><dt>34.2%</dt><dd>95</dd><dt>34.3%</dt><dd>95</dd><dt>34.4%</dt><dd>95</dd><dt>34.5%</dt><dd>95</dd><dt>34.6%</dt><dd>95</dd><dt>34.7%</dt><dd>95</dd><dt>34.8%</dt><dd>95</dd><dt>34.9%</dt><dd>95</dd><dt>35.0%</dt><dd>95</dd><dt>35.1%</dt><dd>95</dd><dt>35.2%</dt><dd>95</dd><dt>35.3%</dt><dd>95</dd><dt>35.4%</dt><dd>95</dd><dt>35.5%</dt><dd>95.0450000000001</dd><dt>35.6%</dt><dd>96</dd><dt>35.7%</dt><dd>96</dd><dt>35.8%</dt><dd>96</dd><dt>35.9%</dt><dd>96</dd><dt>36.0%</dt><dd>96</dd><dt>36.1%</dt><dd>96</dd><dt>36.2%</dt><dd>96</dd><dt>36.3%</dt><dd>96</dd><dt>36.4%</dt><dd>96</dd><dt>36.5%</dt><dd>96</dd><dt>36.6%</dt><dd>96.034</dd><dt>36.7%</dt><dd>97</dd><dt>36.8%</dt><dd>97</dd><dt>36.9%</dt><dd>97</dd><dt>37.0%</dt><dd>97</dd><dt>37.1%</dt><dd>97</dd><dt>37.2%</dt><dd>97</dd><dt>37.3%</dt><dd>97</dd><dt>37.4%</dt><dd>97</dd><dt>37.5%</dt><dd>97</dd><dt>37.6%</dt><dd>97.024</dd><dt>37.7%</dt><dd>98</dd><dt>37.8%</dt><dd>98</dd><dt>37.9%</dt><dd>98</dd><dt>38.0%</dt><dd>98</dd><dt>38.1%</dt><dd>98</dd><dt>38.2%</dt><dd>98</dd><dt>38.3%</dt><dd>98</dd><dt>38.4%</dt><dd>98</dd><dt>38.5%</dt><dd>98.015</dd><dt>38.6%</dt><dd>99</dd><dt>38.7%</dt><dd>99</dd><dt>38.8%</dt><dd>99</dd><dt>38.9%</dt><dd>99</dd><dt>39.0%</dt><dd>99</dd><dt>39.1%</dt><dd>99</dd><dt>39.2%</dt><dd>99</dd><dt>39.3%</dt><dd>99</dd><dt>39.4%</dt><dd>99.006</dd><dt>39.5%</dt><dd>100</dd><dt>39.6%</dt><dd>100</dd><dt>39.7%</dt><dd>100</dd><dt>39.8%</dt><dd>100</dd><dt>39.9%</dt><dd>100</dd><dt>40.0%</dt><dd>100</dd></dl>\n"
            ],
            "text/markdown": "0.0%\n:   00.1%\n:   00.2%\n:   00.3%\n:   00.4%\n:   00.5%\n:   00.6%\n:   00.7%\n:   0.9930.8%\n:   10.9%\n:   11.0%\n:   11.1%\n:   11.2%\n:   11.3%\n:   1.9871.4%\n:   21.5%\n:   21.6%\n:   21.7%\n:   21.8%\n:   21.9%\n:   22.0%\n:   22.1%\n:   22.2%\n:   22.3%\n:   22.4%\n:   22.5%\n:   2.9752.6%\n:   32.7%\n:   32.8%\n:   32.9%\n:   33.0%\n:   33.1%\n:   33.2%\n:   33.3%\n:   33.4%\n:   33.5%\n:   3.9653.6%\n:   43.7%\n:   43.8%\n:   43.9%\n:   44.0%\n:   44.1%\n:   44.2%\n:   44.3%\n:   44.4%\n:   44.5%\n:   4.9554.6%\n:   54.7%\n:   54.8%\n:   54.9%\n:   55.0%\n:   55.1%\n:   55.2%\n:   55.3%\n:   55.4%\n:   5.9465.5%\n:   65.6%\n:   65.7%\n:   65.8%\n:   65.9%\n:   66.0%\n:   66.1%\n:   66.2%\n:   6.9386.3%\n:   76.4%\n:   76.5%\n:   76.6%\n:   76.7%\n:   76.8%\n:   76.9%\n:   77.0%\n:   77.1%\n:   77.2%\n:   77.3%\n:   7.926999999999997.4%\n:   87.5%\n:   87.6%\n:   87.7%\n:   87.8%\n:   87.9%\n:   88.0%\n:   88.1%\n:   88.2%\n:   88.3%\n:   88.4%\n:   88.5%\n:   88.6%\n:   88.7%\n:   88.8%\n:   88.9%\n:   89.0%\n:   8.919.1%\n:   99.2%\n:   99.3%\n:   99.4%\n:   99.5%\n:   99.6%\n:   99.7%\n:   99.8%\n:   99.9%\n:   910.0%\n:   910.1%\n:   910.2%\n:   910.3%\n:   910.4%\n:   910.5%\n:   910.6%\n:   9.8939999999999910.7%\n:   1010.8%\n:   1010.9%\n:   1011.0%\n:   1011.1%\n:   1011.2%\n:   1011.3%\n:   1011.4%\n:   1011.5%\n:   1011.6%\n:   10.88411.7%\n:   1111.8%\n:   1111.9%\n:   1112.0%\n:   1112.1%\n:   1112.2%\n:   1112.3%\n:   1112.4%\n:   1112.5%\n:   11.87512.6%\n:   1212.7%\n:   1212.8%\n:   1212.9%\n:   1213.0%\n:   1213.1%\n:   1213.2%\n:   1213.3%\n:   1213.4%\n:   1213.5%\n:   1213.6%\n:   1213.7%\n:   1213.8%\n:   12.86213.9%\n:   1314.0%\n:   1314.1%\n:   1314.2%\n:   1314.3%\n:   1314.4%\n:   1314.5%\n:   1314.6%\n:   1314.7%\n:   1314.8%\n:   1314.9%\n:   1315.0%\n:   1315.1%\n:   1315.2%\n:   1315.3%\n:   1315.4%\n:   1315.5%\n:   1315.6%\n:   13.84415.7%\n:   1415.8%\n:   1415.9%\n:   1416.0%\n:   1416.1%\n:   1416.2%\n:   1416.3%\n:   1416.4%\n:   14.83616.5%\n:   1516.6%\n:   1516.7%\n:   1516.8%\n:   1516.9%\n:   1517.0%\n:   1517.1%\n:   1517.2%\n:   1517.3%\n:   1517.4%\n:   1517.5%\n:   1517.6%\n:   15.82417.7%\n:   1617.8%\n:   1617.9%\n:   1618.0%\n:   1618.1%\n:   16.81918.2%\n:   1718.3%\n:   1718.4%\n:   1718.5%\n:   1718.6%\n:   1718.7%\n:   1718.8%\n:   1718.9%\n:   17.81119.0%\n:   1819.1%\n:   1819.2%\n:   1819.3%\n:   1819.4%\n:   1819.5%\n:   1819.6%\n:   1819.7%\n:   1819.8%\n:   1819.9%\n:   1820.0%\n:   ⋯20.1%\n:   8020.2%\n:   8020.3%\n:   8020.4%\n:   8020.5%\n:   8020.6%\n:   8020.7%\n:   80.193000000000120.8%\n:   8120.9%\n:   8121.0%\n:   8121.1%\n:   8121.2%\n:   8121.3%\n:   8121.4%\n:   8121.5%\n:   8121.6%\n:   81.184000000000121.7%\n:   8221.8%\n:   8221.9%\n:   8222.0%\n:   8222.1%\n:   8222.2%\n:   8222.3%\n:   8222.4%\n:   8222.5%\n:   82.175000000000122.6%\n:   8322.7%\n:   8322.8%\n:   8322.9%\n:   8323.0%\n:   8323.1%\n:   8323.2%\n:   8323.3%\n:   8323.4%\n:   8323.5%\n:   83.16523.6%\n:   8423.7%\n:   8423.8%\n:   8423.9%\n:   8424.0%\n:   8424.1%\n:   8424.2%\n:   8424.3%\n:   8424.4%\n:   84.155999999999924.5%\n:   8524.6%\n:   8524.7%\n:   8524.8%\n:   8524.9%\n:   8525.0%\n:   8525.1%\n:   8525.2%\n:   8525.3%\n:   85.146999999999925.4%\n:   8625.5%\n:   8625.6%\n:   8625.7%\n:   8625.8%\n:   8625.9%\n:   8626.0%\n:   86.1426.1%\n:   8726.2%\n:   8726.3%\n:   8726.4%\n:   8726.5%\n:   8726.6%\n:   8726.7%\n:   8726.8%\n:   8726.9%\n:   8727.0%\n:   8727.1%\n:   87.12927.2%\n:   8827.3%\n:   8827.4%\n:   8827.5%\n:   8827.6%\n:   8827.7%\n:   8827.8%\n:   8827.9%\n:   88.12128.0%\n:   8928.1%\n:   8928.2%\n:   8928.3%\n:   8928.4%\n:   8928.5%\n:   8928.6%\n:   8928.7%\n:   8928.8%\n:   89.11228.9%\n:   9029.0%\n:   9029.1%\n:   9029.2%\n:   9029.3%\n:   9029.4%\n:   9029.5%\n:   9029.6%\n:   9029.7%\n:   9029.8%\n:   9029.9%\n:   9030.0%\n:   9030.1%\n:   90.09930.2%\n:   9130.3%\n:   9130.4%\n:   9130.5%\n:   9130.6%\n:   9130.7%\n:   9130.8%\n:   9130.9%\n:   9131.0%\n:   9131.1%\n:   9131.2%\n:   91.088000000000131.3%\n:   9231.4%\n:   9231.5%\n:   9231.6%\n:   9231.7%\n:   9231.8%\n:   9231.9%\n:   9232.0%\n:   9232.1%\n:   9232.2%\n:   92.078000000000132.3%\n:   9332.4%\n:   9332.5%\n:   9332.6%\n:   9332.7%\n:   9332.8%\n:   9332.9%\n:   93.07133.0%\n:   9433.1%\n:   9433.2%\n:   9433.3%\n:   9433.4%\n:   9433.5%\n:   9433.6%\n:   9433.7%\n:   9433.8%\n:   94.06233.9%\n:   9534.0%\n:   9534.1%\n:   9534.2%\n:   9534.3%\n:   9534.4%\n:   9534.5%\n:   9534.6%\n:   9534.7%\n:   9534.8%\n:   9534.9%\n:   9535.0%\n:   9535.1%\n:   9535.2%\n:   9535.3%\n:   9535.4%\n:   9535.5%\n:   95.045000000000135.6%\n:   9635.7%\n:   9635.8%\n:   9635.9%\n:   9636.0%\n:   9636.1%\n:   9636.2%\n:   9636.3%\n:   9636.4%\n:   9636.5%\n:   9636.6%\n:   96.03436.7%\n:   9736.8%\n:   9736.9%\n:   9737.0%\n:   9737.1%\n:   9737.2%\n:   9737.3%\n:   9737.4%\n:   9737.5%\n:   9737.6%\n:   97.02437.7%\n:   9837.8%\n:   9837.9%\n:   9838.0%\n:   9838.1%\n:   9838.2%\n:   9838.3%\n:   9838.4%\n:   9838.5%\n:   98.01538.6%\n:   9938.7%\n:   9938.8%\n:   9938.9%\n:   9939.0%\n:   9939.1%\n:   9939.2%\n:   9939.3%\n:   9939.4%\n:   99.00639.5%\n:   10039.6%\n:   10039.7%\n:   10039.8%\n:   10039.9%\n:   10040.0%\n:   100\n\n",
            "text/latex": "\\begin{description*}\n\\item[0.0\\textbackslash{}\\%] 0\n\\item[0.1\\textbackslash{}\\%] 0\n\\item[0.2\\textbackslash{}\\%] 0\n\\item[0.3\\textbackslash{}\\%] 0\n\\item[0.4\\textbackslash{}\\%] 0\n\\item[0.5\\textbackslash{}\\%] 0\n\\item[0.6\\textbackslash{}\\%] 0\n\\item[0.7\\textbackslash{}\\%] 0.993\n\\item[0.8\\textbackslash{}\\%] 1\n\\item[0.9\\textbackslash{}\\%] 1\n\\item[1.0\\textbackslash{}\\%] 1\n\\item[1.1\\textbackslash{}\\%] 1\n\\item[1.2\\textbackslash{}\\%] 1\n\\item[1.3\\textbackslash{}\\%] 1.987\n\\item[1.4\\textbackslash{}\\%] 2\n\\item[1.5\\textbackslash{}\\%] 2\n\\item[1.6\\textbackslash{}\\%] 2\n\\item[1.7\\textbackslash{}\\%] 2\n\\item[1.8\\textbackslash{}\\%] 2\n\\item[1.9\\textbackslash{}\\%] 2\n\\item[2.0\\textbackslash{}\\%] 2\n\\item[2.1\\textbackslash{}\\%] 2\n\\item[2.2\\textbackslash{}\\%] 2\n\\item[2.3\\textbackslash{}\\%] 2\n\\item[2.4\\textbackslash{}\\%] 2\n\\item[2.5\\textbackslash{}\\%] 2.975\n\\item[2.6\\textbackslash{}\\%] 3\n\\item[2.7\\textbackslash{}\\%] 3\n\\item[2.8\\textbackslash{}\\%] 3\n\\item[2.9\\textbackslash{}\\%] 3\n\\item[3.0\\textbackslash{}\\%] 3\n\\item[3.1\\textbackslash{}\\%] 3\n\\item[3.2\\textbackslash{}\\%] 3\n\\item[3.3\\textbackslash{}\\%] 3\n\\item[3.4\\textbackslash{}\\%] 3\n\\item[3.5\\textbackslash{}\\%] 3.965\n\\item[3.6\\textbackslash{}\\%] 4\n\\item[3.7\\textbackslash{}\\%] 4\n\\item[3.8\\textbackslash{}\\%] 4\n\\item[3.9\\textbackslash{}\\%] 4\n\\item[4.0\\textbackslash{}\\%] 4\n\\item[4.1\\textbackslash{}\\%] 4\n\\item[4.2\\textbackslash{}\\%] 4\n\\item[4.3\\textbackslash{}\\%] 4\n\\item[4.4\\textbackslash{}\\%] 4\n\\item[4.5\\textbackslash{}\\%] 4.955\n\\item[4.6\\textbackslash{}\\%] 5\n\\item[4.7\\textbackslash{}\\%] 5\n\\item[4.8\\textbackslash{}\\%] 5\n\\item[4.9\\textbackslash{}\\%] 5\n\\item[5.0\\textbackslash{}\\%] 5\n\\item[5.1\\textbackslash{}\\%] 5\n\\item[5.2\\textbackslash{}\\%] 5\n\\item[5.3\\textbackslash{}\\%] 5\n\\item[5.4\\textbackslash{}\\%] 5.946\n\\item[5.5\\textbackslash{}\\%] 6\n\\item[5.6\\textbackslash{}\\%] 6\n\\item[5.7\\textbackslash{}\\%] 6\n\\item[5.8\\textbackslash{}\\%] 6\n\\item[5.9\\textbackslash{}\\%] 6\n\\item[6.0\\textbackslash{}\\%] 6\n\\item[6.1\\textbackslash{}\\%] 6\n\\item[6.2\\textbackslash{}\\%] 6.938\n\\item[6.3\\textbackslash{}\\%] 7\n\\item[6.4\\textbackslash{}\\%] 7\n\\item[6.5\\textbackslash{}\\%] 7\n\\item[6.6\\textbackslash{}\\%] 7\n\\item[6.7\\textbackslash{}\\%] 7\n\\item[6.8\\textbackslash{}\\%] 7\n\\item[6.9\\textbackslash{}\\%] 7\n\\item[7.0\\textbackslash{}\\%] 7\n\\item[7.1\\textbackslash{}\\%] 7\n\\item[7.2\\textbackslash{}\\%] 7\n\\item[7.3\\textbackslash{}\\%] 7.92699999999999\n\\item[7.4\\textbackslash{}\\%] 8\n\\item[7.5\\textbackslash{}\\%] 8\n\\item[7.6\\textbackslash{}\\%] 8\n\\item[7.7\\textbackslash{}\\%] 8\n\\item[7.8\\textbackslash{}\\%] 8\n\\item[7.9\\textbackslash{}\\%] 8\n\\item[8.0\\textbackslash{}\\%] 8\n\\item[8.1\\textbackslash{}\\%] 8\n\\item[8.2\\textbackslash{}\\%] 8\n\\item[8.3\\textbackslash{}\\%] 8\n\\item[8.4\\textbackslash{}\\%] 8\n\\item[8.5\\textbackslash{}\\%] 8\n\\item[8.6\\textbackslash{}\\%] 8\n\\item[8.7\\textbackslash{}\\%] 8\n\\item[8.8\\textbackslash{}\\%] 8\n\\item[8.9\\textbackslash{}\\%] 8\n\\item[9.0\\textbackslash{}\\%] 8.91\n\\item[9.1\\textbackslash{}\\%] 9\n\\item[9.2\\textbackslash{}\\%] 9\n\\item[9.3\\textbackslash{}\\%] 9\n\\item[9.4\\textbackslash{}\\%] 9\n\\item[9.5\\textbackslash{}\\%] 9\n\\item[9.6\\textbackslash{}\\%] 9\n\\item[9.7\\textbackslash{}\\%] 9\n\\item[9.8\\textbackslash{}\\%] 9\n\\item[9.9\\textbackslash{}\\%] 9\n\\item[10.0\\textbackslash{}\\%] 9\n\\item[10.1\\textbackslash{}\\%] 9\n\\item[10.2\\textbackslash{}\\%] 9\n\\item[10.3\\textbackslash{}\\%] 9\n\\item[10.4\\textbackslash{}\\%] 9\n\\item[10.5\\textbackslash{}\\%] 9\n\\item[10.6\\textbackslash{}\\%] 9.89399999999999\n\\item[10.7\\textbackslash{}\\%] 10\n\\item[10.8\\textbackslash{}\\%] 10\n\\item[10.9\\textbackslash{}\\%] 10\n\\item[11.0\\textbackslash{}\\%] 10\n\\item[11.1\\textbackslash{}\\%] 10\n\\item[11.2\\textbackslash{}\\%] 10\n\\item[11.3\\textbackslash{}\\%] 10\n\\item[11.4\\textbackslash{}\\%] 10\n\\item[11.5\\textbackslash{}\\%] 10\n\\item[11.6\\textbackslash{}\\%] 10.884\n\\item[11.7\\textbackslash{}\\%] 11\n\\item[11.8\\textbackslash{}\\%] 11\n\\item[11.9\\textbackslash{}\\%] 11\n\\item[12.0\\textbackslash{}\\%] 11\n\\item[12.1\\textbackslash{}\\%] 11\n\\item[12.2\\textbackslash{}\\%] 11\n\\item[12.3\\textbackslash{}\\%] 11\n\\item[12.4\\textbackslash{}\\%] 11\n\\item[12.5\\textbackslash{}\\%] 11.875\n\\item[12.6\\textbackslash{}\\%] 12\n\\item[12.7\\textbackslash{}\\%] 12\n\\item[12.8\\textbackslash{}\\%] 12\n\\item[12.9\\textbackslash{}\\%] 12\n\\item[13.0\\textbackslash{}\\%] 12\n\\item[13.1\\textbackslash{}\\%] 12\n\\item[13.2\\textbackslash{}\\%] 12\n\\item[13.3\\textbackslash{}\\%] 12\n\\item[13.4\\textbackslash{}\\%] 12\n\\item[13.5\\textbackslash{}\\%] 12\n\\item[13.6\\textbackslash{}\\%] 12\n\\item[13.7\\textbackslash{}\\%] 12\n\\item[13.8\\textbackslash{}\\%] 12.862\n\\item[13.9\\textbackslash{}\\%] 13\n\\item[14.0\\textbackslash{}\\%] 13\n\\item[14.1\\textbackslash{}\\%] 13\n\\item[14.2\\textbackslash{}\\%] 13\n\\item[14.3\\textbackslash{}\\%] 13\n\\item[14.4\\textbackslash{}\\%] 13\n\\item[14.5\\textbackslash{}\\%] 13\n\\item[14.6\\textbackslash{}\\%] 13\n\\item[14.7\\textbackslash{}\\%] 13\n\\item[14.8\\textbackslash{}\\%] 13\n\\item[14.9\\textbackslash{}\\%] 13\n\\item[15.0\\textbackslash{}\\%] 13\n\\item[15.1\\textbackslash{}\\%] 13\n\\item[15.2\\textbackslash{}\\%] 13\n\\item[15.3\\textbackslash{}\\%] 13\n\\item[15.4\\textbackslash{}\\%] 13\n\\item[15.5\\textbackslash{}\\%] 13\n\\item[15.6\\textbackslash{}\\%] 13.844\n\\item[15.7\\textbackslash{}\\%] 14\n\\item[15.8\\textbackslash{}\\%] 14\n\\item[15.9\\textbackslash{}\\%] 14\n\\item[16.0\\textbackslash{}\\%] 14\n\\item[16.1\\textbackslash{}\\%] 14\n\\item[16.2\\textbackslash{}\\%] 14\n\\item[16.3\\textbackslash{}\\%] 14\n\\item[16.4\\textbackslash{}\\%] 14.836\n\\item[16.5\\textbackslash{}\\%] 15\n\\item[16.6\\textbackslash{}\\%] 15\n\\item[16.7\\textbackslash{}\\%] 15\n\\item[16.8\\textbackslash{}\\%] 15\n\\item[16.9\\textbackslash{}\\%] 15\n\\item[17.0\\textbackslash{}\\%] 15\n\\item[17.1\\textbackslash{}\\%] 15\n\\item[17.2\\textbackslash{}\\%] 15\n\\item[17.3\\textbackslash{}\\%] 15\n\\item[17.4\\textbackslash{}\\%] 15\n\\item[17.5\\textbackslash{}\\%] 15\n\\item[17.6\\textbackslash{}\\%] 15.824\n\\item[17.7\\textbackslash{}\\%] 16\n\\item[17.8\\textbackslash{}\\%] 16\n\\item[17.9\\textbackslash{}\\%] 16\n\\item[18.0\\textbackslash{}\\%] 16\n\\item[18.1\\textbackslash{}\\%] 16.819\n\\item[18.2\\textbackslash{}\\%] 17\n\\item[18.3\\textbackslash{}\\%] 17\n\\item[18.4\\textbackslash{}\\%] 17\n\\item[18.5\\textbackslash{}\\%] 17\n\\item[18.6\\textbackslash{}\\%] 17\n\\item[18.7\\textbackslash{}\\%] 17\n\\item[18.8\\textbackslash{}\\%] 17\n\\item[18.9\\textbackslash{}\\%] 17.811\n\\item[19.0\\textbackslash{}\\%] 18\n\\item[19.1\\textbackslash{}\\%] 18\n\\item[19.2\\textbackslash{}\\%] 18\n\\item[19.3\\textbackslash{}\\%] 18\n\\item[19.4\\textbackslash{}\\%] 18\n\\item[19.5\\textbackslash{}\\%] 18\n\\item[19.6\\textbackslash{}\\%] 18\n\\item[19.7\\textbackslash{}\\%] 18\n\\item[19.8\\textbackslash{}\\%] 18\n\\item[19.9\\textbackslash{}\\%] 18\n\\item[20.0\\textbackslash{}\\%] ⋯\n\\item[20.1\\textbackslash{}\\%] 80\n\\item[20.2\\textbackslash{}\\%] 80\n\\item[20.3\\textbackslash{}\\%] 80\n\\item[20.4\\textbackslash{}\\%] 80\n\\item[20.5\\textbackslash{}\\%] 80\n\\item[20.6\\textbackslash{}\\%] 80\n\\item[20.7\\textbackslash{}\\%] 80.1930000000001\n\\item[20.8\\textbackslash{}\\%] 81\n\\item[20.9\\textbackslash{}\\%] 81\n\\item[21.0\\textbackslash{}\\%] 81\n\\item[21.1\\textbackslash{}\\%] 81\n\\item[21.2\\textbackslash{}\\%] 81\n\\item[21.3\\textbackslash{}\\%] 81\n\\item[21.4\\textbackslash{}\\%] 81\n\\item[21.5\\textbackslash{}\\%] 81\n\\item[21.6\\textbackslash{}\\%] 81.1840000000001\n\\item[21.7\\textbackslash{}\\%] 82\n\\item[21.8\\textbackslash{}\\%] 82\n\\item[21.9\\textbackslash{}\\%] 82\n\\item[22.0\\textbackslash{}\\%] 82\n\\item[22.1\\textbackslash{}\\%] 82\n\\item[22.2\\textbackslash{}\\%] 82\n\\item[22.3\\textbackslash{}\\%] 82\n\\item[22.4\\textbackslash{}\\%] 82\n\\item[22.5\\textbackslash{}\\%] 82.1750000000001\n\\item[22.6\\textbackslash{}\\%] 83\n\\item[22.7\\textbackslash{}\\%] 83\n\\item[22.8\\textbackslash{}\\%] 83\n\\item[22.9\\textbackslash{}\\%] 83\n\\item[23.0\\textbackslash{}\\%] 83\n\\item[23.1\\textbackslash{}\\%] 83\n\\item[23.2\\textbackslash{}\\%] 83\n\\item[23.3\\textbackslash{}\\%] 83\n\\item[23.4\\textbackslash{}\\%] 83\n\\item[23.5\\textbackslash{}\\%] 83.165\n\\item[23.6\\textbackslash{}\\%] 84\n\\item[23.7\\textbackslash{}\\%] 84\n\\item[23.8\\textbackslash{}\\%] 84\n\\item[23.9\\textbackslash{}\\%] 84\n\\item[24.0\\textbackslash{}\\%] 84\n\\item[24.1\\textbackslash{}\\%] 84\n\\item[24.2\\textbackslash{}\\%] 84\n\\item[24.3\\textbackslash{}\\%] 84\n\\item[24.4\\textbackslash{}\\%] 84.1559999999999\n\\item[24.5\\textbackslash{}\\%] 85\n\\item[24.6\\textbackslash{}\\%] 85\n\\item[24.7\\textbackslash{}\\%] 85\n\\item[24.8\\textbackslash{}\\%] 85\n\\item[24.9\\textbackslash{}\\%] 85\n\\item[25.0\\textbackslash{}\\%] 85\n\\item[25.1\\textbackslash{}\\%] 85\n\\item[25.2\\textbackslash{}\\%] 85\n\\item[25.3\\textbackslash{}\\%] 85.1469999999999\n\\item[25.4\\textbackslash{}\\%] 86\n\\item[25.5\\textbackslash{}\\%] 86\n\\item[25.6\\textbackslash{}\\%] 86\n\\item[25.7\\textbackslash{}\\%] 86\n\\item[25.8\\textbackslash{}\\%] 86\n\\item[25.9\\textbackslash{}\\%] 86\n\\item[26.0\\textbackslash{}\\%] 86.14\n\\item[26.1\\textbackslash{}\\%] 87\n\\item[26.2\\textbackslash{}\\%] 87\n\\item[26.3\\textbackslash{}\\%] 87\n\\item[26.4\\textbackslash{}\\%] 87\n\\item[26.5\\textbackslash{}\\%] 87\n\\item[26.6\\textbackslash{}\\%] 87\n\\item[26.7\\textbackslash{}\\%] 87\n\\item[26.8\\textbackslash{}\\%] 87\n\\item[26.9\\textbackslash{}\\%] 87\n\\item[27.0\\textbackslash{}\\%] 87\n\\item[27.1\\textbackslash{}\\%] 87.129\n\\item[27.2\\textbackslash{}\\%] 88\n\\item[27.3\\textbackslash{}\\%] 88\n\\item[27.4\\textbackslash{}\\%] 88\n\\item[27.5\\textbackslash{}\\%] 88\n\\item[27.6\\textbackslash{}\\%] 88\n\\item[27.7\\textbackslash{}\\%] 88\n\\item[27.8\\textbackslash{}\\%] 88\n\\item[27.9\\textbackslash{}\\%] 88.121\n\\item[28.0\\textbackslash{}\\%] 89\n\\item[28.1\\textbackslash{}\\%] 89\n\\item[28.2\\textbackslash{}\\%] 89\n\\item[28.3\\textbackslash{}\\%] 89\n\\item[28.4\\textbackslash{}\\%] 89\n\\item[28.5\\textbackslash{}\\%] 89\n\\item[28.6\\textbackslash{}\\%] 89\n\\item[28.7\\textbackslash{}\\%] 89\n\\item[28.8\\textbackslash{}\\%] 89.112\n\\item[28.9\\textbackslash{}\\%] 90\n\\item[29.0\\textbackslash{}\\%] 90\n\\item[29.1\\textbackslash{}\\%] 90\n\\item[29.2\\textbackslash{}\\%] 90\n\\item[29.3\\textbackslash{}\\%] 90\n\\item[29.4\\textbackslash{}\\%] 90\n\\item[29.5\\textbackslash{}\\%] 90\n\\item[29.6\\textbackslash{}\\%] 90\n\\item[29.7\\textbackslash{}\\%] 90\n\\item[29.8\\textbackslash{}\\%] 90\n\\item[29.9\\textbackslash{}\\%] 90\n\\item[30.0\\textbackslash{}\\%] 90\n\\item[30.1\\textbackslash{}\\%] 90.099\n\\item[30.2\\textbackslash{}\\%] 91\n\\item[30.3\\textbackslash{}\\%] 91\n\\item[30.4\\textbackslash{}\\%] 91\n\\item[30.5\\textbackslash{}\\%] 91\n\\item[30.6\\textbackslash{}\\%] 91\n\\item[30.7\\textbackslash{}\\%] 91\n\\item[30.8\\textbackslash{}\\%] 91\n\\item[30.9\\textbackslash{}\\%] 91\n\\item[31.0\\textbackslash{}\\%] 91\n\\item[31.1\\textbackslash{}\\%] 91\n\\item[31.2\\textbackslash{}\\%] 91.0880000000001\n\\item[31.3\\textbackslash{}\\%] 92\n\\item[31.4\\textbackslash{}\\%] 92\n\\item[31.5\\textbackslash{}\\%] 92\n\\item[31.6\\textbackslash{}\\%] 92\n\\item[31.7\\textbackslash{}\\%] 92\n\\item[31.8\\textbackslash{}\\%] 92\n\\item[31.9\\textbackslash{}\\%] 92\n\\item[32.0\\textbackslash{}\\%] 92\n\\item[32.1\\textbackslash{}\\%] 92\n\\item[32.2\\textbackslash{}\\%] 92.0780000000001\n\\item[32.3\\textbackslash{}\\%] 93\n\\item[32.4\\textbackslash{}\\%] 93\n\\item[32.5\\textbackslash{}\\%] 93\n\\item[32.6\\textbackslash{}\\%] 93\n\\item[32.7\\textbackslash{}\\%] 93\n\\item[32.8\\textbackslash{}\\%] 93\n\\item[32.9\\textbackslash{}\\%] 93.071\n\\item[33.0\\textbackslash{}\\%] 94\n\\item[33.1\\textbackslash{}\\%] 94\n\\item[33.2\\textbackslash{}\\%] 94\n\\item[33.3\\textbackslash{}\\%] 94\n\\item[33.4\\textbackslash{}\\%] 94\n\\item[33.5\\textbackslash{}\\%] 94\n\\item[33.6\\textbackslash{}\\%] 94\n\\item[33.7\\textbackslash{}\\%] 94\n\\item[33.8\\textbackslash{}\\%] 94.062\n\\item[33.9\\textbackslash{}\\%] 95\n\\item[34.0\\textbackslash{}\\%] 95\n\\item[34.1\\textbackslash{}\\%] 95\n\\item[34.2\\textbackslash{}\\%] 95\n\\item[34.3\\textbackslash{}\\%] 95\n\\item[34.4\\textbackslash{}\\%] 95\n\\item[34.5\\textbackslash{}\\%] 95\n\\item[34.6\\textbackslash{}\\%] 95\n\\item[34.7\\textbackslash{}\\%] 95\n\\item[34.8\\textbackslash{}\\%] 95\n\\item[34.9\\textbackslash{}\\%] 95\n\\item[35.0\\textbackslash{}\\%] 95\n\\item[35.1\\textbackslash{}\\%] 95\n\\item[35.2\\textbackslash{}\\%] 95\n\\item[35.3\\textbackslash{}\\%] 95\n\\item[35.4\\textbackslash{}\\%] 95\n\\item[35.5\\textbackslash{}\\%] 95.0450000000001\n\\item[35.6\\textbackslash{}\\%] 96\n\\item[35.7\\textbackslash{}\\%] 96\n\\item[35.8\\textbackslash{}\\%] 96\n\\item[35.9\\textbackslash{}\\%] 96\n\\item[36.0\\textbackslash{}\\%] 96\n\\item[36.1\\textbackslash{}\\%] 96\n\\item[36.2\\textbackslash{}\\%] 96\n\\item[36.3\\textbackslash{}\\%] 96\n\\item[36.4\\textbackslash{}\\%] 96\n\\item[36.5\\textbackslash{}\\%] 96\n\\item[36.6\\textbackslash{}\\%] 96.034\n\\item[36.7\\textbackslash{}\\%] 97\n\\item[36.8\\textbackslash{}\\%] 97\n\\item[36.9\\textbackslash{}\\%] 97\n\\item[37.0\\textbackslash{}\\%] 97\n\\item[37.1\\textbackslash{}\\%] 97\n\\item[37.2\\textbackslash{}\\%] 97\n\\item[37.3\\textbackslash{}\\%] 97\n\\item[37.4\\textbackslash{}\\%] 97\n\\item[37.5\\textbackslash{}\\%] 97\n\\item[37.6\\textbackslash{}\\%] 97.024\n\\item[37.7\\textbackslash{}\\%] 98\n\\item[37.8\\textbackslash{}\\%] 98\n\\item[37.9\\textbackslash{}\\%] 98\n\\item[38.0\\textbackslash{}\\%] 98\n\\item[38.1\\textbackslash{}\\%] 98\n\\item[38.2\\textbackslash{}\\%] 98\n\\item[38.3\\textbackslash{}\\%] 98\n\\item[38.4\\textbackslash{}\\%] 98\n\\item[38.5\\textbackslash{}\\%] 98.015\n\\item[38.6\\textbackslash{}\\%] 99\n\\item[38.7\\textbackslash{}\\%] 99\n\\item[38.8\\textbackslash{}\\%] 99\n\\item[38.9\\textbackslash{}\\%] 99\n\\item[39.0\\textbackslash{}\\%] 99\n\\item[39.1\\textbackslash{}\\%] 99\n\\item[39.2\\textbackslash{}\\%] 99\n\\item[39.3\\textbackslash{}\\%] 99\n\\item[39.4\\textbackslash{}\\%] 99.006\n\\item[39.5\\textbackslash{}\\%] 100\n\\item[39.6\\textbackslash{}\\%] 100\n\\item[39.7\\textbackslash{}\\%] 100\n\\item[39.8\\textbackslash{}\\%] 100\n\\item[39.9\\textbackslash{}\\%] 100\n\\item[40.0\\textbackslash{}\\%] 100\n\\end{description*}\n",
            "text/plain": [
              "   0.0%    0.1%    0.2%    0.3%    0.4%    0.5%    0.6%    0.7%    0.8%    0.9% \n",
              "  0.000   0.000   0.000   0.000   0.000   0.000   0.000   0.993   1.000   1.000 \n",
              "   1.0%    1.1%    1.2%    1.3%    1.4%    1.5%    1.6%    1.7%    1.8%    1.9% \n",
              "  1.000   1.000   1.000   1.987   2.000   2.000   2.000   2.000   2.000   2.000 \n",
              "   2.0%    2.1%    2.2%    2.3%    2.4%    2.5%    2.6%    2.7%    2.8%    2.9% \n",
              "  2.000   2.000   2.000   2.000   2.000   2.975   3.000   3.000   3.000   3.000 \n",
              "   3.0%    3.1%    3.2%    3.3%    3.4%    3.5%    3.6%    3.7%    3.8%    3.9% \n",
              "  3.000   3.000   3.000   3.000   3.000   3.965   4.000   4.000   4.000   4.000 \n",
              "   4.0%    4.1%    4.2%    4.3%    4.4%    4.5%    4.6%    4.7%    4.8%    4.9% \n",
              "  4.000   4.000   4.000   4.000   4.000   4.955   5.000   5.000   5.000   5.000 \n",
              "   5.0%    5.1%    5.2%    5.3%    5.4%    5.5%    5.6%    5.7%    5.8%    5.9% \n",
              "  5.000   5.000   5.000   5.000   5.946   6.000   6.000   6.000   6.000   6.000 \n",
              "   6.0%    6.1%    6.2%    6.3%    6.4%    6.5%    6.6%    6.7%    6.8%    6.9% \n",
              "  6.000   6.000   6.938   7.000   7.000   7.000   7.000   7.000   7.000   7.000 \n",
              "   7.0%    7.1%    7.2%    7.3%    7.4%    7.5%    7.6%    7.7%    7.8%    7.9% \n",
              "  7.000   7.000   7.000   7.927   8.000   8.000   8.000   8.000   8.000   8.000 \n",
              "   8.0%    8.1%    8.2%    8.3%    8.4%    8.5%    8.6%    8.7%    8.8%    8.9% \n",
              "  8.000   8.000   8.000   8.000   8.000   8.000   8.000   8.000   8.000   8.000 \n",
              "   9.0%    9.1%    9.2%    9.3%    9.4%    9.5%    9.6%    9.7%    9.8%    9.9% \n",
              "  8.910   9.000   9.000   9.000   9.000   9.000   9.000   9.000   9.000   9.000 \n",
              "  10.0%   10.1%   10.2%   10.3%   10.4%   10.5%   10.6%   10.7%   10.8%   10.9% \n",
              "  9.000   9.000   9.000   9.000   9.000   9.000   9.894  10.000  10.000  10.000 \n",
              "  11.0%   11.1%   11.2%   11.3%   11.4%   11.5%   11.6%   11.7%   11.8%   11.9% \n",
              " 10.000  10.000  10.000  10.000  10.000  10.000  10.884  11.000  11.000  11.000 \n",
              "  12.0%   12.1%   12.2%   12.3%   12.4%   12.5%   12.6%   12.7%   12.8%   12.9% \n",
              " 11.000  11.000  11.000  11.000  11.000  11.875  12.000  12.000  12.000  12.000 \n",
              "  13.0%   13.1%   13.2%   13.3%   13.4%   13.5%   13.6%   13.7%   13.8%   13.9% \n",
              " 12.000  12.000  12.000  12.000  12.000  12.000  12.000  12.000  12.862  13.000 \n",
              "  14.0%   14.1%   14.2%   14.3%   14.4%   14.5%   14.6%   14.7%   14.8%   14.9% \n",
              " 13.000  13.000  13.000  13.000  13.000  13.000  13.000  13.000  13.000  13.000 \n",
              "  15.0%   15.1%   15.2%   15.3%   15.4%   15.5%   15.6%   15.7%   15.8%   15.9% \n",
              " 13.000  13.000  13.000  13.000  13.000  13.000  13.844  14.000  14.000  14.000 \n",
              "  16.0%   16.1%   16.2%   16.3%   16.4%   16.5%   16.6%   16.7%   16.8%   16.9% \n",
              " 14.000  14.000  14.000  14.000  14.836  15.000  15.000  15.000  15.000  15.000 \n",
              "  17.0%   17.1%   17.2%   17.3%   17.4%   17.5%   17.6%   17.7%   17.8%   17.9% \n",
              " 15.000  15.000  15.000  15.000  15.000  15.000  15.824  16.000  16.000  16.000 \n",
              "  18.0%   18.1%   18.2%   18.3%   18.4%   18.5%   18.6%   18.7%   18.8%   18.9% \n",
              " 16.000  16.819  17.000  17.000  17.000  17.000  17.000  17.000  17.000  17.811 \n",
              "  19.0%   19.1%   19.2%   19.3%   19.4%   19.5%   19.6%   19.7%   19.8%   19.9% \n",
              " 18.000  18.000  18.000  18.000  18.000  18.000  18.000  18.000  18.000  18.000 \n",
              "  20.0%   20.1%   20.2%   20.3%   20.4%   20.5%   20.6%   20.7%   20.8%   20.9% \n",
              " 18.000  18.000  18.000  18.797  19.000  19.000  19.000  19.000  19.000  19.000 \n",
              "  21.0%   21.1%   21.2%   21.3%   21.4%   21.5%   21.6%   21.7%   21.8%   21.9% \n",
              " 19.000  19.000  19.788  20.000  20.000  20.000  20.000  20.000  20.000  20.781 \n",
              "  22.0%   22.1%   22.2%   22.3%   22.4%   22.5%   22.6%   22.7%   22.8%   22.9% \n",
              " 21.000  21.000  21.000  21.000  21.000  21.000  21.000  21.000  21.772  22.000 \n",
              "  23.0%   23.1%   23.2%   23.3%   23.4%   23.5%   23.6%   23.7%   23.8%   23.9% \n",
              " 22.000  22.000  22.000  22.000  22.000  22.000  22.000  22.000  22.000  22.000 \n",
              "  24.0%   24.1%   24.2%   24.3%   24.4%   24.5%   24.6%   24.7%   24.8%   24.9% \n",
              " 22.000  22.000  22.000  22.000  22.000  22.000  22.000  22.000  22.752  23.000 \n",
              "  25.0%   25.1%   25.2%   25.3%   25.4%   25.5%   25.6%   25.7%   25.8%   25.9% \n",
              " 23.000  23.000  23.000  23.000  23.000  23.000  23.000  23.743  24.000  24.000 \n",
              "  26.0%   26.1%   26.2%   26.3%   26.4%   26.5%   26.6%   26.7%   26.8%   26.9% \n",
              " 24.000  24.000  24.000  24.000  24.000  24.735  25.000  25.000  25.000  25.000 \n",
              "  27.0%   27.1%   27.2%   27.3%   27.4%   27.5%   27.6%   27.7%   27.8%   27.9% \n",
              " 25.000  25.000  25.000  25.000  25.000  25.725  26.000  26.000  26.000  26.000 \n",
              "  28.0%   28.1%   28.2%   28.3%   28.4%   28.5%   28.6%   28.7%   28.8%   28.9% \n",
              " 26.000  26.000  26.000  26.717  27.000  27.000  27.000  27.000  27.000  27.711 \n",
              "  29.0%   29.1%   29.2%   29.3%   29.4%   29.5%   29.6%   29.7%   29.8%   29.9% \n",
              " 28.000  28.000  28.000  28.707  29.000  29.000  29.000  29.000  29.000  29.000 \n",
              "  30.0%   30.1%   30.2%   30.3%   30.4%   30.5%   30.6%   30.7%   30.8%   30.9% \n",
              " 29.000  29.000  29.000  29.000  29.000  29.000  29.694  30.000  30.000  30.000 \n",
              "  31.0%   31.1%   31.2%   31.3%   31.4%   31.5%   31.6%   31.7%   31.8%   31.9% \n",
              " 30.000  30.000  30.000  30.687  31.000  31.000  31.000  31.000  31.000  31.000 \n",
              "  32.0%   32.1%   32.2%   32.3%   32.4%   32.5%   32.6%   32.7%   32.8%   32.9% \n",
              " 31.000  31.679  32.000  32.000  32.000  32.000  32.000  32.000  32.672  33.000 \n",
              "  33.0%   33.1%   33.2%   33.3%   33.4%   33.5%   33.6%   33.7%   33.8%   33.9% \n",
              " 33.000  33.000  33.000  33.667  34.000  34.000  34.000  34.663  35.000  35.000 \n",
              "  34.0%   34.1%   34.2%   34.3%   34.4%   34.5%   34.6%   34.7%   34.8%   34.9% \n",
              " 35.000  35.000  35.000  35.657  36.000  36.000  36.000  36.000  36.000  36.000 \n",
              "  35.0%   35.1%   35.2%   35.3%   35.4%   35.5%   35.6%   35.7%   35.8%   35.9% \n",
              " 36.000  36.000  36.000  36.000  36.646  37.000  37.000  37.000  37.000  37.000 \n",
              "  36.0%   36.1%   36.2%   36.3%   36.4%   36.5%   36.6%   36.7%   36.8%   36.9% \n",
              " 37.000  37.000  37.638  38.000  38.000  38.000  38.000  38.000  38.000  38.000 \n",
              "  37.0%   37.1%   37.2%   37.3%   37.4%   37.5%   37.6%   37.7%   37.8%   37.9% \n",
              " 38.000  38.000  38.000  38.000  38.000  38.000  38.000  38.000  38.000  38.000 \n",
              "  38.0%   38.1%   38.2%   38.3%   38.4%   38.5%   38.6%   38.7%   38.8%   38.9% \n",
              " 38.000  38.000  38.618  39.000  39.000  39.000  39.000  39.000  39.000  39.000 \n",
              "  39.0%   39.1%   39.2%   39.3%   39.4%   39.5%   39.6%   39.7%   39.8%   39.9% \n",
              " 39.000  39.000  39.000  39.607  40.000  40.000  40.000  40.000  40.000  40.000 \n",
              "  40.0%   40.1%   40.2%   40.3%   40.4%   40.5%   40.6%   40.7%   40.8%   40.9% \n",
              " 40.000  40.000  40.000  40.000  40.000  40.595  41.000  41.000  41.000  41.000 \n",
              "  41.0%   41.1%   41.2%   41.3%   41.4%   41.5%   41.6%   41.7%   41.8%   41.9% \n",
              " 41.000  41.000  41.000  41.587  42.000  42.000  42.000  42.000  42.000  42.000 \n",
              "  42.0%   42.1%   42.2%   42.3%   42.4%   42.5%   42.6%   42.7%   42.8%   42.9% \n",
              " 42.000  42.579  43.000  43.000  43.000  43.000  43.000  43.000  43.000  43.000 \n",
              "  43.0%   43.1%   43.2%   43.3%   43.4%   43.5%   43.6%   43.7%   43.8%   43.9% \n",
              " 43.000  43.569  44.000  44.000  44.000  44.000  44.000  44.000  44.562  45.000 \n",
              "  44.0%   44.1%   44.2%   44.3%   44.4%   44.5%   44.6%   44.7%   44.8%   44.9% \n",
              " 45.000  45.000  45.000  45.000  45.000  45.000  45.000  45.000  45.000  45.000 \n",
              "  45.0%   45.1%   45.2%   45.3%   45.4%   45.5%   45.6%   45.7%   45.8%   45.9% \n",
              " 45.550  46.000  46.000  46.000  46.000  46.000  46.000  46.000  46.000  46.000 \n",
              "  46.0%   46.1%   46.2%   46.3%   46.4%   46.5%   46.6%   46.7%   46.8%   46.9% \n",
              " 46.540  47.000  47.000  47.000  47.000  47.000  47.000  47.000  47.000  47.000 \n",
              "  47.0%   47.1%   47.2%   47.3%   47.4%   47.5%   47.6%   47.7%   47.8%   47.9% \n",
              " 47.000  47.529  48.000  48.000  48.000  48.000  48.000  48.000  48.000  48.000 \n",
              "  48.0%   48.1%   48.2%   48.3%   48.4%   48.5%   48.6%   48.7%   48.8%   48.9% \n",
              " 48.000  48.000  48.518  49.000  49.000  49.000  49.000  49.000  49.000  49.000 \n",
              "  49.0%   49.1%   49.2%   49.3%   49.4%   49.5%   49.6%   49.7%   49.8%   49.9% \n",
              " 49.000  49.000  49.000  49.507  50.000  50.000  50.000  50.000  50.000  50.000 \n",
              "  50.0%   50.1%   50.2%   50.3%   50.4%   50.5%   50.6%   50.7%   50.8%   50.9% \n",
              " 50.000  50.000  50.000  50.497  51.000  51.000  51.000  51.000  51.000  51.000 \n",
              "  51.0%   51.1%   51.2%   51.3%   51.4%   51.5%   51.6%   51.7%   51.8%   51.9% \n",
              " 51.000  51.000  51.488  52.000  52.000  52.000  52.000  52.000  52.000  52.481 \n",
              "  52.0%   52.1%   52.2%   52.3%   52.4%   52.5%   52.6%   52.7%   52.8%   52.9% \n",
              " 53.000  53.000  53.000  53.000  53.476  54.000  54.000  54.000  54.000  54.000 \n",
              "  53.0%   53.1%   53.2%   53.3%   53.4%   53.5%   53.6%   53.7%   53.8%   53.9% \n",
              " 54.000  54.000  54.000  54.000  54.000  54.000  54.000  54.000  54.462  55.000 \n",
              "  54.0%   54.1%   54.2%   54.3%   54.4%   54.5%   54.6%   54.7%   54.8%   54.9% \n",
              " 55.000  55.000  55.000  55.000  55.000  55.000  55.000  55.000  55.452  56.000 \n",
              "  55.0%   55.1%   55.2%   55.3%   55.4%   55.5%   55.6%   55.7%   55.8%   55.9% \n",
              " 56.000  56.000  56.000  56.000  56.000  56.000  56.000  56.443  57.000  57.000 \n",
              "  56.0%   56.1%   56.2%   56.3%   56.4%   56.5%   56.6%   56.7%   56.8%   56.9% \n",
              " 57.000  57.000  57.000  57.000  57.000  57.000  57.000  57.000  57.000  57.431 \n",
              "  57.0%   57.1%   57.2%   57.3%   57.4%   57.5%   57.6%   57.7%   57.8%   57.9% \n",
              " 58.000  58.000  58.000  58.000  58.000  58.000  58.000  58.000  58.422  59.000 \n",
              "  58.0%   58.1%   58.2%   58.3%   58.4%   58.5%   58.6%   58.7%   58.8%   58.9% \n",
              " 59.000  59.000  59.000  59.000  59.000  59.000  59.000  59.000  59.000  59.411 \n",
              "  59.0%   59.1%   59.2%   59.3%   59.4%   59.5%   59.6%   59.7%   59.8%   59.9% \n",
              " 60.000  60.000  60.000  60.000  60.000  60.000  60.000  60.000  60.000  60.401 \n",
              "  60.0%   60.1%   60.2%   60.3%   60.4%   60.5%   60.6%   60.7%   60.8%   60.9% \n",
              " 61.000  61.000  61.000  61.000  61.000  61.000  61.000  61.000  61.000  61.000 \n",
              "  61.0%   61.1%   61.2%   61.3%   61.4%   61.5%   61.6%   61.7%   61.8%   61.9% \n",
              " 61.000  61.389  62.000  62.000  62.000  62.000  62.000  62.000  62.000  62.000 \n",
              "  62.0%   62.1%   62.2%   62.3%   62.4%   62.5%   62.6%   62.7%   62.8%   62.9% \n",
              " 62.000  62.000  62.378  63.000  63.000  63.000  63.000  63.373  64.000  64.000 \n",
              "  63.0%   63.1%   63.2%   63.3%   63.4%   63.5%   63.6%   63.7%   63.8%   63.9% \n",
              " 64.000  64.000  64.000  64.000  64.000  64.000  64.000  64.363  65.000  65.000 \n",
              "  64.0%   64.1%   64.2%   64.3%   64.4%   64.5%   64.6%   64.7%   64.8%   64.9% \n",
              " 65.000  65.359  66.000  66.000  66.000  66.000  66.000  66.000  66.000  66.000 \n",
              "  65.0%   65.1%   65.2%   65.3%   65.4%   65.5%   65.6%   65.7%   65.8%   65.9% \n",
              " 66.000  66.349  67.000  67.000  67.000  67.000  67.000  67.000  67.000  67.000 \n",
              "  66.0%   66.1%   66.2%   66.3%   66.4%   66.5%   66.6%   66.7%   66.8%   66.9% \n",
              " 67.340  68.000  68.000  68.000  68.000  68.000  68.000  68.000  68.000  68.000 \n",
              "  67.0%   67.1%   67.2%   67.3%   67.4%   67.5%   67.6%   67.7%   67.8%   67.9% \n",
              " 68.330  69.000  69.000  69.000  69.000  69.000  69.000  69.000  69.000  69.000 \n",
              "  68.0%   68.1%   68.2%   68.3%   68.4%   68.5%   68.6%   68.7%   68.8%   68.9% \n",
              " 69.000  69.000  69.000  69.000  69.316  70.000  70.000  70.000  70.000  70.000 \n",
              "  69.0%   69.1%   69.2%   69.3%   69.4%   69.5%   69.6%   69.7%   69.8%   69.9% \n",
              " 70.000  70.000  70.000  70.000  70.000  70.000  70.000  70.000  70.000  70.301 \n",
              "  70.0%   70.1%   70.2%   70.3%   70.4%   70.5%   70.6%   70.7%   70.8%   70.9% \n",
              " 71.000  71.000  71.000  71.000  71.000  71.000  71.000  71.000  71.292  72.000 \n",
              "  71.0%   71.1%   71.2%   71.3%   71.4%   71.5%   71.6%   71.7%   71.8%   71.9% \n",
              " 72.000  72.000  72.000  72.000  72.000  72.000  72.000  72.000  72.000  72.281 \n",
              "  72.0%   72.1%   72.2%   72.3%   72.4%   72.5%   72.6%   72.7%   72.8%   72.9% \n",
              " 73.000  73.000  73.000  73.000  73.000  73.000  73.000  73.000  73.000  73.000 \n",
              "  73.0%   73.1%   73.2%   73.3%   73.4%   73.5%   73.6%   73.7%   73.8%   73.9% \n",
              " 73.000  73.000  73.000  73.000  73.000  73.000  73.000  73.000  73.262  74.000 \n",
              "  74.0%   74.1%   74.2%   74.3%   74.4%   74.5%   74.6%   74.7%   74.8%   74.9% \n",
              " 74.000  74.000  74.000  74.000  74.000  74.000  74.254  75.000  75.000  75.000 \n",
              "  75.0%   75.1%   75.2%   75.3%   75.4%   75.5%   75.6%   75.7%   75.8%   75.9% \n",
              " 75.000  75.000  75.000  75.000  75.000  75.245  76.000  76.000  76.000  76.000 \n",
              "  76.0%   76.1%   76.2%   76.3%   76.4%   76.5%   76.6%   76.7%   76.8%   76.9% \n",
              " 76.000  76.000  76.000  76.000  76.000  76.000  76.234  77.000  77.000  77.000 \n",
              "  77.0%   77.1%   77.2%   77.3%   77.4%   77.5%   77.6%   77.7%   77.8%   77.9% \n",
              " 77.000  77.000  77.000  77.000  77.000  77.000  77.224  78.000  78.000  78.000 \n",
              "  78.0%   78.1%   78.2%   78.3%   78.4%   78.5%   78.6%   78.7%   78.8%   78.9% \n",
              " 78.000  78.000  78.000  78.217  79.000  79.000  79.000  79.000  79.000  79.000 \n",
              "  79.0%   79.1%   79.2%   79.3%   79.4%   79.5%   79.6%   79.7%   79.8%   79.9% \n",
              " 79.000  79.000  79.000  79.000  79.000  79.205  80.000  80.000  80.000  80.000 \n",
              "  80.0%   80.1%   80.2%   80.3%   80.4%   80.5%   80.6%   80.7%   80.8%   80.9% \n",
              " 80.000  80.000  80.000  80.000  80.000  80.000  80.000  80.193  81.000  81.000 \n",
              "  81.0%   81.1%   81.2%   81.3%   81.4%   81.5%   81.6%   81.7%   81.8%   81.9% \n",
              " 81.000  81.000  81.000  81.000  81.000  81.000  81.184  82.000  82.000  82.000 \n",
              "  82.0%   82.1%   82.2%   82.3%   82.4%   82.5%   82.6%   82.7%   82.8%   82.9% \n",
              " 82.000  82.000  82.000  82.000  82.000  82.175  83.000  83.000  83.000  83.000 \n",
              "  83.0%   83.1%   83.2%   83.3%   83.4%   83.5%   83.6%   83.7%   83.8%   83.9% \n",
              " 83.000  83.000  83.000  83.000  83.000  83.165  84.000  84.000  84.000  84.000 \n",
              "  84.0%   84.1%   84.2%   84.3%   84.4%   84.5%   84.6%   84.7%   84.8%   84.9% \n",
              " 84.000  84.000  84.000  84.000  84.156  85.000  85.000  85.000  85.000  85.000 \n",
              "  85.0%   85.1%   85.2%   85.3%   85.4%   85.5%   85.6%   85.7%   85.8%   85.9% \n",
              " 85.000  85.000  85.000  85.147  86.000  86.000  86.000  86.000  86.000  86.000 \n",
              "  86.0%   86.1%   86.2%   86.3%   86.4%   86.5%   86.6%   86.7%   86.8%   86.9% \n",
              " 86.140  87.000  87.000  87.000  87.000  87.000  87.000  87.000  87.000  87.000 \n",
              "  87.0%   87.1%   87.2%   87.3%   87.4%   87.5%   87.6%   87.7%   87.8%   87.9% \n",
              " 87.000  87.129  88.000  88.000  88.000  88.000  88.000  88.000  88.000  88.121 \n",
              "  88.0%   88.1%   88.2%   88.3%   88.4%   88.5%   88.6%   88.7%   88.8%   88.9% \n",
              " 89.000  89.000  89.000  89.000  89.000  89.000  89.000  89.000  89.112  90.000 \n",
              "  89.0%   89.1%   89.2%   89.3%   89.4%   89.5%   89.6%   89.7%   89.8%   89.9% \n",
              " 90.000  90.000  90.000  90.000  90.000  90.000  90.000  90.000  90.000  90.000 \n",
              "  90.0%   90.1%   90.2%   90.3%   90.4%   90.5%   90.6%   90.7%   90.8%   90.9% \n",
              " 90.000  90.099  91.000  91.000  91.000  91.000  91.000  91.000  91.000  91.000 \n",
              "  91.0%   91.1%   91.2%   91.3%   91.4%   91.5%   91.6%   91.7%   91.8%   91.9% \n",
              " 91.000  91.000  91.088  92.000  92.000  92.000  92.000  92.000  92.000  92.000 \n",
              "  92.0%   92.1%   92.2%   92.3%   92.4%   92.5%   92.6%   92.7%   92.8%   92.9% \n",
              " 92.000  92.000  92.078  93.000  93.000  93.000  93.000  93.000  93.000  93.071 \n",
              "  93.0%   93.1%   93.2%   93.3%   93.4%   93.5%   93.6%   93.7%   93.8%   93.9% \n",
              " 94.000  94.000  94.000  94.000  94.000  94.000  94.000  94.000  94.062  95.000 \n",
              "  94.0%   94.1%   94.2%   94.3%   94.4%   94.5%   94.6%   94.7%   94.8%   94.9% \n",
              " 95.000  95.000  95.000  95.000  95.000  95.000  95.000  95.000  95.000  95.000 \n",
              "  95.0%   95.1%   95.2%   95.3%   95.4%   95.5%   95.6%   95.7%   95.8%   95.9% \n",
              " 95.000  95.000  95.000  95.000  95.000  95.045  96.000  96.000  96.000  96.000 \n",
              "  96.0%   96.1%   96.2%   96.3%   96.4%   96.5%   96.6%   96.7%   96.8%   96.9% \n",
              " 96.000  96.000  96.000  96.000  96.000  96.000  96.034  97.000  97.000  97.000 \n",
              "  97.0%   97.1%   97.2%   97.3%   97.4%   97.5%   97.6%   97.7%   97.8%   97.9% \n",
              " 97.000  97.000  97.000  97.000  97.000  97.000  97.024  98.000  98.000  98.000 \n",
              "  98.0%   98.1%   98.2%   98.3%   98.4%   98.5%   98.6%   98.7%   98.8%   98.9% \n",
              " 98.000  98.000  98.000  98.000  98.000  98.015  99.000  99.000  99.000  99.000 \n",
              "  99.0%   99.1%   99.2%   99.3%   99.4%   99.5%   99.6%   99.7%   99.8%   99.9% \n",
              " 99.000  99.000  99.000  99.000  99.006 100.000 100.000 100.000 100.000 100.000 \n",
              " 100.0% \n",
              "100.000 "
            ]
          },
          "metadata": {}
        }
      ]
    },
    {
      "cell_type": "markdown",
      "source": [
        "##How to Visualize Quantiles\n",
        "Quantiles are often used for data visualization, most of the time in so called Quantile-Quantile plots.\n",
        "\n",
        "Quantile-Quantile plots can be created in R based on the qqplot function"
      ],
      "metadata": {
        "id": "b3S77d7_P1M9"
      }
    },
    {
      "cell_type": "code",
      "source": [
        "#First, we need to create a second vector:\n",
        "\n",
        "y <- x + rnorm(1000, 0, 30)             # Create y-data"
      ],
      "metadata": {
        "id": "uBVtuFdKPz0E"
      },
      "execution_count": 23,
      "outputs": []
    },
    {
      "cell_type": "code",
      "source": [
        "#Now, we can print a qqplot of our two example vectors with the qqplot function as follows:\n",
        "\n",
        "qqplot(x, y)                            # Quantile-Quantile plot of x & y"
      ],
      "metadata": {
        "colab": {
          "base_uri": "https://localhost:8080/",
          "height": 437
        },
        "id": "tmHQdV4GP8-V",
        "outputId": "2de43212-a264-48d8-bdfe-2e18486ad647"
      },
      "execution_count": 24,
      "outputs": [
        {
          "output_type": "display_data",
          "data": {
            "text/plain": [
              "plot without title"
            ],
            "image/png": "[encoded data removed]"
          },
          "metadata": {
            "image/png": {
              "width": 420,
              "height": 420
            }
          }
        }
      ]
    },
    {
      "cell_type": "markdown",
      "source": [
        "Quantiles can be a very useful weapon in statistical research."
      ],
      "metadata": {
        "id": "PoM5X1exQCu3"
      }
    },
    {
      "cell_type": "code",
      "source": [],
      "metadata": {
        "id": "DNFcanwUP_I9"
      },
      "execution_count": null,
      "outputs": []
    }
  ]
}