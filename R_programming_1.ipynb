{
  "nbformat": 4,
  "nbformat_minor": 0,
  "metadata": {
    "colab": {
      "provenance": []
    },
    "kernelspec": {
      "name": "ir",
      "display_name": "R"
    },
    "language_info": {
      "name": "R"
    }
  },
  "cells": [
    {
      "cell_type": "markdown",
      "source": [
        "#R PROGRAMMING\n",
        "\n"
      ],
      "metadata": {
        "id": "sphUq8pxgY5Y"
      }
    },
    {
      "cell_type": "markdown",
      "source": [
        "###Check Available R Packages\n",
        "To check the available R Packages, we have to find the library location in which R packages are contained. R provides libPaths() function to find the library locations."
      ],
      "metadata": {
        "id": "MK6U8nTjjOu4"
      }
    },
    {
      "cell_type": "code",
      "execution_count": 1,
      "metadata": {
        "id": "sI_hgbfDfiat",
        "colab": {
          "base_uri": "https://localhost:8080/",
          "height": 108
        },
        "outputId": "353bc78c-1afb-4bf3-c583-f71760b4da35"
      },
      "outputs": [
        {
          "output_type": "error",
          "ename": "ERROR",
          "evalue": "ignored",
          "traceback": [
            "Error in libPaths(): could not find function \"libPaths\"\nTraceback:\n"
          ]
        }
      ],
      "source": [
        "libPaths()"
      ]
    },
    {
      "cell_type": "markdown",
      "source": [
        "When the above code executes, it produces the following project, which may vary depending on the local settings of our PCs & Laptops."
      ],
      "metadata": {
        "id": "3EwYoL4DjWpx"
      }
    },
    {
      "cell_type": "code",
      "source": [
        "library()"
      ],
      "metadata": {
        "id": "InkWVkOXjbgw"
      },
      "execution_count": 2,
      "outputs": []
    },
    {
      "cell_type": "markdown",
      "source": [
        "When we execute the above function, it produces the following result, which may vary depending on the local settings of our PCs or laptops."
      ],
      "metadata": {
        "id": "vIv8hPfAjmQe"
      }
    },
    {
      "cell_type": "markdown",
      "source": [
        "Like library() function, R provides search() function to get all packages currently loaded in the R environment."
      ],
      "metadata": {
        "id": "gX4sZf45jpSY"
      }
    },
    {
      "cell_type": "code",
      "source": [
        "search()"
      ],
      "metadata": {
        "colab": {
          "base_uri": "https://localhost:8080/",
          "height": 52
        },
        "id": "hX1vs92wjl31",
        "outputId": "15944f1d-4b91-42ec-ee22-00f3c1bf99c0"
      },
      "execution_count": 3,
      "outputs": [
        {
          "output_type": "display_data",
          "data": {
            "text/html": [
              "<style>\n",
              ".list-inline {list-style: none; margin:0; padding: 0}\n",
              ".list-inline>li {display: inline-block}\n",
              ".list-inline>li:not(:last-child)::after {content: \"\\00b7\"; padding: 0 .5ex}\n",
              "</style>\n",
              "<ol class=list-inline><li>'.GlobalEnv'</li><li>'jupyter:irkernel'</li><li>'package:stats'</li><li>'package:graphics'</li><li>'package:grDevices'</li><li>'package:utils'</li><li>'package:datasets'</li><li>'package:methods'</li><li>'Autoloads'</li><li>'package:base'</li></ol>\n"
            ],
            "text/markdown": "1. '.GlobalEnv'\n2. 'jupyter:irkernel'\n3. 'package:stats'\n4. 'package:graphics'\n5. 'package:grDevices'\n6. 'package:utils'\n7. 'package:datasets'\n8. 'package:methods'\n9. 'Autoloads'\n10. 'package:base'\n\n\n",
            "text/latex": "\\begin{enumerate*}\n\\item '.GlobalEnv'\n\\item 'jupyter:irkernel'\n\\item 'package:stats'\n\\item 'package:graphics'\n\\item 'package:grDevices'\n\\item 'package:utils'\n\\item 'package:datasets'\n\\item 'package:methods'\n\\item 'Autoloads'\n\\item 'package:base'\n\\end{enumerate*}\n",
            "text/plain": [
              " [1] \".GlobalEnv\"        \"jupyter:irkernel\"  \"package:stats\"    \n",
              " [4] \"package:graphics\"  \"package:grDevices\" \"package:utils\"    \n",
              " [7] \"package:datasets\"  \"package:methods\"   \"Autoloads\"        \n",
              "[10] \"package:base\"     "
            ]
          },
          "metadata": {}
        }
      ]
    },
    {
      "cell_type": "markdown",
      "source": [
        "When we execute the above code, it will produce the following result, which may vary depending on the local settings of our PCs and laptops:"
      ],
      "metadata": {
        "id": "LBMOGquQjvLL"
      }
    },
    {
      "cell_type": "markdown",
      "source": [
        "Install directly from CRAN\n",
        "The following command is used to get the packages directly from CRAN webpage and install the package in the R environment. We may be prompted to choose the nearest mirror. Choose the one appropriate to our location.\n",
        "\n",
        "install.packages(\"Package Name\")  \n",
        "\n"
      ],
      "metadata": {
        "id": "_1ol12QQjxHv"
      }
    },
    {
      "cell_type": "code",
      "source": [
        "#The syntax of installing XML package is as follows:\n",
        "install.packages(\"XML\")"
      ],
      "metadata": {
        "colab": {
          "base_uri": "https://localhost:8080/"
        },
        "id": "dNXIA4oPje6U",
        "outputId": "bafa316e-13a0-4b45-e039-af8ee5ed0771"
      },
      "execution_count": 4,
      "outputs": [
        {
          "output_type": "stream",
          "name": "stderr",
          "text": [
            "Installing package into ‘/usr/local/lib/R/site-library’\n",
            "(as ‘lib’ is unspecified)\n",
            "\n"
          ]
        }
      ]
    },
    {
      "cell_type": "markdown",
      "source": [
        "###Install package manually\n",
        "\n",
        "To install a package manually, we first have to download it from https://cran.r-project.org/web/packages/available_packages_by_name.html. The required package will be saved as a .zip file in a suitable location in the local system."
      ],
      "metadata": {
        "id": "YU0272yDkEVP"
      }
    },
    {
      "cell_type": "markdown",
      "source": [
        "###Load Package to Library\n",
        "We cannot use the package in our code until it will not be loaded into the current R environment. We also need to load a package which is already installed previously but not available in the current environment.\n",
        "\n",
        "There is the following command to load a package:\n",
        "\n",
        "library(\"package Name\", lib.loc = \"path to library\")\n"
      ],
      "metadata": {
        "id": "VSozZCS2kN4A"
      }
    },
    {
      "cell_type": "code",
      "source": [
        "#Command to load the XML package\n",
        "#install.packages(\"C:\\Users\\ajeet\\OneDrive\\Desktop\\graphics\\xml2_1.2.2.zip\", repos = NULL, type = \"source\")"
      ],
      "metadata": {
        "id": "Mooh04xHj_08"
      },
      "execution_count": 5,
      "outputs": []
    },
    {
      "cell_type": "markdown",
      "source": [
        "###Hello world program\n"
      ],
      "metadata": {
        "id": "vwwJYKFolZvh"
      }
    },
    {
      "cell_type": "code",
      "source": [
        "string <- \"Hello World!\"\n",
        "print(string)"
      ],
      "metadata": {
        "colab": {
          "base_uri": "https://localhost:8080/"
        },
        "id": "W8Rq8n_JlZbz",
        "outputId": "bd51e0e6-ebdc-461d-a0f7-e54d9ec7d771"
      },
      "execution_count": 6,
      "outputs": [
        {
          "output_type": "stream",
          "name": "stdout",
          "text": [
            "[1] \"Hello World!\"\n"
          ]
        }
      ]
    },
    {
      "cell_type": "markdown",
      "source": [
        "###Single-line comment"
      ],
      "metadata": {
        "id": "WhCBY6XDl6lQ"
      }
    },
    {
      "cell_type": "code",
      "source": [
        "#My First program in R programming\n",
        "string <-\"Hello World!\"\n",
        "print(string)"
      ],
      "metadata": {
        "colab": {
          "base_uri": "https://localhost:8080/"
        },
        "id": "vc-dRdhml361",
        "outputId": "2a624204-3916-4c7c-bdfd-caa210f05098"
      },
      "execution_count": 7,
      "outputs": [
        {
          "output_type": "stream",
          "name": "stdout",
          "text": [
            "[1] \"Hello World!\"\n"
          ]
        }
      ]
    },
    {
      "cell_type": "markdown",
      "source": [
        "###The trick for multi-line comment"
      ],
      "metadata": {
        "id": "Clz1wYUBl_M7"
      }
    },
    {
      "cell_type": "code",
      "source": [
        "#Trick for multi-line comment\n",
        "if(FALSE) {\n",
        "   \"R is an interpreted computer programming language which was created by\n",
        "   Ross Ihaka and Robert Gentleman at the University of Auckland, New Zealand \"\n",
        "}\n",
        "#My First program in R programming\n",
        "string <-\"Hello World!\"\n",
        "print(string)"
      ],
      "metadata": {
        "colab": {
          "base_uri": "https://localhost:8080/"
        },
        "id": "Yje1ll8HkY2-",
        "outputId": "88aa415f-c84c-4fed-b056-b82dfd84725a"
      },
      "execution_count": 8,
      "outputs": [
        {
          "output_type": "stream",
          "name": "stdout",
          "text": [
            "[1] \"Hello World!\"\n"
          ]
        }
      ]
    },
    {
      "cell_type": "markdown",
      "source": [
        "#DATA TYPES"
      ],
      "metadata": {
        "id": "HAyr1a7RmOhm"
      }
    },
    {
      "cell_type": "code",
      "source": [
        "#to get the data type of the variable use class() function\n",
        "a <- 10\n",
        "class(a)"
      ],
      "metadata": {
        "colab": {
          "base_uri": "https://localhost:8080/",
          "height": 34
        },
        "id": "gbEPzr1JmYKM",
        "outputId": "63eb529e-a96c-46e0-d2dc-e0b3c5f651bd"
      },
      "execution_count": 9,
      "outputs": [
        {
          "output_type": "display_data",
          "data": {
            "text/html": [
              "'numeric'"
            ],
            "text/markdown": "'numeric'",
            "text/latex": "'numeric'",
            "text/plain": [
              "[1] \"numeric\""
            ]
          },
          "metadata": {}
        }
      ]
    },
    {
      "cell_type": "code",
      "source": [
        "#Logical Data type\n",
        "variable_logical<- TRUE\n",
        "cat(variable_logical,\"\\n\")\n",
        "cat(\"The data type of variable_logical is \",class(variable_logical),\"\\n\\n\")"
      ],
      "metadata": {
        "colab": {
          "base_uri": "https://localhost:8080/"
        },
        "id": "nuHFJANgmQdp",
        "outputId": "e115d7a5-608d-4b16-fba2-9df8a4f394e4"
      },
      "execution_count": 10,
      "outputs": [
        {
          "output_type": "stream",
          "name": "stdout",
          "text": [
            "TRUE \n",
            "The data type of variable_logical is  logical \n",
            "\n"
          ]
        }
      ]
    },
    {
      "cell_type": "code",
      "source": [
        "#Numeric Data type\n",
        "variable_numeric<- 3532\n",
        "cat(variable_numeric,\"\\n\")\n",
        "cat(\"The data type of variable_numeric is \",class(variable_numeric),\"\\n\\n\")"
      ],
      "metadata": {
        "colab": {
          "base_uri": "https://localhost:8080/"
        },
        "id": "_we5Urpmmk-2",
        "outputId": "ad7d47ca-db49-480f-ea56-2a98c0271070"
      },
      "execution_count": 11,
      "outputs": [
        {
          "output_type": "stream",
          "name": "stdout",
          "text": [
            "3532 \n",
            "The data type of variable_numeric is  numeric \n",
            "\n"
          ]
        }
      ]
    },
    {
      "cell_type": "code",
      "source": [
        "#Integer Data type\n",
        "variable_integer<- 133L\n",
        "cat(variable_integer,\"\\n\")\n",
        "cat(\"The data type of variable_integer is \",class(variable_integer),\"\\n\\n\")"
      ],
      "metadata": {
        "colab": {
          "base_uri": "https://localhost:8080/"
        },
        "id": "CjzCgSNKmpGE",
        "outputId": "afd7bf27-3cd6-4f4e-b3c5-5b522c57b7c6"
      },
      "execution_count": 12,
      "outputs": [
        {
          "output_type": "stream",
          "name": "stdout",
          "text": [
            "133 \n",
            "The data type of variable_integer is  integer \n",
            "\n"
          ]
        }
      ]
    },
    {
      "cell_type": "code",
      "source": [
        "#Complex Data type\n",
        "variable_complex<- 3+2i\n",
        "cat(variable_complex,\"\\n\")\n",
        "cat(\"The data type of variable_complex is \",class(variable_complex),\"\\n\\n\")"
      ],
      "metadata": {
        "colab": {
          "base_uri": "https://localhost:8080/"
        },
        "id": "EIngH0MAmtjl",
        "outputId": "79a76b7a-e430-41f7-dc5c-508505ea5e14"
      },
      "execution_count": 13,
      "outputs": [
        {
          "output_type": "stream",
          "name": "stdout",
          "text": [
            "3+2i \n",
            "The data type of variable_complex is  complex \n",
            "\n"
          ]
        }
      ]
    },
    {
      "cell_type": "code",
      "source": [
        "#Character Data type\n",
        "variable_char<- \"Learning r programming\"\n",
        "cat(variable_char,\"\\n\")\n",
        "cat(\"The data type of variable_char is \",class(variable_char),\"\\n\\n\")"
      ],
      "metadata": {
        "colab": {
          "base_uri": "https://localhost:8080/"
        },
        "id": "SgSgMvnAmyxP",
        "outputId": "0b9212e2-9c2b-4636-b489-52e17d9e4218"
      },
      "execution_count": 14,
      "outputs": [
        {
          "output_type": "stream",
          "name": "stdout",
          "text": [
            "Learning r programming \n",
            "The data type of variable_char is  character \n",
            "\n"
          ]
        }
      ]
    },
    {
      "cell_type": "code",
      "source": [
        "#Raw Data type\n",
        "variable_raw<- charToRaw(\"Learning r programming\")\n",
        "cat(variable_raw,\"\\n\")\n",
        "cat(\"The data type of variable_char is \",class(variable_raw),\"\\n\\n\")"
      ],
      "metadata": {
        "colab": {
          "base_uri": "https://localhost:8080/"
        },
        "id": "Z5FZu41cm0_o",
        "outputId": "89912010-27e2-47b9-8215-fe9f64e3ef1d"
      },
      "execution_count": 15,
      "outputs": [
        {
          "output_type": "stream",
          "name": "stdout",
          "text": [
            "4c 65 61 72 6e 69 6e 67 20 72 20 70 72 6f 67 72 61 6d 6d 69 6e 67 \n",
            "The data type of variable_char is  raw \n",
            "\n"
          ]
        }
      ]
    },
    {
      "cell_type": "markdown",
      "source": [
        "###Assignment of variable\n",
        "In R programming, there are three operators which we can use to assign the values to the variable. We can use leftward, rightward, and equal_to operator for this purpose.\n",
        "\n",
        "There are two functions which are used to print the value of the variable i.e., print() and cat(). The cat() function combines multiples values into a continuous print output."
      ],
      "metadata": {
        "id": "3-AfR35-nniq"
      }
    },
    {
      "cell_type": "code",
      "source": [
        "# Assignment using equal operator.\n",
        "variable.1 = 124"
      ],
      "metadata": {
        "id": "SNp7quNgm3Oy"
      },
      "execution_count": 16,
      "outputs": []
    },
    {
      "cell_type": "code",
      "source": [
        "# Assignment using leftward operator.\n",
        "variable.2 <- \"Learn R Programming\""
      ],
      "metadata": {
        "id": "qPSil7kdnrk3"
      },
      "execution_count": 17,
      "outputs": []
    },
    {
      "cell_type": "code",
      "source": [
        "# Assignment using rightward operator.\n",
        "133L -> variable.3"
      ],
      "metadata": {
        "id": "gbFo025wnuxN"
      },
      "execution_count": 18,
      "outputs": []
    },
    {
      "cell_type": "code",
      "source": [
        "print(variable.1)\n",
        "cat (\"variable.1 is \", variable.1 ,\"\\n\")\n",
        "cat (\"variable.2 is \", variable.2 ,\"\\n\")\n",
        "cat (\"variable.3 is \", variable.3 ,\"\\n\")"
      ],
      "metadata": {
        "colab": {
          "base_uri": "https://localhost:8080/"
        },
        "id": "Y5f2Yawdnway",
        "outputId": "cfeacf4e-5801-4992-dd88-8e716d2f40ce"
      },
      "execution_count": 19,
      "outputs": [
        {
          "output_type": "stream",
          "name": "stdout",
          "text": [
            "[1] 124\n",
            "variable.1 is  124 \n",
            "variable.2 is  Learn R Programming \n",
            "variable.3 is  133 \n"
          ]
        }
      ]
    },
    {
      "cell_type": "markdown",
      "source": [
        "###Data types of variable\n",
        "R programming is a dynamically typed language, which means that we can change the data type of the same variable again and again in our program. Because of its dynamic nature, a variable is not declared of any data type. It gets the data type from the R-object, which is to be assigned to the variable.\n",
        "\n",
        "We can check the data type of the variable with the help of the class() function"
      ],
      "metadata": {
        "id": "c0zlx4kYn3Al"
      }
    },
    {
      "cell_type": "code",
      "source": [
        "variable_y<- 124\n",
        "cat(\"The data type of variable_y is \",class(variable_y),\"\\n\")"
      ],
      "metadata": {
        "colab": {
          "base_uri": "https://localhost:8080/"
        },
        "id": "EZp52fvUnysl",
        "outputId": "bde9f59e-be34-4838-9dd6-ba4cb1e31fc6"
      },
      "execution_count": 20,
      "outputs": [
        {
          "output_type": "stream",
          "name": "stdout",
          "text": [
            "The data type of variable_y is  numeric \n"
          ]
        }
      ]
    },
    {
      "cell_type": "code",
      "source": [
        "variable_y<- \"Learn R Programming\"\n",
        "cat(\"  Now the data type of variable_y is \",class(variable_y),\"\\n\")"
      ],
      "metadata": {
        "colab": {
          "base_uri": "https://localhost:8080/"
        },
        "id": "7HdKf9d0n8uN",
        "outputId": "4ce86821-50f5-4f9f-b65f-56a6d0144cf2"
      },
      "execution_count": 21,
      "outputs": [
        {
          "output_type": "stream",
          "name": "stdout",
          "text": [
            "  Now the data type of variable_y is  character \n"
          ]
        }
      ]
    },
    {
      "cell_type": "code",
      "source": [
        "variable_y<- 133L\n",
        "cat(\"   Next the data type of variable_y becomes \",class(variable_y),\"\\n\")"
      ],
      "metadata": {
        "colab": {
          "base_uri": "https://localhost:8080/"
        },
        "id": "_eVoui1Vn_Kc",
        "outputId": "6d0cd381-8674-4f2b-be54-5aa143c5f920"
      },
      "execution_count": 22,
      "outputs": [
        {
          "output_type": "stream",
          "name": "stdout",
          "text": [
            "   Next the data type of variable_y becomes  integer \n"
          ]
        }
      ]
    },
    {
      "cell_type": "markdown",
      "source": [
        "#Keywords in R Programming\n",
        "\n"
      ],
      "metadata": {
        "id": "G-vaUygpoL2h"
      }
    },
    {
      "cell_type": "markdown",
      "source": [
        "###if\n",
        "\n",
        "The if statement consists of a Boolean expression which is followed by one or more statements. In R, if statement is the simplest conditional statement which is used to decide whether a block of the statement will be executed or not."
      ],
      "metadata": {
        "id": "uo0BifUSoTH1"
      }
    },
    {
      "cell_type": "code",
      "source": [
        "a<-12\n",
        "if(a<15) {\n",
        "  print(\"I am lesser than 15\")  }"
      ],
      "metadata": {
        "colab": {
          "base_uri": "https://localhost:8080/"
        },
        "id": "JnoL_8KsoBC4",
        "outputId": "eefa1508-40bd-482f-8166-1de731ace7f3"
      },
      "execution_count": 23,
      "outputs": [
        {
          "output_type": "stream",
          "name": "stdout",
          "text": [
            "[1] \"I am lesser than 15\"\n"
          ]
        }
      ]
    },
    {
      "cell_type": "code",
      "source": [
        "x <- c(\"what\",\"is\",\"truth\")\n",
        "\n",
        "if(\"Truth\" %in% x) {\n",
        "   print(\"Truth is found\")\n",
        "} else {\n",
        "   print(\"Truth is not found\")\n",
        "}"
      ],
      "metadata": {
        "colab": {
          "base_uri": "https://localhost:8080/"
        },
        "id": "dZsPuNJwoX_s",
        "outputId": "d338aed0-a423-477e-8520-6a262921b7c8"
      },
      "execution_count": 24,
      "outputs": [
        {
          "output_type": "stream",
          "name": "stdout",
          "text": [
            "[1] \"Truth is not found\"\n"
          ]
        }
      ]
    },
    {
      "cell_type": "markdown",
      "source": [
        "###else\n",
        "The R else statement is associated with if statement. When the if statement's condition is false only then else block will be executed.\n"
      ],
      "metadata": {
        "id": "iu3yGKO7pG37"
      }
    },
    {
      "cell_type": "code",
      "source": [
        "a<-22\n",
        "if(a<20){\n",
        "    cat(\"I am lesser than 20\")\n",
        "}else{\n",
        "    cat(\"I am larger than 20\")\n",
        "}"
      ],
      "metadata": {
        "colab": {
          "base_uri": "https://localhost:8080/"
        },
        "id": "YtMQFOgqo99B",
        "outputId": "07343d7f-bf93-4fa9-c022-294c111394e4"
      },
      "execution_count": 25,
      "outputs": [
        {
          "output_type": "stream",
          "name": "stdout",
          "text": [
            "I am larger than 20"
          ]
        }
      ]
    },
    {
      "cell_type": "markdown",
      "source": [
        "###repeat\n",
        "\n",
        "The repeat keyword is used to iterate over a block of code multiple numbers of times. In R, repeat is a loop, and in this loop statement, there is no condition to exit from the loop. For exiting the loop, we will use the break statement."
      ],
      "metadata": {
        "id": "KHYby24upQdC"
      }
    },
    {
      "cell_type": "code",
      "source": [
        "x <- 1\n",
        "repeat {\n",
        "    cat(x)\n",
        "    x = x+1\n",
        "if (x == 6){\n",
        "        break\n",
        "    }\n",
        "}"
      ],
      "metadata": {
        "colab": {
          "base_uri": "https://localhost:8080/"
        },
        "id": "j4mW6JVcpX3S",
        "outputId": "ff832818-3419-45f3-a89a-d51813d02b15"
      },
      "execution_count": 26,
      "outputs": [
        {
          "output_type": "stream",
          "name": "stdout",
          "text": [
            "12345"
          ]
        }
      ]
    },
    {
      "cell_type": "markdown",
      "source": [
        "###while\n",
        "\n",
        "A while keyword is used as a loop. The while loop is executed until the given condition is true. This is also used to make an infinite loop."
      ],
      "metadata": {
        "id": "-S2PELoLpe15"
      }
    },
    {
      "cell_type": "code",
      "source": [
        "a <- 20\n",
        "while(a!=0){\n",
        "      cat(a)\n",
        "      a = a-2\n",
        "}"
      ],
      "metadata": {
        "colab": {
          "base_uri": "https://localhost:8080/"
        },
        "id": "mWL4lj8Opaz9",
        "outputId": "1d38dd90-8d3f-484f-d53e-4a58d69bd95c"
      },
      "execution_count": 27,
      "outputs": [
        {
          "output_type": "stream",
          "name": "stdout",
          "text": [
            "2018161412108642"
          ]
        }
      ]
    },
    {
      "cell_type": "markdown",
      "source": [
        "###function\n",
        "\n",
        "A function is an object in R programming. The keyword function is used to create a user-define function in R. R has some pre-defined functions also, such as seq, mean, and sum."
      ],
      "metadata": {
        "id": "ZlQF6XJcpk85"
      }
    },
    {
      "cell_type": "code",
      "source": [
        "new.function<- function(n) {\n",
        "   for(i in 1:n) {\n",
        "      a <- i^2\n",
        "      print(a)\n",
        "   }\n",
        "}\n",
        "new.function(6)"
      ],
      "metadata": {
        "colab": {
          "base_uri": "https://localhost:8080/"
        },
        "id": "RjMtAbN-pjjG",
        "outputId": "384a4ac9-14c9-4521-86ce-4d0c9933a8db"
      },
      "execution_count": 28,
      "outputs": [
        {
          "output_type": "stream",
          "name": "stdout",
          "text": [
            "[1] 1\n",
            "[1] 4\n",
            "[1] 9\n",
            "[1] 16\n",
            "[1] 25\n",
            "[1] 36\n"
          ]
        }
      ]
    },
    {
      "cell_type": "markdown",
      "source": [
        "###for\n",
        "The for is a keyword which is used for looping or iterating over a sequence (dictionary, string, list, set or tuple).\n",
        "\n",
        "We can execute a set of a statement once for each item in the iterator (list, set, tuple, etc.) with the help of for loop."
      ],
      "metadata": {
        "id": "rbcr0EuMpsIu"
      }
    },
    {
      "cell_type": "code",
      "source": [
        "v <- LETTERS[1:4]\n",
        "for ( i in v) {\n",
        "   print(i)\n",
        "}"
      ],
      "metadata": {
        "colab": {
          "base_uri": "https://localhost:8080/"
        },
        "id": "P9aRJgylpqg6",
        "outputId": "81b26b8d-4e14-481e-edd5-6df783f4a09a"
      },
      "execution_count": 29,
      "outputs": [
        {
          "output_type": "stream",
          "name": "stdout",
          "text": [
            "[1] \"A\"\n",
            "[1] \"B\"\n",
            "[1] \"C\"\n",
            "[1] \"D\"\n"
          ]
        }
      ]
    },
    {
      "cell_type": "markdown",
      "source": [
        "###next\n",
        "The next keyword skips the current iteration of a loop without terminating it. When R parser found next, it skips further evaluation and starts the new iteration of the loop."
      ],
      "metadata": {
        "id": "hFxPZ-CNpxnS"
      }
    },
    {
      "cell_type": "code",
      "source": [
        "v <- LETTERS[1:6]\n",
        "for ( i in v) {\n",
        "if (i == \"D\") {\n",
        "        next\n",
        "}\n",
        "    print(i)\n",
        "}"
      ],
      "metadata": {
        "colab": {
          "base_uri": "https://localhost:8080/"
        },
        "id": "CYuu3rOZpwPE",
        "outputId": "97d128d4-2c39-48ef-c5b9-97d851eaa913"
      },
      "execution_count": 30,
      "outputs": [
        {
          "output_type": "stream",
          "name": "stdout",
          "text": [
            "[1] \"A\"\n",
            "[1] \"B\"\n",
            "[1] \"C\"\n",
            "[1] \"E\"\n",
            "[1] \"F\"\n"
          ]
        }
      ]
    },
    {
      "cell_type": "markdown",
      "source": [
        "###break\n",
        "The break keyword is used to terminate the loop if the condition is true. The control of the program firstly passes to the outer statement then passes to the body of the break statement."
      ],
      "metadata": {
        "id": "MYHXMmziqCp_"
      }
    },
    {
      "cell_type": "code",
      "source": [
        "n<-1\n",
        "while(n<10){\n",
        "if(n==3)\n",
        "        break\n",
        "n=n+1\n",
        "cat(n,\"\\n\")\n",
        "}\n",
        "cat(\"End of the program\")"
      ],
      "metadata": {
        "colab": {
          "base_uri": "https://localhost:8080/"
        },
        "id": "Kwq0SItgp1la",
        "outputId": "16498e16-7bc6-4133-f7d7-abaadd949498"
      },
      "execution_count": 31,
      "outputs": [
        {
          "output_type": "stream",
          "name": "stdout",
          "text": [
            "2 \n",
            "3 \n",
            "End of the program"
          ]
        }
      ]
    },
    {
      "cell_type": "markdown",
      "source": [
        "###TRUE/FALSE\n",
        "The TRUE and FALSE keywords are used to represent a Boolean true and Boolean false. If the given statement is true, then the interpreter returns true else the interpreter returns false."
      ],
      "metadata": {
        "id": "HuRC-jxZqG_U"
      }
    },
    {
      "cell_type": "markdown",
      "source": [
        "###NULL\n",
        "In R, NULL represents the null object. NULL is used to represent missing and undefined values. NULL is the logical representation of a statement which is neither TRUE nor FALSE."
      ],
      "metadata": {
        "id": "Zk37aOZ-qWBA"
      }
    },
    {
      "cell_type": "code",
      "source": [
        "as.null(list(a = 1, b = \"c\"))"
      ],
      "metadata": {
        "colab": {
          "base_uri": "https://localhost:8080/",
          "height": 35
        },
        "id": "q1i0kVHjqFIK",
        "outputId": "31dfebfe-ad71-418c-a4e7-95c4e07b2728"
      },
      "execution_count": 32,
      "outputs": [
        {
          "output_type": "display_data",
          "data": {
            "text/plain": [
              "NULL"
            ]
          },
          "metadata": {}
        }
      ]
    },
    {
      "cell_type": "markdown",
      "source": [
        "###Inf and NaN\n",
        "The is.finite and is.infinite function returns a vector of the same length indicating which elements are finite or infinite.\n",
        "\n",
        "Inf and -Inf are positive and negative infinity. NaN stands for 'Not a Number.' NaN applies on numeric values and real and imaginary parts of complex values, but it will not apply to the values of integer vectors."
      ],
      "metadata": {
        "id": "j1x69SXzqdbm"
      }
    },
    {
      "cell_type": "code",
      "source": [
        "is.finite(x)\n",
        "is.infinite(x)\n",
        "is.nan(x)"
      ],
      "metadata": {
        "colab": {
          "base_uri": "https://localhost:8080/",
          "height": 69
        },
        "id": "qLKirBiAqYvm",
        "outputId": "b5e63e27-2cbf-481e-9b06-1d28b28ae03d"
      },
      "execution_count": 33,
      "outputs": [
        {
          "output_type": "display_data",
          "data": {
            "text/html": [
              "TRUE"
            ],
            "text/markdown": "TRUE",
            "text/latex": "TRUE",
            "text/plain": [
              "[1] TRUE"
            ]
          },
          "metadata": {}
        },
        {
          "output_type": "display_data",
          "data": {
            "text/html": [
              "FALSE"
            ],
            "text/markdown": "FALSE",
            "text/latex": "FALSE",
            "text/plain": [
              "[1] FALSE"
            ]
          },
          "metadata": {}
        },
        {
          "output_type": "display_data",
          "data": {
            "text/html": [
              "FALSE"
            ],
            "text/markdown": "FALSE",
            "text/latex": "FALSE",
            "text/plain": [
              "[1] FALSE"
            ]
          },
          "metadata": {}
        }
      ]
    },
    {
      "cell_type": "markdown",
      "source": [
        "### NA\n",
        "NA is a logical constant of length 1 that contains a missing value indicator. It can be coerced to any other vector type except raw. There are other types of constant also, such as NA_Integer_, NA_real_, NA_complex_, and NA_character. These constants are of the other atomic vector type which supports missing values."
      ],
      "metadata": {
        "id": "t-RW1GtZqjjA"
      }
    },
    {
      "cell_type": "code",
      "source": [
        "is.na(x)\n",
        "anyNA(x, recursive = FALSE)\n",
        "\n",
        "## S3 method for class 'data.frame'\n",
        "is.na(x)\n",
        "\n",
        "is.na(x) <- value"
      ],
      "metadata": {
        "colab": {
          "base_uri": "https://localhost:8080/",
          "height": 160
        },
        "id": "ocD9pLK7qf6D",
        "outputId": "60ad1d5e-b9a1-4fdd-d37c-ef0f145343ee"
      },
      "execution_count": 34,
      "outputs": [
        {
          "output_type": "display_data",
          "data": {
            "text/html": [
              "FALSE"
            ],
            "text/markdown": "FALSE",
            "text/latex": "FALSE",
            "text/plain": [
              "[1] FALSE"
            ]
          },
          "metadata": {}
        },
        {
          "output_type": "display_data",
          "data": {
            "text/html": [
              "FALSE"
            ],
            "text/markdown": "FALSE",
            "text/latex": "FALSE",
            "text/plain": [
              "[1] FALSE"
            ]
          },
          "metadata": {}
        },
        {
          "output_type": "display_data",
          "data": {
            "text/html": [
              "FALSE"
            ],
            "text/markdown": "FALSE",
            "text/latex": "FALSE",
            "text/plain": [
              "[1] FALSE"
            ]
          },
          "metadata": {}
        },
        {
          "output_type": "error",
          "ename": "ERROR",
          "evalue": "ignored",
          "traceback": [
            "Error in eval(expr, envir, enclos): object 'value' not found\nTraceback:\n"
          ]
        }
      ]
    },
    {
      "cell_type": "markdown",
      "source": [
        "#Operators in R\n"
      ],
      "metadata": {
        "id": "jLHluLszq-dz"
      }
    },
    {
      "cell_type": "markdown",
      "source": [
        "###Arithmetic Operators\n",
        "Arithmetic operators are the symbols which are used to represent arithmetic math operations. The operators act on each and every element of the vector. There are various arithmetic operators which are supported by R."
      ],
      "metadata": {
        "id": "cJace_hnrE3_"
      }
    },
    {
      "cell_type": "code",
      "source": [
        "#+ : This operator is used to add two vectors in R.\n",
        "a <- c(2, 3.3, 4)\n",
        "b <- c(11, 5, 3)\n",
        "print(a+b)"
      ],
      "metadata": {
        "colab": {
          "base_uri": "https://localhost:8080/"
        },
        "id": "XAP2IIrxqo-W",
        "outputId": "ea6f82bd-a28d-4d5c-aa2e-8887b2c45468"
      },
      "execution_count": 35,
      "outputs": [
        {
          "output_type": "stream",
          "name": "stdout",
          "text": [
            "[1] 13.0  8.3  7.0\n"
          ]
        }
      ]
    },
    {
      "cell_type": "code",
      "source": [
        "#- :This operator is used to divide a vector from another one.\n",
        "a <- c(2, 3.3, 4)\n",
        "b <- c(11, 5, 3)\n",
        "print(a-b)"
      ],
      "metadata": {
        "colab": {
          "base_uri": "https://localhost:8080/"
        },
        "id": "AyX32T0WrOHz",
        "outputId": "59b12d65-9515-4187-d80b-e67cc5a64f0b"
      },
      "execution_count": 36,
      "outputs": [
        {
          "output_type": "stream",
          "name": "stdout",
          "text": [
            "[1] -9.0 -1.7  1.0\n"
          ]
        }
      ]
    },
    {
      "cell_type": "code",
      "source": [
        "#*\tThis operator is used to multiply two vectors with each other.\n",
        "a <- c(2, 3.3, 4)\n",
        "b <- c(11, 5, 3)\n",
        "print(a*b)"
      ],
      "metadata": {
        "colab": {
          "base_uri": "https://localhost:8080/"
        },
        "id": "Bc9Hp2n_rXku",
        "outputId": "cbf195e0-a96a-4396-d075-a0b971c5e3bd"
      },
      "execution_count": 37,
      "outputs": [
        {
          "output_type": "stream",
          "name": "stdout",
          "text": [
            "[1] 22.0 16.5 12.0\n"
          ]
        }
      ]
    },
    {
      "cell_type": "code",
      "source": [
        "#/ : This operator divides the vector from another one.\n",
        "a <- c(2, 3.3, 4)\n",
        "b <- c(11, 5, 3)\n",
        "print(a/b)"
      ],
      "metadata": {
        "colab": {
          "base_uri": "https://localhost:8080/"
        },
        "id": "WOmoeREMrhpt",
        "outputId": "00f7b455-982e-49e0-fe30-25caaea81acd"
      },
      "execution_count": 38,
      "outputs": [
        {
          "output_type": "stream",
          "name": "stdout",
          "text": [
            "[1] 0.1818182 0.6600000 1.3333333\n"
          ]
        }
      ]
    },
    {
      "cell_type": "code",
      "source": [
        "#%% : This operator is used to find the remainder of the first vector with the second vector.\n",
        "a <- c(2, 3.3, 4)\n",
        "b <- c(11, 5, 3)\n",
        "print(a%%b)"
      ],
      "metadata": {
        "colab": {
          "base_uri": "https://localhost:8080/"
        },
        "id": "LsTgaPBirnGa",
        "outputId": "8ce0d37f-1672-4794-b833-1a75fb0723f2"
      },
      "execution_count": 39,
      "outputs": [
        {
          "output_type": "stream",
          "name": "stdout",
          "text": [
            "[1] 2.0 3.3 1.0\n"
          ]
        }
      ]
    },
    {
      "cell_type": "code",
      "source": [
        "#%/% : This operator is used to find the division of the first vector with the second(quotient).\n",
        "a <- c(2, 3.3, 4)\n",
        "b <- c(11, 5, 3)\n",
        "print(a%/%b)"
      ],
      "metadata": {
        "colab": {
          "base_uri": "https://localhost:8080/"
        },
        "id": "14fH6wUFruKt",
        "outputId": "75abe36a-7917-4b4b-b4ce-00360f872670"
      },
      "execution_count": 40,
      "outputs": [
        {
          "output_type": "stream",
          "name": "stdout",
          "text": [
            "[1] 0 0 1\n"
          ]
        }
      ]
    },
    {
      "cell_type": "code",
      "source": [
        "#^ :This operator raised the first vector to the exponent of the second vector.\n",
        "a <- c(2, 3.3, 4)\n",
        "b <- c(11, 5, 3)\n",
        "print(a^b)"
      ],
      "metadata": {
        "colab": {
          "base_uri": "https://localhost:8080/"
        },
        "id": "yWIW90DKr0BK",
        "outputId": "c3e743e0-59b1-4f0a-f7a1-d569f12af523"
      },
      "execution_count": 41,
      "outputs": [
        {
          "output_type": "stream",
          "name": "stdout",
          "text": [
            "[1] 2048.0000  391.3539   64.0000\n"
          ]
        }
      ]
    },
    {
      "cell_type": "markdown",
      "source": [
        "###Relational Operators\n",
        "A relational operator is a symbol which defines some kind of relation between two entities. These include numerical equalities and inequalities. A relational operator compares each element of the first vector with the corresponding element of the second vector. The result of the comparison will be a Boolean value."
      ],
      "metadata": {
        "id": "csiDqNwOr7c4"
      }
    },
    {
      "cell_type": "code",
      "source": [
        "# >\t: This operator will return TRUE when every element in the first vector is greater than the corresponding element of the second vector.\n",
        "a <- c(1, 3, 5)\n",
        "b <- c(2, 4, 6)\n",
        "print(a>b)"
      ],
      "metadata": {
        "colab": {
          "base_uri": "https://localhost:8080/"
        },
        "id": "TdnB9GYnr6m_",
        "outputId": "44bec173-3a5e-4e3f-a3f0-582391c0fc95"
      },
      "execution_count": 42,
      "outputs": [
        {
          "output_type": "stream",
          "name": "stdout",
          "text": [
            "[1] FALSE FALSE FALSE\n"
          ]
        }
      ]
    },
    {
      "cell_type": "code",
      "source": [
        "# < : This operator will return TRUE when every element in the first vector is less then the corresponding element of the second vector.\n",
        "a <- c(1, 9, 5)\n",
        "b <- c(2, 4, 6)\n",
        "print(a<b)"
      ],
      "metadata": {
        "colab": {
          "base_uri": "https://localhost:8080/"
        },
        "id": "9MelVdhhsDhO",
        "outputId": "3123e4db-dc2c-4837-e1eb-61ca06cadaef"
      },
      "execution_count": 43,
      "outputs": [
        {
          "output_type": "stream",
          "name": "stdout",
          "text": [
            "[1]  TRUE FALSE  TRUE\n"
          ]
        }
      ]
    },
    {
      "cell_type": "code",
      "source": [
        "# <= :This operator will return TRUE when every element in the first vector is less than or equal to the corresponding element of another vector.\n",
        "a <- c(1, 3, 5)\n",
        "b <- c(2, 3, 6)\n",
        "print(a<=b)"
      ],
      "metadata": {
        "colab": {
          "base_uri": "https://localhost:8080/"
        },
        "id": "oib9F-iNsJJx",
        "outputId": "9d124a05-033c-455d-8e23-a06c5f8de208"
      },
      "execution_count": 44,
      "outputs": [
        {
          "output_type": "stream",
          "name": "stdout",
          "text": [
            "[1] TRUE TRUE TRUE\n"
          ]
        }
      ]
    },
    {
      "cell_type": "code",
      "source": [
        "# >=:\tThis operator will return TRUE when every element in the first vector is greater than or equal to the corresponding element of another vector.\n",
        "a <- c(1, 3, 5)\n",
        "b <- c(2, 3, 6)\n",
        "print(a>=b)"
      ],
      "metadata": {
        "colab": {
          "base_uri": "https://localhost:8080/"
        },
        "id": "bN2gWCaisNq5",
        "outputId": "97f6dee8-e7f0-44d2-bc2f-cae68aebcdfc"
      },
      "execution_count": 45,
      "outputs": [
        {
          "output_type": "stream",
          "name": "stdout",
          "text": [
            "[1] FALSE  TRUE FALSE\n"
          ]
        }
      ]
    },
    {
      "cell_type": "code",
      "source": [
        "#== : This operator will return TRUE when every element in the first vector is equal to the corresponding element of the second vector.\n",
        "a <- c(1, 3, 5)\n",
        "b <- c(2, 3, 6)\n",
        "print(a==b)"
      ],
      "metadata": {
        "colab": {
          "base_uri": "https://localhost:8080/"
        },
        "id": "9skAmHTzsUWV",
        "outputId": "ff5308c0-5232-498b-e20a-e4333dad9fd3"
      },
      "execution_count": 47,
      "outputs": [
        {
          "output_type": "stream",
          "name": "stdout",
          "text": [
            "[1] FALSE  TRUE FALSE\n"
          ]
        }
      ]
    },
    {
      "cell_type": "code",
      "source": [
        "# != :\tThis operator will return TRUE when every element in the first vector is not equal to the corresponding element of the second vector.\n",
        "a <- c(1, 3, 5)\n",
        "b <- c(2, 3, 6)\n",
        "print(a>=b)"
      ],
      "metadata": {
        "colab": {
          "base_uri": "https://localhost:8080/"
        },
        "id": "3HTnzDfosZ9B",
        "outputId": "f5b2b930-93b4-48c3-e7bd-7a3ea467214b"
      },
      "execution_count": 46,
      "outputs": [
        {
          "output_type": "stream",
          "name": "stdout",
          "text": [
            "[1] FALSE  TRUE FALSE\n"
          ]
        }
      ]
    },
    {
      "cell_type": "markdown",
      "source": [
        "###Logical Operators\n",
        "The logical operators allow a program to make a decision on the basis of multiple conditions. In the program, each operand is considered as a condition which can be evaluated to a false or true value. The value of the conditions is used to determine the overall value of the op1 operator op2. Logical operators are applicable to those vectors whose type is logical, numeric, or complex.\n",
        "\n",
        "The logical operator compares each element of the first vector with the corresponding element of the second vector."
      ],
      "metadata": {
        "id": "vHGId-n9sebW"
      }
    },
    {
      "cell_type": "code",
      "source": [
        "# &:\tThis operator is known as the Logical AND operator. This operator takes the first element of both the vector and returns TRUE if both the elements are TRUE.\n",
        "\ta <- c(3, 0, TRUE, 2+2i)\n",
        "\tb <- c(2, 4, TRUE, 2+3i)\n",
        "\tprint(a&b)"
      ],
      "metadata": {
        "colab": {
          "base_uri": "https://localhost:8080/"
        },
        "id": "GM1aXmVIsdxo",
        "outputId": "e48c4a6f-9c9c-439d-8dda-99c9cbe55f03"
      },
      "execution_count": 48,
      "outputs": [
        {
          "output_type": "stream",
          "name": "stdout",
          "text": [
            "[1]  TRUE FALSE  TRUE  TRUE\n"
          ]
        }
      ]
    },
    {
      "cell_type": "code",
      "source": [
        "# | :\tThis operator is called the Logical OR operator. This operator takes the first element of both the vector and returns TRUE if one of them is TRUE.\n",
        "\ta <- c(3, 0, TRUE, 2+2i)\n",
        "\tb <- c(2, 4, TRUE, 2+3i)\n",
        "\tprint(a|b)"
      ],
      "metadata": {
        "colab": {
          "base_uri": "https://localhost:8080/"
        },
        "id": "jCD_FVYFsoFZ",
        "outputId": "18217977-fc48-4399-895d-dcb922aa2b65"
      },
      "execution_count": 49,
      "outputs": [
        {
          "output_type": "stream",
          "name": "stdout",
          "text": [
            "[1] TRUE TRUE TRUE TRUE\n"
          ]
        }
      ]
    },
    {
      "cell_type": "code",
      "source": [
        "# !\tThis operator is known as Logical NOT operator. This operator takes the first element of the vector and gives the opposite logical value as a result.\n",
        "\ta <- c(3, 0, TRUE, 2+2i)\n",
        "\tprint(!a)"
      ],
      "metadata": {
        "colab": {
          "base_uri": "https://localhost:8080/"
        },
        "id": "2rqZVSNMsr96",
        "outputId": "19a03780-609e-42bc-b3e6-74a5ea14a647"
      },
      "execution_count": 50,
      "outputs": [
        {
          "output_type": "stream",
          "name": "stdout",
          "text": [
            "[1] FALSE  TRUE FALSE FALSE\n"
          ]
        }
      ]
    },
    {
      "cell_type": "code",
      "source": [
        "# &&\tThis operator takes the first element of both the vector and gives TRUE as a result, only if both are TRUE.\n",
        "\ta <- c(3, 0, TRUE, 2+2i)\n",
        "\tb <- c(2, 4, TRUE, 2+3i)\n",
        "\tprint(a&&b)"
      ],
      "metadata": {
        "colab": {
          "base_uri": "https://localhost:8080/",
          "height": 144
        },
        "id": "aTwOeCi-swqv",
        "outputId": "a66e66c0-6030-49ca-db35-f94dbe0c7508"
      },
      "execution_count": 51,
      "outputs": [
        {
          "output_type": "error",
          "ename": "ERROR",
          "evalue": "ignored",
          "traceback": [
            "Error in a && b: 'length = 4' in coercion to 'logical(1)'\nTraceback:\n",
            "1. print(a && b)"
          ]
        }
      ]
    },
    {
      "cell_type": "code",
      "source": [
        "# ||:\tThis operator takes the first element of both the vector and gives the result TRUE, if one of them is true.\n",
        "\ta <- c(3, 0, TRUE, 2+2i)\n",
        "\tb <- c(2, 4, TRUE, 2+3i)\n",
        "\tprint(a||b)"
      ],
      "metadata": {
        "colab": {
          "base_uri": "https://localhost:8080/",
          "height": 144
        },
        "id": "xoyPS-0csy7a",
        "outputId": "930d1a38-1fad-4a67-8e34-9037c8427109"
      },
      "execution_count": 52,
      "outputs": [
        {
          "output_type": "error",
          "ename": "ERROR",
          "evalue": "ignored",
          "traceback": [
            "Error in a || b: 'length = 4' in coercion to 'logical(1)'\nTraceback:\n",
            "1. print(a || b)"
          ]
        }
      ]
    },
    {
      "cell_type": "markdown",
      "source": [
        "### Assignment Operators\n",
        "An assignment operator is used to assign a new value to a variable. In R, these operators are used to assign values to vectors. There are the following types of assignment"
      ],
      "metadata": {
        "id": "y-VMXseO-yEY"
      }
    },
    {
      "cell_type": "code",
      "source": [
        "#<- or = or <<-\t: These operators are known as left assignment operators.\n",
        "\ta <- c(3, 0, TRUE, 2+2i)\n",
        "\tb <<- c(2, 4, TRUE, 2+3i)\n",
        "\td = c(1, 2, TRUE, 2+3i)\n",
        "\tprint(a)\n",
        "\tprint(b)\n",
        "\tprint(d)"
      ],
      "metadata": {
        "colab": {
          "base_uri": "https://localhost:8080/"
        },
        "id": "Qa2D7SfH-uRX",
        "outputId": "4aed30f7-b4d1-45bc-aa4d-eb59c13c4bc7"
      },
      "execution_count": 53,
      "outputs": [
        {
          "output_type": "stream",
          "name": "stdout",
          "text": [
            "[1] 3+0i 0+0i 1+0i 2+2i\n",
            "[1] 2+0i 4+0i 1+0i 2+3i\n",
            "[1] 1+0i 2+0i 1+0i 2+3i\n"
          ]
        }
      ]
    },
    {
      "cell_type": "code",
      "source": [
        "#-> or ->>:\tThese operators are known as right assignment operators.\n",
        "\tc(3, 0, TRUE, 2+2i) -> a\n",
        "\tc(2, 4, TRUE, 2+3i) ->> b\n",
        "\tprint(a)\n",
        "\tprint(b)"
      ],
      "metadata": {
        "colab": {
          "base_uri": "https://localhost:8080/"
        },
        "id": "wvEkCkM6-5sE",
        "outputId": "f526eb7b-639f-462e-ff7e-1d19c2a59cce"
      },
      "execution_count": 54,
      "outputs": [
        {
          "output_type": "stream",
          "name": "stdout",
          "text": [
            "[1] 3+0i 0+0i 1+0i 2+2i\n",
            "[1] 2+0i 4+0i 1+0i 2+3i\n"
          ]
        }
      ]
    },
    {
      "cell_type": "markdown",
      "source": [
        "###Miscellaneous Operators\n",
        "Miscellaneous operators are used for a special and specific purpose. These operators are not used for general mathematical or logical computation. There are the following miscellaneous operators which are supported in R"
      ],
      "metadata": {
        "id": "T9keOFDw-_TD"
      }
    },
    {
      "cell_type": "code",
      "source": [
        "#:\tThe colon operator is used to create the series of numbers in sequence for a vector.\n",
        "\tv <- 1:8\n",
        "\tprint(v)"
      ],
      "metadata": {
        "colab": {
          "base_uri": "https://localhost:8080/"
        },
        "id": "5j2ODQUH-9mg",
        "outputId": "aebfa22d-e545-49a7-9e10-ffa2a9dc4e36"
      },
      "execution_count": 55,
      "outputs": [
        {
          "output_type": "stream",
          "name": "stdout",
          "text": [
            "[1] 1 2 3 4 5 6 7 8\n"
          ]
        }
      ]
    },
    {
      "cell_type": "code",
      "source": [
        "#%in%\t: This is used when we want to identify if an element belongs to a vector.\n",
        "\ta1 <- 8\n",
        "\ta2 <- 12\n",
        "\td <- 1:10\n",
        "\tprint(a1%in%t)\n",
        "\tprint(a2%in%t)"
      ],
      "metadata": {
        "colab": {
          "base_uri": "https://localhost:8080/",
          "height": 163
        },
        "id": "GZCx80g4_GS_",
        "outputId": "803c289d-1e30-460e-db64-ec9b879868bb"
      },
      "execution_count": 56,
      "outputs": [
        {
          "output_type": "error",
          "ename": "ERROR",
          "evalue": "ignored",
          "traceback": [
            "Error in match(x, table, nomatch = 0L): 'match' requires vector arguments\nTraceback:\n",
            "1. print(a1 %in% t)",
            "2. a1 %in% t"
          ]
        }
      ]
    },
    {
      "cell_type": "code",
      "source": [
        "# %*%:\tIt is used to multiply a matrix with its transpose.\n",
        "\tM=matrix(c(1,2,3,4,5,6), nrow=2, ncol=3, byrow=TRUE)\n",
        "\tT=m%*%T(M)\n",
        "\tprint(T)"
      ],
      "metadata": {
        "colab": {
          "base_uri": "https://localhost:8080/",
          "height": 108
        },
        "id": "-A4SC1LY_K2u",
        "outputId": "4426141e-ab51-4b9c-918c-fc74cee4107b"
      },
      "execution_count": 59,
      "outputs": [
        {
          "output_type": "error",
          "ename": "ERROR",
          "evalue": "ignored",
          "traceback": [
            "Error in T(M): could not find function \"T\"\nTraceback:\n"
          ]
        }
      ]
    },
    {
      "cell_type": "markdown",
      "source": [
        "###R if Statement"
      ],
      "metadata": {
        "id": "u8qlvStD_ZJN"
      }
    },
    {
      "cell_type": "code",
      "source": [
        "x <-24L\n",
        "y <- \"shubham\"\n",
        "if(is.integer(x))\n",
        "{\n",
        "    print(\"x is an Integer\")\n",
        "}"
      ],
      "metadata": {
        "colab": {
          "base_uri": "https://localhost:8080/"
        },
        "id": "nwvEmRIm_RuI",
        "outputId": "0380571d-5116-4535-a061-9e8979320868"
      },
      "execution_count": 60,
      "outputs": [
        {
          "output_type": "stream",
          "name": "stdout",
          "text": [
            "[1] \"x is an Integer\"\n"
          ]
        }
      ]
    },
    {
      "cell_type": "code",
      "source": [
        "x <-20\n",
        "y<-24\n",
        "count=0\n",
        "if(x<y)\n",
        "{\n",
        "    cat(x,\"is a smaller number\\n\")\n",
        "    count=1\n",
        "}\n",
        "if(count==1){\n",
        "    cat(\"Block is successfully execute\")\n",
        "}"
      ],
      "metadata": {
        "colab": {
          "base_uri": "https://localhost:8080/"
        },
        "id": "nZhHb6DZ_1Rv",
        "outputId": "5007b11f-2b73-4699-af53-0fbac547ab68"
      },
      "execution_count": 61,
      "outputs": [
        {
          "output_type": "stream",
          "name": "stdout",
          "text": [
            "20 is a smaller number\n",
            "Block is successfully execute"
          ]
        }
      ]
    },
    {
      "cell_type": "code",
      "source": [
        "x <-1\n",
        "y<-24\n",
        "count=0\n",
        "while(x<y){\n",
        "    cat(x,\"is a smaller number\\n\")\n",
        "    x=x+2\n",
        "    if(x==15)\n",
        "        break\n",
        "}"
      ],
      "metadata": {
        "colab": {
          "base_uri": "https://localhost:8080/"
        },
        "id": "P8VXgh_b_3iK",
        "outputId": "4dbec4c2-7a13-4103-f97d-0a95d82394cb"
      },
      "execution_count": 62,
      "outputs": [
        {
          "output_type": "stream",
          "name": "stdout",
          "text": [
            "1 is a smaller number\n",
            "3 is a smaller number\n",
            "5 is a smaller number\n",
            "7 is a smaller number\n",
            "9 is a smaller number\n",
            "11 is a smaller number\n",
            "13 is a smaller number\n"
          ]
        }
      ]
    },
    {
      "cell_type": "code",
      "source": [
        "x <-24\n",
        "if(x%%2==0){\n",
        "    cat(x,\" is an even number\")\n",
        "}\n",
        "if(x%%2!=0){\n",
        "    cat(x,\" is an odd number\")\n",
        "}"
      ],
      "metadata": {
        "colab": {
          "base_uri": "https://localhost:8080/"
        },
        "id": "nMj1d1nI_5tp",
        "outputId": "f438a206-65c2-4f21-a4dc-5bdff35465fc"
      },
      "execution_count": 63,
      "outputs": [
        {
          "output_type": "stream",
          "name": "stdout",
          "text": [
            "24  is an even number"
          ]
        }
      ]
    },
    {
      "cell_type": "code",
      "source": [
        "year1 = 2011\n",
        "if(year1 %% 4 == 0) {\n",
        " if(year1 %% 100 == 0) {\n",
        "     if(year1 %% 400 == 0) {\n",
        "         cat(year1,\"is a leap year\")\n",
        "        } else {\n",
        "         cat(year1,\"is not a leap year\")\n",
        "        }\n",
        "    } else {\n",
        "     cat(year1,\"is a leap year\")\n",
        "    }\n",
        "} else {\n",
        " cat(year1,\"is not a leap year\")\n",
        "}"
      ],
      "metadata": {
        "colab": {
          "base_uri": "https://localhost:8080/"
        },
        "id": "ALXpD0aG_71o",
        "outputId": "3b49f3f1-a41d-403f-a916-f0818ab16d10"
      },
      "execution_count": 66,
      "outputs": [
        {
          "output_type": "stream",
          "name": "stdout",
          "text": [
            "2011 is not a leap year"
          ]
        }
      ]
    },
    {
      "cell_type": "code",
      "source": [],
      "metadata": {
        "id": "BDrnEOEY_9qc"
      },
      "execution_count": null,
      "outputs": []
    }
  ]
}